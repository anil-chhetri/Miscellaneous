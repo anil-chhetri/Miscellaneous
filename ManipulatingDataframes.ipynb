{
  "nbformat": 4,
  "nbformat_minor": 0,
  "metadata": {
    "colab": {
      "name": "Untitled39.ipynb",
      "provenance": [],
      "authorship_tag": "ABX9TyMxOR+dI8A33dCXDqINF/bB",
      "include_colab_link": true
    },
    "kernelspec": {
      "name": "python3",
      "display_name": "Python 3"
    },
    "language_info": {
      "name": "python"
    }
  },
  "cells": [
    {
      "cell_type": "markdown",
      "metadata": {
        "id": "view-in-github",
        "colab_type": "text"
      },
      "source": [
        "<a href=\"https://colab.research.google.com/github/anil-chhetri/Miscellaneous/blob/main/ManipulatingDataframes.ipynb\" target=\"_parent\"><img src=\"https://colab.research.google.com/assets/colab-badge.svg\" alt=\"Open In Colab\"/></a>"
      ]
    },
    {
      "cell_type": "code",
      "execution_count": 2,
      "metadata": {
        "id": "womHsaAmZtrl"
      },
      "outputs": [],
      "source": [
        "!apt-get install openjdk-8-jdk-headless -qq > /dev/null\n",
        "!wget -q https://dlcdn.apache.org/spark/spark-3.2.1/spark-3.2.1-bin-hadoop3.2.tgz\n",
        "!tar xf spark-3.2.1-bin-hadoop3.2.tgz\n",
        "!pip install -q findspark\n",
        "import os\n",
        "os.environ[\"JAVA_HOME\"] = \"/usr/lib/jvm/java-8-openjdk-amd64\"\n",
        "os.environ[\"SPARK_HOME\"] = \"/content/spark-3.2.1-bin-hadoop3.2\"\n",
        "import findspark\n",
        "findspark.init()"
      ]
    },
    {
      "cell_type": "code",
      "source": [
        "from pyspark.sql import SparkSession\n",
        "spark = (SparkSession.builder\n",
        "        .master(\"local\")\n",
        "        .appName(\"Colab\")\n",
        "        .config('spark.ui.port', '4050')\n",
        "        .getOrCreate())"
      ],
      "metadata": {
        "id": "Q32hx-GLbMKh"
      },
      "execution_count": 3,
      "outputs": []
    },
    {
      "cell_type": "markdown",
      "source": [
        "**String Manipulation Functions**\n",
        "- Case Conversion - ``lower``, ``upper``\n",
        "- Getting Length - `length`\n",
        "- Extracting substrings - ``substring``, ``split``\n",
        "- Trimming - ``trim``, ``ltrim``, ``rtrim``\n",
        "- Padding - ``lpad``, ``rpad``\n",
        "- Concatenating string - ``concat``, ``concat_ws``\n",
        "\n",
        "**Date Manipulation Functions**\n",
        "- Getting current date and time - ``current_date``, ``current_timestamp``\n",
        "- Date Arithmetic - ``date_add``, ``date_sub``, ``datediff``, ``months_between``, ``add_months``, ``next_day``\n",
        "- Beginning and Ending Date or Time - ``last_day``, ``trunc``, ``date_trunc``\n",
        "- Formatting Date - ``date_format``\n",
        "- Extracting Information - ``dayofyear``, ``dayofmonth``, ``dayofweek``, ``year``, ``month``\n",
        "\n",
        "**Aggregate Functions**\n",
        "- ``count``, ``countDistinct``\n",
        "- ``sum``, ``avg``\n",
        "- ``min``, ``max``\n",
        "\n",
        "**Other Functions** - We will explore depending on the use cases.\n",
        "- ``CASE`` and ``WHEN``\n",
        "- ``CAST`` for type casting\n",
        "- Functions to manage special types such as ``ARRAY``, ``MAP``, ``STRUCT`` type columns\n",
        "- Many others"
      ],
      "metadata": {
        "id": "-dSIdjntK98j"
      }
    },
    {
      "cell_type": "code",
      "source": [
        "employees = [\n",
        "    (1, \"Scott\", \"Tiger\", 1000.0, \n",
        "      \"united states\", \"+1 123 456 7890\", \"123 45 6789\"\n",
        "    ),\n",
        "     (2, \"Henry\", \"Ford\", 1250.0, \n",
        "      \"India\", \"+91 234 567 8901\", \"456 78 9123\"\n",
        "     ),\n",
        "     (3, \"Nick\", \"Junior\", 750.0, \n",
        "      \"united KINGDOM\", \"+44 111 111 1111\", \"222 33 4444\"\n",
        "     ),\n",
        "     (4, \"Bill\", \"Gomes\", 1500.0, \n",
        "      \"AUSTRALIA\", \"+61 987 654 3210\", \"789 12 6118\"\n",
        "     )\n",
        "]"
      ],
      "metadata": {
        "id": "91HeEjQ4H2no"
      },
      "execution_count": 5,
      "outputs": []
    },
    {
      "cell_type": "code",
      "source": [
        "df = spark.createDataFrame(employees, schema=\"\"\"employee_id INT,  first_name STRING, \n",
        "                                                last_name STRING, salary FLOAT, \n",
        "                                                nationality STRING, phone_number STRING, ssn STRING \"\"\")"
      ],
      "metadata": {
        "id": "-Q2HEXlXN6J_"
      },
      "execution_count": 13,
      "outputs": []
    },
    {
      "cell_type": "code",
      "source": [
        "from pyspark.sql import functions as f"
      ],
      "metadata": {
        "id": "GBfcOeMXOSUE"
      },
      "execution_count": 14,
      "outputs": []
    },
    {
      "cell_type": "code",
      "source": [
        "help(f.lower)"
      ],
      "metadata": {
        "colab": {
          "base_uri": "https://localhost:8080/"
        },
        "id": "_LlDsIZeOk--",
        "outputId": "17b20993-cc65-4755-eabd-a61d773a72b4"
      },
      "execution_count": 15,
      "outputs": [
        {
          "output_type": "stream",
          "name": "stdout",
          "text": [
            "Help on function lower in module pyspark.sql.functions:\n",
            "\n",
            "lower(col)\n",
            "    Converts a string expression to lower case.\n",
            "    \n",
            "    .. versionadded:: 1.5\n",
            "\n"
          ]
        }
      ]
    },
    {
      "cell_type": "code",
      "source": [
        "df.withColumn('nationality', f.lower(f.col('nationality'))).show()"
      ],
      "metadata": {
        "colab": {
          "base_uri": "https://localhost:8080/"
        },
        "id": "K9hQxiqiOnoc",
        "outputId": "6829bc36-6018-4995-a902-0696de55c0d5"
      },
      "execution_count": 18,
      "outputs": [
        {
          "output_type": "stream",
          "name": "stdout",
          "text": [
            "+-----------+----------+---------+------+--------------+----------------+-----------+\n",
            "|employee_id|first_name|last_name|salary|   nationality|    phone_number|        ssn|\n",
            "+-----------+----------+---------+------+--------------+----------------+-----------+\n",
            "|          1|     Scott|    Tiger|1000.0| united states| +1 123 456 7890|123 45 6789|\n",
            "|          2|     Henry|     Ford|1250.0|         india|+91 234 567 8901|456 78 9123|\n",
            "|          3|      Nick|   Junior| 750.0|united kingdom|+44 111 111 1111|222 33 4444|\n",
            "|          4|      Bill|    Gomes|1500.0|     australia|+61 987 654 3210|789 12 6118|\n",
            "+-----------+----------+---------+------+--------------+----------------+-----------+\n",
            "\n"
          ]
        }
      ]
    },
    {
      "cell_type": "code",
      "source": [
        ""
      ],
      "metadata": {
        "id": "sUGICEslOvtR"
      },
      "execution_count": null,
      "outputs": []
    }
  ]
}