{
  "nbformat": 4,
  "nbformat_minor": 0,
  "metadata": {
    "colab": {
      "name": "DataFrame  string Manuplications.ipynb",
      "provenance": [],
      "authorship_tag": "ABX9TyOArpYqcmqPTMVKQ7UkgbTp",
      "include_colab_link": true
    },
    "kernelspec": {
      "name": "python3",
      "display_name": "Python 3"
    },
    "language_info": {
      "name": "python"
    }
  },
  "cells": [
    {
      "cell_type": "markdown",
      "metadata": {
        "id": "view-in-github",
        "colab_type": "text"
      },
      "source": [
        "<a href=\"https://colab.research.google.com/github/anil-chhetri/Miscellaneous/blob/main/%22Azure%20Databricks%22/DataFrame_string_Manuplications.ipynb\" target=\"_parent\"><img src=\"https://colab.research.google.com/assets/colab-badge.svg\" alt=\"Open In Colab\"/></a>"
      ]
    },
    {
      "cell_type": "code",
      "execution_count": 1,
      "metadata": {
        "id": "L2LHCtD0vjZK"
      },
      "outputs": [],
      "source": [
        "!apt-get install openjdk-8-jdk-headless -qq > /dev/null\n",
        "!wget -q https://dlcdn.apache.org/spark/spark-3.2.1/spark-3.2.1-bin-hadoop3.2.tgz\n",
        "!tar xf spark-3.2.1-bin-hadoop3.2.tgz\n",
        "!pip install -q findspark\n",
        "import os\n",
        "os.environ[\"JAVA_HOME\"] = \"/usr/lib/jvm/java-8-openjdk-amd64\"\n",
        "os.environ[\"SPARK_HOME\"] = \"/content/spark-3.2.1-bin-hadoop3.2\"\n",
        "import findspark\n",
        "findspark.init()\n",
        "from pyspark.sql import SparkSession\n",
        "spark = (SparkSession.builder\n",
        "        .master(\"local\")\n",
        "        .appName(\"Colab\")\n",
        "        .config('spark.ui.port', '4050')\n",
        "        .getOrCreate())"
      ]
    },
    {
      "cell_type": "code",
      "source": [
        "spark"
      ],
      "metadata": {
        "colab": {
          "base_uri": "https://localhost:8080/",
          "height": 219
        },
        "id": "HfnVH3G35M8M",
        "outputId": "bb24315a-e4b6-4c50-ad8f-2cd77ea9f414"
      },
      "execution_count": 2,
      "outputs": [
        {
          "output_type": "execute_result",
          "data": {
            "text/plain": [
              "<pyspark.sql.session.SparkSession at 0x7f7107731190>"
            ],
            "text/html": [
              "\n",
              "            <div>\n",
              "                <p><b>SparkSession - in-memory</b></p>\n",
              "                \n",
              "        <div>\n",
              "            <p><b>SparkContext</b></p>\n",
              "\n",
              "            <p><a href=\"http://b733e72c2c34:4050\">Spark UI</a></p>\n",
              "\n",
              "            <dl>\n",
              "              <dt>Version</dt>\n",
              "                <dd><code>v3.2.1</code></dd>\n",
              "              <dt>Master</dt>\n",
              "                <dd><code>local</code></dd>\n",
              "              <dt>AppName</dt>\n",
              "                <dd><code>Colab</code></dd>\n",
              "            </dl>\n",
              "        </div>\n",
              "        \n",
              "            </div>\n",
              "        "
            ]
          },
          "metadata": {},
          "execution_count": 2
        }
      ]
    },
    {
      "cell_type": "code",
      "source": [
        "employees = [(1, \"Scott\", \"Tiger\", 1000.0, \n",
        "                      \"united states\", \"+1 123 456 7890\", \"123 45 6789\"\n",
        "                     ),\n",
        "                     (2, \"Henry\", \"Ford\", 1250.0, \n",
        "                      \"India\", \"+91 234 567 8901\", \"456 78 9123\"\n",
        "                     ),\n",
        "                     (3, \"Nick\", \"Junior\", 750.0, \n",
        "                      \"united KINGDOM\", \"+44 111 111 1111\", \"222 33 4444\"\n",
        "                     ),\n",
        "                     (4, \"Bill\", \"Gomes\", 1500.0, \n",
        "                      \"AUSTRALIA\", \"+61 987 654 3210\", \"789 12 6118\"\n",
        "                     )\n",
        "                ]"
      ],
      "metadata": {
        "id": "VmO3Lv3h7gXE"
      },
      "execution_count": 21,
      "outputs": []
    },
    {
      "cell_type": "code",
      "source": [
        "df = spark.createDataFrame(employees, schema=\"\"\" employee_id INT, first_name STRING, last_name STRING, \n",
        "                                              salary FLOAT, nationality STRING, phone_numbers STRING, ssn STRING \"\"\")"
      ],
      "metadata": {
        "id": "8WAcRs1n8-Wj"
      },
      "execution_count": 22,
      "outputs": []
    },
    {
      "cell_type": "code",
      "source": [
        "df.show()"
      ],
      "metadata": {
        "colab": {
          "base_uri": "https://localhost:8080/"
        },
        "id": "Yx_WShn_9T31",
        "outputId": "222b1d0f-617f-4598-f6cd-89f1cfd1910a"
      },
      "execution_count": 24,
      "outputs": [
        {
          "output_type": "stream",
          "name": "stdout",
          "text": [
            "+-----------+----------+---------+------+--------------+----------------+-----------+\n",
            "|employee_id|first_name|last_name|salary|   nationality|   phone_numbers|        ssn|\n",
            "+-----------+----------+---------+------+--------------+----------------+-----------+\n",
            "|          1|     Scott|    Tiger|1000.0| united states| +1 123 456 7890|123 45 6789|\n",
            "|          2|     Henry|     Ford|1250.0|         India|+91 234 567 8901|456 78 9123|\n",
            "|          3|      Nick|   Junior| 750.0|united KINGDOM|+44 111 111 1111|222 33 4444|\n",
            "|          4|      Bill|    Gomes|1500.0|     AUSTRALIA|+61 987 654 3210|789 12 6118|\n",
            "+-----------+----------+---------+------+--------------+----------------+-----------+\n",
            "\n"
          ]
        }
      ]
    },
    {
      "cell_type": "code",
      "source": [
        "from pyspark.sql import functions as f"
      ],
      "metadata": {
        "id": "wq5Gfze29wuE"
      },
      "execution_count": 25,
      "outputs": []
    },
    {
      "cell_type": "code",
      "source": [
        "df.select('*', f.concat(f.col('first_name'), f.lit(', '), f.col('last_name')).alias('fullname')).show()"
      ],
      "metadata": {
        "colab": {
          "base_uri": "https://localhost:8080/"
        },
        "id": "rUhRyZzm9mxF",
        "outputId": "afc697d6-c311-43f1-b088-0b1dcb7b149d"
      },
      "execution_count": 27,
      "outputs": [
        {
          "output_type": "stream",
          "name": "stdout",
          "text": [
            "+-----------+----------+---------+------+--------------+----------------+-----------+------------+\n",
            "|employee_id|first_name|last_name|salary|   nationality|   phone_numbers|        ssn|    fullname|\n",
            "+-----------+----------+---------+------+--------------+----------------+-----------+------------+\n",
            "|          1|     Scott|    Tiger|1000.0| united states| +1 123 456 7890|123 45 6789|Scott, Tiger|\n",
            "|          2|     Henry|     Ford|1250.0|         India|+91 234 567 8901|456 78 9123| Henry, Ford|\n",
            "|          3|      Nick|   Junior| 750.0|united KINGDOM|+44 111 111 1111|222 33 4444|Nick, Junior|\n",
            "|          4|      Bill|    Gomes|1500.0|     AUSTRALIA|+61 987 654 3210|789 12 6118| Bill, Gomes|\n",
            "+-----------+----------+---------+------+--------------+----------------+-----------+------------+\n",
            "\n"
          ]
        }
      ]
    },
    {
      "cell_type": "code",
      "source": [
        "df.withColumn('fullName', f.concat(f.col('first_name'), f.lit(', '), f.col('last_name'))).show()"
      ],
      "metadata": {
        "colab": {
          "base_uri": "https://localhost:8080/"
        },
        "id": "6je8N4UO987k",
        "outputId": "cf0112c6-993a-4b9b-baca-6687fec34904"
      },
      "execution_count": 28,
      "outputs": [
        {
          "output_type": "stream",
          "name": "stdout",
          "text": [
            "+-----------+----------+---------+------+--------------+----------------+-----------+------------+\n",
            "|employee_id|first_name|last_name|salary|   nationality|   phone_numbers|        ssn|    fullName|\n",
            "+-----------+----------+---------+------+--------------+----------------+-----------+------------+\n",
            "|          1|     Scott|    Tiger|1000.0| united states| +1 123 456 7890|123 45 6789|Scott, Tiger|\n",
            "|          2|     Henry|     Ford|1250.0|         India|+91 234 567 8901|456 78 9123| Henry, Ford|\n",
            "|          3|      Nick|   Junior| 750.0|united KINGDOM|+44 111 111 1111|222 33 4444|Nick, Junior|\n",
            "|          4|      Bill|    Gomes|1500.0|     AUSTRALIA|+61 987 654 3210|789 12 6118| Bill, Gomes|\n",
            "+-----------+----------+---------+------+--------------+----------------+-----------+------------+\n",
            "\n"
          ]
        }
      ]
    },
    {
      "cell_type": "code",
      "source": [
        "help(f.concat_ws)"
      ],
      "metadata": {
        "colab": {
          "base_uri": "https://localhost:8080/"
        },
        "id": "iT5O-Vy5-KkU",
        "outputId": "6f7f6c07-175d-4db8-b485-9668a40b477c"
      },
      "execution_count": 29,
      "outputs": [
        {
          "output_type": "stream",
          "name": "stdout",
          "text": [
            "Help on function concat_ws in module pyspark.sql.functions:\n",
            "\n",
            "concat_ws(sep, *cols)\n",
            "    Concatenates multiple input string columns together into a single string column,\n",
            "    using the given separator.\n",
            "    \n",
            "    .. versionadded:: 1.5.0\n",
            "    \n",
            "    Examples\n",
            "    --------\n",
            "    >>> df = spark.createDataFrame([('abcd','123')], ['s', 'd'])\n",
            "    >>> df.select(concat_ws('-', df.s, df.d).alias('s')).collect()\n",
            "    [Row(s='abcd-123')]\n",
            "\n"
          ]
        }
      ]
    },
    {
      "cell_type": "code",
      "source": [
        "#@title\n",
        "adress = [{\n",
        "  \"address\": \"89 Rusk Court\",\n",
        "  \"city\": \"Portland\",\n",
        "  \"country\": \"United States\",\n",
        "  \"id\": 1,\n",
        "  \"postal_code\": \"97232\",\n",
        "  \"state\": \"Oregon\"\n",
        "}, {\n",
        "  \"address\": \"87 Dakota Pass\",\n",
        "  \"city\": \"Tampa\",\n",
        "  \"country\": \"United States\",\n",
        "  \"id\": 2,\n",
        "  \"postal_code\": \"33661\",\n",
        "  \"state\": \"Florida\"\n",
        "}, {\n",
        "  \"address\": \"15 Shelley Circle\",\n",
        "  \"city\": \"Lakeland\",\n",
        "  \"country\": \"United States\",\n",
        "  \"id\": 3,\n",
        "  \"postal_code\": \"33811\",\n",
        "  \"state\": \"Florida\"\n",
        "}, {\n",
        "  \"address\": \"12522 Fulton Way\",\n",
        "  \"city\": \"Oklahoma City\",\n",
        "  \"country\": \"United States\",\n",
        "  \"id\": 4,\n",
        "  \"postal_code\": \"73114\",\n",
        "  \"state\": \"Oklahoma\"\n",
        "}, {\n",
        "  \"address\": \"9 Dapin Hill\",\n",
        "  \"city\": \"Fairbanks\",\n",
        "  \"country\": \"United States\",\n",
        "  \"id\": 5,\n",
        "  \"postal_code\": \"99709\",\n",
        "  \"state\": \"Alaska\"\n",
        "}, {\n",
        "  \"address\": \"154 Westend Park\",\n",
        "  \"city\": \"Colorado Springs\",\n",
        "  \"country\": \"United States\",\n",
        "  \"id\": 6,\n",
        "  \"postal_code\": \"80910\",\n",
        "  \"state\": \"Colorado\"\n",
        "}, {\n",
        "  \"address\": \"817 Oakridge Park\",\n",
        "  \"city\": \"Bronx\",\n",
        "  \"country\": \"United States\",\n",
        "  \"id\": 7,\n",
        "  \"postal_code\": \"10464\",\n",
        "  \"state\": \"New York\"\n",
        "}, {\n",
        "  \"address\": \"119 Fair Oaks Avenue\",\n",
        "  \"city\": \"Washington\",\n",
        "  \"country\": \"United States\",\n",
        "  \"id\": 8,\n",
        "  \"postal_code\": \"20404\",\n",
        "  \"state\": \"District of Columbia\"\n",
        "}, {\n",
        "  \"address\": \"8 Shelley Pass\",\n",
        "  \"city\": \"Anderson\",\n",
        "  \"country\": \"United States\",\n",
        "  \"id\": 9,\n",
        "  \"postal_code\": \"46015\",\n",
        "  \"state\": \"Indiana\"\n",
        "}, {\n",
        "  \"address\": \"092 Homewood Park\",\n",
        "  \"city\": \"Fullerton\",\n",
        "  \"country\": \"United States\",\n",
        "  \"id\": 10,\n",
        "  \"postal_code\": \"92835\",\n",
        "  \"state\": \"California\"\n",
        "}, {\n",
        "  \"address\": \"17206 Daystar Point\",\n",
        "  \"city\": \"Flint\",\n",
        "  \"country\": \"United States\",\n",
        "  \"id\": 11,\n",
        "  \"postal_code\": \"48505\",\n",
        "  \"state\": \"Michigan\"\n",
        "}, {\n",
        "  \"address\": \"6 Spenser Lane\",\n",
        "  \"city\": \"Las Vegas\",\n",
        "  \"country\": \"United States\",\n",
        "  \"id\": 12,\n",
        "  \"postal_code\": \"89155\",\n",
        "  \"state\": \"Nevada\"\n",
        "}, {\n",
        "  \"address\": \"2463 Cody Place\",\n",
        "  \"city\": \"Nashville\",\n",
        "  \"country\": \"United States\",\n",
        "  \"id\": 13,\n",
        "  \"postal_code\": \"37205\",\n",
        "  \"state\": \"Tennessee\"\n",
        "}, {\n",
        "  \"address\": \"9590 Pennsylvania Park\",\n",
        "  \"city\": \"San Diego\",\n",
        "  \"country\": \"United States\",\n",
        "  \"id\": 14,\n",
        "  \"postal_code\": \"92132\",\n",
        "  \"state\": \"California\"\n",
        "}, {\n",
        "  \"address\": \"2226 Barby Parkway\",\n",
        "  \"city\": \"Valley Forge\",\n",
        "  \"country\": \"United States\",\n",
        "  \"id\": 15,\n",
        "  \"postal_code\": \"19495\",\n",
        "  \"state\": \"Pennsylvania\"\n",
        "}, {\n",
        "  \"address\": \"9468 Lukken Center\",\n",
        "  \"city\": \"San Francisco\",\n",
        "  \"country\": \"United States\",\n",
        "  \"id\": 16,\n",
        "  \"postal_code\": \"94159\",\n",
        "  \"state\": \"California\"\n",
        "}, {\n",
        "  \"address\": \"95755 Fairfield Avenue\",\n",
        "  \"city\": \"Chandler\",\n",
        "  \"country\": \"United States\",\n",
        "  \"id\": 17,\n",
        "  \"postal_code\": \"85246\",\n",
        "  \"state\": \"Arizona\"\n",
        "}, {\n",
        "  \"address\": \"596 Dunning Street\",\n",
        "  \"city\": \"Montgomery\",\n",
        "  \"country\": \"United States\",\n",
        "  \"id\": 18,\n",
        "  \"postal_code\": \"36177\",\n",
        "  \"state\": \"Alabama\"\n",
        "}, {\n",
        "  \"address\": \"48294 Superior Trail\",\n",
        "  \"city\": \"El Paso\",\n",
        "  \"country\": \"United States\",\n",
        "  \"id\": 19,\n",
        "  \"postal_code\": \"88584\",\n",
        "  \"state\": \"Texas\"\n",
        "}, {\n",
        "  \"address\": \"96315 Arizona Pass\",\n",
        "  \"city\": \"Appleton\",\n",
        "  \"country\": \"United States\",\n",
        "  \"id\": 20,\n",
        "  \"postal_code\": \"54915\",\n",
        "  \"state\": \"Wisconsin\"\n",
        "}, {\n",
        "  \"address\": \"26142 Tony Trail\",\n",
        "  \"city\": \"Kingsport\",\n",
        "  \"country\": \"United States\",\n",
        "  \"id\": 21,\n",
        "  \"postal_code\": \"37665\",\n",
        "  \"state\": \"Tennessee\"\n",
        "}, {\n",
        "  \"address\": \"5036 Everett Point\",\n",
        "  \"city\": \"Las Vegas\",\n",
        "  \"country\": \"United States\",\n",
        "  \"id\": 22,\n",
        "  \"postal_code\": \"89125\",\n",
        "  \"state\": \"Nevada\"\n",
        "}, {\n",
        "  \"address\": \"10 Spenser Terrace\",\n",
        "  \"city\": \"Wilmington\",\n",
        "  \"country\": \"United States\",\n",
        "  \"id\": 23,\n",
        "  \"postal_code\": \"19810\",\n",
        "  \"state\": \"Delaware\"\n",
        "}, {\n",
        "  \"address\": \"27 Dayton Lane\",\n",
        "  \"city\": \"Las Vegas\",\n",
        "  \"country\": \"United States\",\n",
        "  \"id\": 24,\n",
        "  \"postal_code\": \"89130\",\n",
        "  \"state\": \"Nevada\"\n",
        "}, {\n",
        "  \"address\": \"50945 Vahlen Point\",\n",
        "  \"city\": \"Champaign\",\n",
        "  \"country\": \"United States\",\n",
        "  \"id\": 25,\n",
        "  \"postal_code\": \"61825\",\n",
        "  \"state\": \"Illinois\"\n",
        "}, {\n",
        "  \"address\": \"57897 Farragut Hill\",\n",
        "  \"city\": \"Billings\",\n",
        "  \"country\": \"United States\",\n",
        "  \"id\": 26,\n",
        "  \"postal_code\": \"59112\",\n",
        "  \"state\": \"Montana\"\n",
        "}, {\n",
        "  \"address\": \"871 Dunning Avenue\",\n",
        "  \"city\": \"Shreveport\",\n",
        "  \"country\": \"United States\",\n",
        "  \"id\": 27,\n",
        "  \"postal_code\": \"71115\",\n",
        "  \"state\": \"Louisiana\"\n",
        "}, {\n",
        "  \"address\": \"9399 Myrtle Avenue\",\n",
        "  \"city\": \"Bradenton\",\n",
        "  \"country\": \"United States\",\n",
        "  \"id\": 28,\n",
        "  \"postal_code\": \"34210\",\n",
        "  \"state\": \"Florida\"\n",
        "}, {\n",
        "  \"address\": \"0 Northport Trail\",\n",
        "  \"city\": \"Minneapolis\",\n",
        "  \"country\": \"United States\",\n",
        "  \"id\": 29,\n",
        "  \"postal_code\": \"55446\",\n",
        "  \"state\": \"Minnesota\"\n",
        "}, {\n",
        "  \"address\": \"6 Ridgeway Point\",\n",
        "  \"city\": \"Pompano Beach\",\n",
        "  \"country\": \"United States\",\n",
        "  \"id\": 30,\n",
        "  \"postal_code\": \"33075\",\n",
        "  \"state\": \"Florida\"\n",
        "}, {\n",
        "  \"address\": \"981 Randy Avenue\",\n",
        "  \"city\": \"Corona\",\n",
        "  \"country\": \"United States\",\n",
        "  \"id\": 31,\n",
        "  \"postal_code\": \"92878\",\n",
        "  \"state\": \"California\"\n",
        "}, {\n",
        "  \"address\": \"09 Ohio Place\",\n",
        "  \"city\": \"Winston Salem\",\n",
        "  \"country\": \"United States\",\n",
        "  \"id\": 32,\n",
        "  \"postal_code\": \"27157\",\n",
        "  \"state\": \"North Carolina\"\n",
        "}, {\n",
        "  \"address\": \"07306 Dixon Road\",\n",
        "  \"city\": \"Sarasota\",\n",
        "  \"country\": \"United States\",\n",
        "  \"id\": 33,\n",
        "  \"postal_code\": \"34276\",\n",
        "  \"state\": \"Florida\"\n",
        "}, {\n",
        "  \"address\": \"291 Bayside Crossing\",\n",
        "  \"city\": \"San Diego\",\n",
        "  \"country\": \"United States\",\n",
        "  \"id\": 34,\n",
        "  \"postal_code\": \"92176\",\n",
        "  \"state\": \"California\"\n",
        "}, {\n",
        "  \"address\": \"6161 Pleasure Point\",\n",
        "  \"city\": \"Atlanta\",\n",
        "  \"country\": \"United States\",\n",
        "  \"id\": 35,\n",
        "  \"postal_code\": \"30336\",\n",
        "  \"state\": \"Georgia\"\n",
        "}, {\n",
        "  \"address\": \"36 Summerview Street\",\n",
        "  \"city\": \"Tulsa\",\n",
        "  \"country\": \"United States\",\n",
        "  \"id\": 36,\n",
        "  \"postal_code\": \"74149\",\n",
        "  \"state\": \"Oklahoma\"\n",
        "}, {\n",
        "  \"address\": \"7 Marquette Pass\",\n",
        "  \"city\": \"Washington\",\n",
        "  \"country\": \"United States\",\n",
        "  \"id\": 37,\n",
        "  \"postal_code\": \"20260\",\n",
        "  \"state\": \"District of Columbia\"\n",
        "}, {\n",
        "  \"address\": \"4711 Darwin Center\",\n",
        "  \"city\": \"Atlanta\",\n",
        "  \"country\": \"United States\",\n",
        "  \"id\": 38,\n",
        "  \"postal_code\": \"30392\",\n",
        "  \"state\": \"Georgia\"\n",
        "}, {\n",
        "  \"address\": \"28 Holy Cross Plaza\",\n",
        "  \"city\": \"Philadelphia\",\n",
        "  \"country\": \"United States\",\n",
        "  \"id\": 39,\n",
        "  \"postal_code\": \"19120\",\n",
        "  \"state\": \"Pennsylvania\"\n",
        "}, {\n",
        "  \"address\": \"43262 Crowley Park\",\n",
        "  \"city\": \"Tulsa\",\n",
        "  \"country\": \"United States\",\n",
        "  \"id\": 40,\n",
        "  \"postal_code\": \"74108\",\n",
        "  \"state\": \"Oklahoma\"\n",
        "}, {\n",
        "  \"address\": \"44 Dixon Drive\",\n",
        "  \"city\": \"Dallas\",\n",
        "  \"country\": \"United States\",\n",
        "  \"id\": 41,\n",
        "  \"postal_code\": \"75353\",\n",
        "  \"state\": \"Texas\"\n",
        "}, {\n",
        "  \"address\": \"42493 Chive Road\",\n",
        "  \"city\": \"Houston\",\n",
        "  \"country\": \"United States\",\n",
        "  \"id\": 42,\n",
        "  \"postal_code\": \"77228\",\n",
        "  \"state\": \"Texas\"\n",
        "}, {\n",
        "  \"address\": \"645 Starling Place\",\n",
        "  \"city\": \"Hialeah\",\n",
        "  \"country\": \"United States\",\n",
        "  \"id\": 43,\n",
        "  \"postal_code\": \"33018\",\n",
        "  \"state\": \"Florida\"\n",
        "}, {\n",
        "  \"address\": \"92942 Waywood Crossing\",\n",
        "  \"city\": \"Lansing\",\n",
        "  \"country\": \"United States\",\n",
        "  \"id\": 44,\n",
        "  \"postal_code\": \"48912\",\n",
        "  \"state\": \"Michigan\"\n",
        "}, {\n",
        "  \"address\": \"30 Dorton Circle\",\n",
        "  \"city\": \"Yakima\",\n",
        "  \"country\": \"United States\",\n",
        "  \"id\": 45,\n",
        "  \"postal_code\": \"98907\",\n",
        "  \"state\": \"Washington\"\n",
        "}, {\n",
        "  \"address\": \"0677 John Wall Pass\",\n",
        "  \"city\": \"Phoenix\",\n",
        "  \"country\": \"United States\",\n",
        "  \"id\": 46,\n",
        "  \"postal_code\": \"85010\",\n",
        "  \"state\": \"Arizona\"\n",
        "}, {\n",
        "  \"address\": \"23432 Dixon Court\",\n",
        "  \"city\": \"Meridian\",\n",
        "  \"country\": \"United States\",\n",
        "  \"id\": 47,\n",
        "  \"postal_code\": \"39305\",\n",
        "  \"state\": \"Mississippi\"\n",
        "}, {\n",
        "  \"address\": \"649 Debra Point\",\n",
        "  \"city\": \"Salt Lake City\",\n",
        "  \"country\": \"United States\",\n",
        "  \"id\": 48,\n",
        "  \"postal_code\": \"84140\",\n",
        "  \"state\": \"Utah\"\n",
        "}, {\n",
        "  \"address\": \"50 Jenifer Parkway\",\n",
        "  \"city\": \"Jacksonville\",\n",
        "  \"country\": \"United States\",\n",
        "  \"id\": 49,\n",
        "  \"postal_code\": \"32230\",\n",
        "  \"state\": \"Florida\"\n",
        "}, {\n",
        "  \"address\": \"8845 Gerald Point\",\n",
        "  \"city\": \"Allentown\",\n",
        "  \"country\": \"United States\",\n",
        "  \"id\": 50,\n",
        "  \"postal_code\": \"18105\",\n",
        "  \"state\": \"Pennsylvania\"\n",
        "}, {\n",
        "  \"address\": \"76457 Nancy Parkway\",\n",
        "  \"city\": \"Dallas\",\n",
        "  \"country\": \"United States\",\n",
        "  \"id\": 51,\n",
        "  \"postal_code\": \"75210\",\n",
        "  \"state\": \"Texas\"\n",
        "}, {\n",
        "  \"address\": \"91546 Badeau Trail\",\n",
        "  \"city\": \"Columbus\",\n",
        "  \"country\": \"United States\",\n",
        "  \"id\": 52,\n",
        "  \"postal_code\": \"31998\",\n",
        "  \"state\": \"Georgia\"\n",
        "}, {\n",
        "  \"address\": \"1688 Pearson Plaza\",\n",
        "  \"city\": \"Canton\",\n",
        "  \"country\": \"United States\",\n",
        "  \"id\": 53,\n",
        "  \"postal_code\": \"44710\",\n",
        "  \"state\": \"Ohio\"\n",
        "}, {\n",
        "  \"address\": \"83 Lawn Avenue\",\n",
        "  \"city\": \"Sacramento\",\n",
        "  \"country\": \"United States\",\n",
        "  \"id\": 54,\n",
        "  \"postal_code\": \"94273\",\n",
        "  \"state\": \"California\"\n",
        "}, {\n",
        "  \"address\": \"46 Harper Hill\",\n",
        "  \"city\": \"Southfield\",\n",
        "  \"country\": \"United States\",\n",
        "  \"id\": 55,\n",
        "  \"postal_code\": \"48076\",\n",
        "  \"state\": \"Michigan\"\n",
        "}, {\n",
        "  \"address\": \"5521 Homewood Drive\",\n",
        "  \"city\": \"Washington\",\n",
        "  \"country\": \"United States\",\n",
        "  \"id\": 56,\n",
        "  \"postal_code\": \"20436\",\n",
        "  \"state\": \"District of Columbia\"\n",
        "}, {\n",
        "  \"address\": \"8 Muir Road\",\n",
        "  \"city\": \"Corona\",\n",
        "  \"country\": \"United States\",\n",
        "  \"id\": 57,\n",
        "  \"postal_code\": \"92878\",\n",
        "  \"state\": \"California\"\n",
        "}, {\n",
        "  \"address\": \"01251 Coleman Parkway\",\n",
        "  \"city\": \"Garland\",\n",
        "  \"country\": \"United States\",\n",
        "  \"id\": 58,\n",
        "  \"postal_code\": \"75049\",\n",
        "  \"state\": \"Texas\"\n",
        "}, {\n",
        "  \"address\": \"4 Artisan Plaza\",\n",
        "  \"city\": \"Worcester\",\n",
        "  \"country\": \"United States\",\n",
        "  \"id\": 59,\n",
        "  \"postal_code\": \"01605\",\n",
        "  \"state\": \"Massachusetts\"\n",
        "}, {\n",
        "  \"address\": \"8834 Sutherland Lane\",\n",
        "  \"city\": \"West Palm Beach\",\n",
        "  \"country\": \"United States\",\n",
        "  \"id\": 60,\n",
        "  \"postal_code\": \"33411\",\n",
        "  \"state\": \"Florida\"\n",
        "}, {\n",
        "  \"address\": \"962 Cascade Avenue\",\n",
        "  \"city\": \"Norwalk\",\n",
        "  \"country\": \"United States\",\n",
        "  \"id\": 61,\n",
        "  \"postal_code\": \"06859\",\n",
        "  \"state\": \"Connecticut\"\n",
        "}, {\n",
        "  \"address\": \"538 Memorial Street\",\n",
        "  \"city\": \"Columbus\",\n",
        "  \"country\": \"United States\",\n",
        "  \"id\": 62,\n",
        "  \"postal_code\": \"31914\",\n",
        "  \"state\": \"Georgia\"\n",
        "}, {\n",
        "  \"address\": \"7757 Carioca Plaza\",\n",
        "  \"city\": \"Akron\",\n",
        "  \"country\": \"United States\",\n",
        "  \"id\": 63,\n",
        "  \"postal_code\": \"44329\",\n",
        "  \"state\": \"Ohio\"\n",
        "}, {\n",
        "  \"address\": \"75793 Talmadge Avenue\",\n",
        "  \"city\": \"Washington\",\n",
        "  \"country\": \"United States\",\n",
        "  \"id\": 64,\n",
        "  \"postal_code\": \"20238\",\n",
        "  \"state\": \"District of Columbia\"\n",
        "}, {\n",
        "  \"address\": \"9643 Mcguire Pass\",\n",
        "  \"city\": \"New York City\",\n",
        "  \"country\": \"United States\",\n",
        "  \"id\": 65,\n",
        "  \"postal_code\": \"10004\",\n",
        "  \"state\": \"New York\"\n",
        "}, {\n",
        "  \"address\": \"07921 Bluejay Terrace\",\n",
        "  \"city\": \"Charlotte\",\n",
        "  \"country\": \"United States\",\n",
        "  \"id\": 66,\n",
        "  \"postal_code\": \"28210\",\n",
        "  \"state\": \"North Carolina\"\n",
        "}, {\n",
        "  \"address\": \"385 Brentwood Trail\",\n",
        "  \"city\": \"Oklahoma City\",\n",
        "  \"country\": \"United States\",\n",
        "  \"id\": 67,\n",
        "  \"postal_code\": \"73147\",\n",
        "  \"state\": \"Oklahoma\"\n",
        "}, {\n",
        "  \"address\": \"60 Manufacturers Drive\",\n",
        "  \"city\": \"Albuquerque\",\n",
        "  \"country\": \"United States\",\n",
        "  \"id\": 68,\n",
        "  \"postal_code\": \"87110\",\n",
        "  \"state\": \"New Mexico\"\n",
        "}, {\n",
        "  \"address\": \"69 Kim Terrace\",\n",
        "  \"city\": \"Glendale\",\n",
        "  \"country\": \"United States\",\n",
        "  \"id\": 69,\n",
        "  \"postal_code\": \"91205\",\n",
        "  \"state\": \"California\"\n",
        "}, {\n",
        "  \"address\": \"39 Graedel Street\",\n",
        "  \"city\": \"San Antonio\",\n",
        "  \"country\": \"United States\",\n",
        "  \"id\": 70,\n",
        "  \"postal_code\": \"78255\",\n",
        "  \"state\": \"Texas\"\n",
        "}, {\n",
        "  \"address\": \"45 Buhler Center\",\n",
        "  \"city\": \"Tuscaloosa\",\n",
        "  \"country\": \"United States\",\n",
        "  \"id\": 71,\n",
        "  \"postal_code\": \"35487\",\n",
        "  \"state\": \"Alabama\"\n",
        "}, {\n",
        "  \"address\": \"6235 Bellgrove Point\",\n",
        "  \"city\": \"North Port\",\n",
        "  \"country\": \"United States\",\n",
        "  \"id\": 72,\n",
        "  \"postal_code\": \"34290\",\n",
        "  \"state\": \"Florida\"\n",
        "}, {\n",
        "  \"address\": \"58 Springview Park\",\n",
        "  \"city\": \"Oklahoma City\",\n",
        "  \"country\": \"United States\",\n",
        "  \"id\": 73,\n",
        "  \"postal_code\": \"73157\",\n",
        "  \"state\": \"Oklahoma\"\n",
        "}, {\n",
        "  \"address\": \"83 Old Shore Plaza\",\n",
        "  \"city\": \"Evansville\",\n",
        "  \"country\": \"United States\",\n",
        "  \"id\": 74,\n",
        "  \"postal_code\": \"47719\",\n",
        "  \"state\": \"Indiana\"\n",
        "}, {\n",
        "  \"address\": \"6 Melby Terrace\",\n",
        "  \"city\": \"Indianapolis\",\n",
        "  \"country\": \"United States\",\n",
        "  \"id\": 75,\n",
        "  \"postal_code\": \"46207\",\n",
        "  \"state\": \"Indiana\"\n",
        "}, {\n",
        "  \"address\": \"11860 Donald Way\",\n",
        "  \"city\": \"Zephyrhills\",\n",
        "  \"country\": \"United States\",\n",
        "  \"id\": 76,\n",
        "  \"postal_code\": \"33543\",\n",
        "  \"state\": \"Florida\"\n",
        "}, {\n",
        "  \"address\": \"38423 Merchant Center\",\n",
        "  \"city\": \"Memphis\",\n",
        "  \"country\": \"United States\",\n",
        "  \"id\": 77,\n",
        "  \"postal_code\": \"38104\",\n",
        "  \"state\": \"Tennessee\"\n",
        "}, {\n",
        "  \"address\": \"65893 Texas Pass\",\n",
        "  \"city\": \"Houston\",\n",
        "  \"country\": \"United States\",\n",
        "  \"id\": 78,\n",
        "  \"postal_code\": \"77055\",\n",
        "  \"state\": \"Texas\"\n",
        "}, {\n",
        "  \"address\": \"25707 Valley Edge Way\",\n",
        "  \"city\": \"Little Rock\",\n",
        "  \"country\": \"United States\",\n",
        "  \"id\": 79,\n",
        "  \"postal_code\": \"72209\",\n",
        "  \"state\": \"Arkansas\"\n",
        "}, {\n",
        "  \"address\": \"3 Stuart Drive\",\n",
        "  \"city\": \"Youngstown\",\n",
        "  \"country\": \"United States\",\n",
        "  \"id\": 80,\n",
        "  \"postal_code\": \"44511\",\n",
        "  \"state\": \"Ohio\"\n",
        "}, {\n",
        "  \"address\": \"165 Monterey Point\",\n",
        "  \"city\": \"Bronx\",\n",
        "  \"country\": \"United States\",\n",
        "  \"id\": 81,\n",
        "  \"postal_code\": \"10459\",\n",
        "  \"state\": \"New York\"\n",
        "}, {\n",
        "  \"address\": \"1022 Sugar Point\",\n",
        "  \"city\": \"Syracuse\",\n",
        "  \"country\": \"United States\",\n",
        "  \"id\": 82,\n",
        "  \"postal_code\": \"13205\",\n",
        "  \"state\": \"New York\"\n",
        "}, {\n",
        "  \"address\": \"317 Saint Paul Lane\",\n",
        "  \"city\": \"Des Moines\",\n",
        "  \"country\": \"United States\",\n",
        "  \"id\": 83,\n",
        "  \"postal_code\": \"50981\",\n",
        "  \"state\": \"Iowa\"\n",
        "}, {\n",
        "  \"address\": \"48683 Eagle Crest Way\",\n",
        "  \"city\": \"Newark\",\n",
        "  \"country\": \"United States\",\n",
        "  \"id\": 84,\n",
        "  \"postal_code\": \"19725\",\n",
        "  \"state\": \"Delaware\"\n",
        "}, {\n",
        "  \"address\": \"87 Rieder Trail\",\n",
        "  \"city\": \"Phoenix\",\n",
        "  \"country\": \"United States\",\n",
        "  \"id\": 85,\n",
        "  \"postal_code\": \"85025\",\n",
        "  \"state\": \"Arizona\"\n",
        "}, {\n",
        "  \"address\": \"128 Lyons Pass\",\n",
        "  \"city\": \"Dallas\",\n",
        "  \"country\": \"United States\",\n",
        "  \"id\": 86,\n",
        "  \"postal_code\": \"75231\",\n",
        "  \"state\": \"Texas\"\n",
        "}, {\n",
        "  \"address\": \"258 Saint Paul Terrace\",\n",
        "  \"city\": \"Kansas City\",\n",
        "  \"country\": \"United States\",\n",
        "  \"id\": 87,\n",
        "  \"postal_code\": \"64136\",\n",
        "  \"state\": \"Missouri\"\n",
        "}, {\n",
        "  \"address\": \"617 Summerview Pass\",\n",
        "  \"city\": \"Santa Barbara\",\n",
        "  \"country\": \"United States\",\n",
        "  \"id\": 88,\n",
        "  \"postal_code\": \"93150\",\n",
        "  \"state\": \"California\"\n",
        "}, {\n",
        "  \"address\": \"189 Crescent Oaks Avenue\",\n",
        "  \"city\": \"Evansville\",\n",
        "  \"country\": \"United States\",\n",
        "  \"id\": 89,\n",
        "  \"postal_code\": \"47705\",\n",
        "  \"state\": \"Indiana\"\n",
        "}, {\n",
        "  \"address\": \"8780 Sutherland Street\",\n",
        "  \"city\": \"Harrisburg\",\n",
        "  \"country\": \"United States\",\n",
        "  \"id\": 90,\n",
        "  \"postal_code\": \"17140\",\n",
        "  \"state\": \"Pennsylvania\"\n",
        "}, {\n",
        "  \"address\": \"3 Quincy Way\",\n",
        "  \"city\": \"Alexandria\",\n",
        "  \"country\": \"United States\",\n",
        "  \"id\": 91,\n",
        "  \"postal_code\": \"22313\",\n",
        "  \"state\": \"Virginia\"\n",
        "}, {\n",
        "  \"address\": \"1 Lakeland Drive\",\n",
        "  \"city\": \"Lexington\",\n",
        "  \"country\": \"United States\",\n",
        "  \"id\": 92,\n",
        "  \"postal_code\": \"40576\",\n",
        "  \"state\": \"Kentucky\"\n",
        "}, {\n",
        "  \"address\": \"0281 Summit Junction\",\n",
        "  \"city\": \"Canton\",\n",
        "  \"country\": \"United States\",\n",
        "  \"id\": 93,\n",
        "  \"postal_code\": \"44720\",\n",
        "  \"state\": \"Ohio\"\n",
        "}, {\n",
        "  \"address\": \"9820 Haas Lane\",\n",
        "  \"city\": \"Toledo\",\n",
        "  \"country\": \"United States\",\n",
        "  \"id\": 94,\n",
        "  \"postal_code\": \"43635\",\n",
        "  \"state\": \"Ohio\"\n",
        "}, {\n",
        "  \"address\": \"6031 Lake View Plaza\",\n",
        "  \"city\": \"Santa Ana\",\n",
        "  \"country\": \"United States\",\n",
        "  \"id\": 95,\n",
        "  \"postal_code\": \"92705\",\n",
        "  \"state\": \"California\"\n",
        "}, {\n",
        "  \"address\": \"6 Dwight Point\",\n",
        "  \"city\": \"Santa Monica\",\n",
        "  \"country\": \"United States\",\n",
        "  \"id\": 96,\n",
        "  \"postal_code\": \"90410\",\n",
        "  \"state\": \"California\"\n",
        "}, {\n",
        "  \"address\": \"71 Ohio Alley\",\n",
        "  \"city\": \"Tacoma\",\n",
        "  \"country\": \"United States\",\n",
        "  \"id\": 97,\n",
        "  \"postal_code\": \"98481\",\n",
        "  \"state\": \"Washington\"\n",
        "}, {\n",
        "  \"address\": \"4 Petterle Road\",\n",
        "  \"city\": \"San Francisco\",\n",
        "  \"country\": \"United States\",\n",
        "  \"id\": 98,\n",
        "  \"postal_code\": \"94121\",\n",
        "  \"state\": \"California\"\n",
        "}, {\n",
        "  \"address\": \"531 Sugar Crossing\",\n",
        "  \"city\": \"Houston\",\n",
        "  \"country\": \"United States\",\n",
        "  \"id\": 99,\n",
        "  \"postal_code\": \"77218\",\n",
        "  \"state\": \"Texas\"\n",
        "}, {\n",
        "  \"address\": \"5 Erie Plaza\",\n",
        "  \"city\": \"Duluth\",\n",
        "  \"country\": \"United States\",\n",
        "  \"id\": 100,\n",
        "  \"postal_code\": \"30096\",\n",
        "  \"state\": \"Georgia\"\n",
        "}]"
      ],
      "metadata": {
        "cellView": "form",
        "id": "Dqo_AgKJ_KiG"
      },
      "execution_count": 30,
      "outputs": []
    },
    {
      "cell_type": "code",
      "source": [
        "address_df = spark.createDataFrame(adress)"
      ],
      "metadata": {
        "id": "NGl4gPRiAY5b"
      },
      "execution_count": 32,
      "outputs": []
    },
    {
      "cell_type": "code",
      "source": [
        "address_df.show()"
      ],
      "metadata": {
        "colab": {
          "base_uri": "https://localhost:8080/"
        },
        "id": "ezSV4zAlAf90",
        "outputId": "8d3f944f-cb73-4e5b-cf44-74c2ca419e3c"
      },
      "execution_count": 36,
      "outputs": [
        {
          "output_type": "stream",
          "name": "stdout",
          "text": [
            "+--------------------+----------------+-------------+---+-----------+--------------------+\n",
            "|             address|            city|      country| id|postal_code|               state|\n",
            "+--------------------+----------------+-------------+---+-----------+--------------------+\n",
            "|       89 Rusk Court|        Portland|United States|  1|      97232|              Oregon|\n",
            "|      87 Dakota Pass|           Tampa|United States|  2|      33661|             Florida|\n",
            "|   15 Shelley Circle|        Lakeland|United States|  3|      33811|             Florida|\n",
            "|    12522 Fulton Way|   Oklahoma City|United States|  4|      73114|            Oklahoma|\n",
            "|        9 Dapin Hill|       Fairbanks|United States|  5|      99709|              Alaska|\n",
            "|    154 Westend Park|Colorado Springs|United States|  6|      80910|            Colorado|\n",
            "|   817 Oakridge Park|           Bronx|United States|  7|      10464|            New York|\n",
            "|119 Fair Oaks Avenue|      Washington|United States|  8|      20404|District of Columbia|\n",
            "|      8 Shelley Pass|        Anderson|United States|  9|      46015|             Indiana|\n",
            "|   092 Homewood Park|       Fullerton|United States| 10|      92835|          California|\n",
            "| 17206 Daystar Point|           Flint|United States| 11|      48505|            Michigan|\n",
            "|      6 Spenser Lane|       Las Vegas|United States| 12|      89155|              Nevada|\n",
            "|     2463 Cody Place|       Nashville|United States| 13|      37205|           Tennessee|\n",
            "|9590 Pennsylvania...|       San Diego|United States| 14|      92132|          California|\n",
            "|  2226 Barby Parkway|    Valley Forge|United States| 15|      19495|        Pennsylvania|\n",
            "|  9468 Lukken Center|   San Francisco|United States| 16|      94159|          California|\n",
            "|95755 Fairfield A...|        Chandler|United States| 17|      85246|             Arizona|\n",
            "|  596 Dunning Street|      Montgomery|United States| 18|      36177|             Alabama|\n",
            "|48294 Superior Trail|         El Paso|United States| 19|      88584|               Texas|\n",
            "|  96315 Arizona Pass|        Appleton|United States| 20|      54915|           Wisconsin|\n",
            "+--------------------+----------------+-------------+---+-----------+--------------------+\n",
            "only showing top 20 rows\n",
            "\n"
          ]
        }
      ]
    },
    {
      "cell_type": "code",
      "source": [
        "address_df.printSchema()"
      ],
      "metadata": {
        "colab": {
          "base_uri": "https://localhost:8080/"
        },
        "id": "8wzlc-EmA58k",
        "outputId": "480fd4f7-f455-4b37-be6d-1d11b0616d8e"
      },
      "execution_count": 37,
      "outputs": [
        {
          "output_type": "stream",
          "name": "stdout",
          "text": [
            "root\n",
            " |-- address: string (nullable = true)\n",
            " |-- city: string (nullable = true)\n",
            " |-- country: string (nullable = true)\n",
            " |-- id: long (nullable = true)\n",
            " |-- postal_code: string (nullable = true)\n",
            " |-- state: string (nullable = true)\n",
            "\n"
          ]
        }
      ]
    },
    {
      "cell_type": "code",
      "source": [
        "address_df.withColumn('fullAddress', f.concat_ws(', ', 'address', 'city','state', 'country', 'postal_code')) \\\n",
        ".select('id', 'fullAddress') \\\n",
        ".show(truncate=False)"
      ],
      "metadata": {
        "colab": {
          "base_uri": "https://localhost:8080/"
        },
        "id": "oBQOGxL1Al_V",
        "outputId": "1d8c8386-a3d0-4f5d-d40f-50dbd7ebc054"
      },
      "execution_count": 43,
      "outputs": [
        {
          "output_type": "stream",
          "name": "stdout",
          "text": [
            "+---+----------------------------------------------------------------------------+\n",
            "|id |fullAddress                                                                 |\n",
            "+---+----------------------------------------------------------------------------+\n",
            "|1  |89 Rusk Court, Portland, Oregon, United States, 97232                       |\n",
            "|2  |87 Dakota Pass, Tampa, Florida, United States, 33661                        |\n",
            "|3  |15 Shelley Circle, Lakeland, Florida, United States, 33811                  |\n",
            "|4  |12522 Fulton Way, Oklahoma City, Oklahoma, United States, 73114             |\n",
            "|5  |9 Dapin Hill, Fairbanks, Alaska, United States, 99709                       |\n",
            "|6  |154 Westend Park, Colorado Springs, Colorado, United States, 80910          |\n",
            "|7  |817 Oakridge Park, Bronx, New York, United States, 10464                    |\n",
            "|8  |119 Fair Oaks Avenue, Washington, District of Columbia, United States, 20404|\n",
            "|9  |8 Shelley Pass, Anderson, Indiana, United States, 46015                     |\n",
            "|10 |092 Homewood Park, Fullerton, California, United States, 92835              |\n",
            "|11 |17206 Daystar Point, Flint, Michigan, United States, 48505                  |\n",
            "|12 |6 Spenser Lane, Las Vegas, Nevada, United States, 89155                     |\n",
            "|13 |2463 Cody Place, Nashville, Tennessee, United States, 37205                 |\n",
            "|14 |9590 Pennsylvania Park, San Diego, California, United States, 92132         |\n",
            "|15 |2226 Barby Parkway, Valley Forge, Pennsylvania, United States, 19495        |\n",
            "|16 |9468 Lukken Center, San Francisco, California, United States, 94159         |\n",
            "|17 |95755 Fairfield Avenue, Chandler, Arizona, United States, 85246             |\n",
            "|18 |596 Dunning Street, Montgomery, Alabama, United States, 36177               |\n",
            "|19 |48294 Superior Trail, El Paso, Texas, United States, 88584                  |\n",
            "|20 |96315 Arizona Pass, Appleton, Wisconsin, United States, 54915               |\n",
            "+---+----------------------------------------------------------------------------+\n",
            "only showing top 20 rows\n",
            "\n"
          ]
        }
      ]
    },
    {
      "cell_type": "code",
      "source": [
        "df.show()"
      ],
      "metadata": {
        "colab": {
          "base_uri": "https://localhost:8080/"
        },
        "id": "6FPn46rJA3_3",
        "outputId": "1ad2502e-0639-4276-f150-bf62c2dc480a"
      },
      "execution_count": 44,
      "outputs": [
        {
          "output_type": "stream",
          "name": "stdout",
          "text": [
            "+-----------+----------+---------+------+--------------+----------------+-----------+\n",
            "|employee_id|first_name|last_name|salary|   nationality|   phone_numbers|        ssn|\n",
            "+-----------+----------+---------+------+--------------+----------------+-----------+\n",
            "|          1|     Scott|    Tiger|1000.0| united states| +1 123 456 7890|123 45 6789|\n",
            "|          2|     Henry|     Ford|1250.0|         India|+91 234 567 8901|456 78 9123|\n",
            "|          3|      Nick|   Junior| 750.0|united KINGDOM|+44 111 111 1111|222 33 4444|\n",
            "|          4|      Bill|    Gomes|1500.0|     AUSTRALIA|+61 987 654 3210|789 12 6118|\n",
            "+-----------+----------+---------+------+--------------+----------------+-----------+\n",
            "\n"
          ]
        }
      ]
    },
    {
      "cell_type": "code",
      "source": [
        "help(f.lower)"
      ],
      "metadata": {
        "colab": {
          "base_uri": "https://localhost:8080/"
        },
        "id": "j3Vqpa_mCTc2",
        "outputId": "0a86613a-4895-430d-de31-9b7fc7274792"
      },
      "execution_count": 47,
      "outputs": [
        {
          "output_type": "stream",
          "name": "stdout",
          "text": [
            "Help on function lower in module pyspark.sql.functions:\n",
            "\n",
            "lower(col)\n",
            "    Converts a string expression to lower case.\n",
            "    \n",
            "    .. versionadded:: 1.5\n",
            "\n"
          ]
        }
      ]
    },
    {
      "cell_type": "code",
      "source": [
        "(df\n",
        "  .select('employee_id', 'nationality')\n",
        "  .withColumn('nationality_lower', f.lower('nationality'))\n",
        "  .withColumn('nationality_upper', f.upper('nationality'))\n",
        "  .withColumn('nationality_initcap', f.initcap('nationality'))\n",
        "  .withColumn('nationality_lenght', f.length('nationality'))\n",
        ").show()"
      ],
      "metadata": {
        "colab": {
          "base_uri": "https://localhost:8080/"
        },
        "id": "ONGWwFjiCknk",
        "outputId": "49b2c9b5-aaaf-4ed4-c97b-b9ef6d5e7021"
      },
      "execution_count": 58,
      "outputs": [
        {
          "output_type": "stream",
          "name": "stdout",
          "text": [
            "+-----------+--------------+-----------------+-----------------+-------------------+------------------+\n",
            "|employee_id|   nationality|nationality_lower|nationality_upper|nationality_initcap|nationality_lenght|\n",
            "+-----------+--------------+-----------------+-----------------+-------------------+------------------+\n",
            "|          1| united states|    united states|    UNITED STATES|      United States|                13|\n",
            "|          2|         India|            india|            INDIA|              India|                 5|\n",
            "|          3|united KINGDOM|   united kingdom|   UNITED KINGDOM|     United Kingdom|                14|\n",
            "|          4|     AUSTRALIA|        australia|        AUSTRALIA|          Australia|                 9|\n",
            "+-----------+--------------+-----------------+-----------------+-------------------+------------------+\n",
            "\n"
          ]
        }
      ]
    },
    {
      "cell_type": "code",
      "source": [
        "help(f.substring)"
      ],
      "metadata": {
        "colab": {
          "base_uri": "https://localhost:8080/"
        },
        "id": "e6fRuldfDtAl",
        "outputId": "856d85b3-37d7-43e7-de66-5ae59b29b55f"
      },
      "execution_count": 59,
      "outputs": [
        {
          "output_type": "stream",
          "name": "stdout",
          "text": [
            "Help on function substring in module pyspark.sql.functions:\n",
            "\n",
            "substring(str, pos, len)\n",
            "    Substring starts at `pos` and is of length `len` when str is String type or\n",
            "    returns the slice of byte array that starts at `pos` in byte and is of length `len`\n",
            "    when str is Binary type.\n",
            "    \n",
            "    .. versionadded:: 1.5.0\n",
            "    \n",
            "    Notes\n",
            "    -----\n",
            "    The position is not zero based, but 1 based index.\n",
            "    \n",
            "    Examples\n",
            "    --------\n",
            "    >>> df = spark.createDataFrame([('abcd',)], ['s',])\n",
            "    >>> df.select(substring(df.s, 1, 2).alias('s')).collect()\n",
            "    [Row(s='ab')]\n",
            "\n"
          ]
        }
      ]
    },
    {
      "cell_type": "code",
      "source": [
        "t = [('x',)]"
      ],
      "metadata": {
        "id": "yOKfbPPkFudX"
      },
      "execution_count": 60,
      "outputs": []
    },
    {
      "cell_type": "code",
      "source": [
        "dummy = spark.createDataFrame(t, schema=\"dummy String\")"
      ],
      "metadata": {
        "id": "2sC_7aFKFzsF"
      },
      "execution_count": 61,
      "outputs": []
    },
    {
      "cell_type": "code",
      "source": [
        "dummy.select(f.substring(f.lit('Hello world'), 7, 5)).show()"
      ],
      "metadata": {
        "colab": {
          "base_uri": "https://localhost:8080/"
        },
        "id": "GeouvwZ2F84T",
        "outputId": "096fa7c2-11a1-49e0-fb81-f5f8046080ad"
      },
      "execution_count": 64,
      "outputs": [
        {
          "output_type": "stream",
          "name": "stdout",
          "text": [
            "+----------------------------+\n",
            "|substring(Hello world, 7, 5)|\n",
            "+----------------------------+\n",
            "|                       world|\n",
            "+----------------------------+\n",
            "\n"
          ]
        }
      ]
    },
    {
      "cell_type": "code",
      "source": [
        "dummy.select(f.substring(f.lit('hello world'), -5, 5)).show()"
      ],
      "metadata": {
        "colab": {
          "base_uri": "https://localhost:8080/"
        },
        "id": "LoTOuZnEGJsG",
        "outputId": "140de0be-3d0f-4e70-e923-c57544edf401"
      },
      "execution_count": 66,
      "outputs": [
        {
          "output_type": "stream",
          "name": "stdout",
          "text": [
            "+-----------------------------+\n",
            "|substring(hello world, -5, 5)|\n",
            "+-----------------------------+\n",
            "|                        world|\n",
            "+-----------------------------+\n",
            "\n"
          ]
        }
      ]
    },
    {
      "cell_type": "code",
      "source": [
        "df.show()"
      ],
      "metadata": {
        "colab": {
          "base_uri": "https://localhost:8080/"
        },
        "id": "v6UIGRFwGjTC",
        "outputId": "bf3a6108-2de6-4462-8625-5be3e6e00312"
      },
      "execution_count": 67,
      "outputs": [
        {
          "output_type": "stream",
          "name": "stdout",
          "text": [
            "+-----------+----------+---------+------+--------------+----------------+-----------+\n",
            "|employee_id|first_name|last_name|salary|   nationality|   phone_numbers|        ssn|\n",
            "+-----------+----------+---------+------+--------------+----------------+-----------+\n",
            "|          1|     Scott|    Tiger|1000.0| united states| +1 123 456 7890|123 45 6789|\n",
            "|          2|     Henry|     Ford|1250.0|         India|+91 234 567 8901|456 78 9123|\n",
            "|          3|      Nick|   Junior| 750.0|united KINGDOM|+44 111 111 1111|222 33 4444|\n",
            "|          4|      Bill|    Gomes|1500.0|     AUSTRALIA|+61 987 654 3210|789 12 6118|\n",
            "+-----------+----------+---------+------+--------------+----------------+-----------+\n",
            "\n"
          ]
        }
      ]
    },
    {
      "cell_type": "code",
      "source": [
        "(df.select('employee_id', 'phone_numbers', 'ssn')\n",
        "  .withColumn('phone_number4', f.substring(f.col('phone_numbers'), -4, 4).cast('int'))\n",
        "  .withColumn('ssn4', f.substring('ssn', 8, 4).cast('int'))\n",
        ").show()"
      ],
      "metadata": {
        "colab": {
          "base_uri": "https://localhost:8080/"
        },
        "id": "d90PED2pG6D5",
        "outputId": "7eca593f-ce6f-4039-855b-6b21dd7e91f7"
      },
      "execution_count": 75,
      "outputs": [
        {
          "output_type": "stream",
          "name": "stdout",
          "text": [
            "+-----------+----------------+-----------+-------------+----+\n",
            "|employee_id|   phone_numbers|        ssn|phone_number4|ssn4|\n",
            "+-----------+----------------+-----------+-------------+----+\n",
            "|          1| +1 123 456 7890|123 45 6789|         7890|6789|\n",
            "|          2|+91 234 567 8901|456 78 9123|         8901|9123|\n",
            "|          3|+44 111 111 1111|222 33 4444|         1111|4444|\n",
            "|          4|+61 987 654 3210|789 12 6118|         3210|6118|\n",
            "+-----------+----------------+-----------+-------------+----+\n",
            "\n"
          ]
        }
      ]
    },
    {
      "cell_type": "code",
      "source": [
        "employees = [(1, \"Scott\", \"Tiger\", 1000.0, \n",
        "                      \"united states\", \"+1 123 456 7890,+1 234 567 8901\", \"123 45 6789\"\n",
        "                     ),\n",
        "                     (2, \"Henry\", \"Ford\", 1250.0, \n",
        "                      \"India\", \"+91 234 567 8901\", \"456 78 9123\"\n",
        "                     ),\n",
        "                     (3, \"Nick\", \"Junior\", 750.0, \n",
        "                      \"united KINGDOM\", \"+44 111 111 1111,+44 222 222 2222\", \"222 33 4444\"\n",
        "                     ),\n",
        "                     (4, \"Bill\", \"Gomes\", 1500.0, \n",
        "                      \"AUSTRALIA\", \"+61 987 654 3210,+61 876 543 2109\", \"789 12 6118\"\n",
        "                     )\n",
        "                ]"
      ],
      "metadata": {
        "id": "i-dyht0GN06t"
      },
      "execution_count": 77,
      "outputs": []
    },
    {
      "cell_type": "code",
      "source": [
        "df = spark.createDataFrame(employees, schema=\"\"\" employee_id INT, first_name STRING, last_name STRING, \n",
        "                                            salary FLOAT,  country STRING, phone_numbers STRING, ssn STRING \"\"\")"
      ],
      "metadata": {
        "id": "UaEXFXONOjYG"
      },
      "execution_count": 78,
      "outputs": []
    },
    {
      "cell_type": "code",
      "source": [
        "df.show()"
      ],
      "metadata": {
        "colab": {
          "base_uri": "https://localhost:8080/"
        },
        "id": "2P2qucMrQIa4",
        "outputId": "259da6a4-6b98-4927-80b7-22d67d80b230"
      },
      "execution_count": 79,
      "outputs": [
        {
          "output_type": "stream",
          "name": "stdout",
          "text": [
            "+-----------+----------+---------+------+--------------+--------------------+-----------+\n",
            "|employee_id|first_name|last_name|salary|       country|       phone_numbers|        ssn|\n",
            "+-----------+----------+---------+------+--------------+--------------------+-----------+\n",
            "|          1|     Scott|    Tiger|1000.0| united states|+1 123 456 7890,+...|123 45 6789|\n",
            "|          2|     Henry|     Ford|1250.0|         India|    +91 234 567 8901|456 78 9123|\n",
            "|          3|      Nick|   Junior| 750.0|united KINGDOM|+44 111 111 1111,...|222 33 4444|\n",
            "|          4|      Bill|    Gomes|1500.0|     AUSTRALIA|+61 987 654 3210,...|789 12 6118|\n",
            "+-----------+----------+---------+------+--------------+--------------------+-----------+\n",
            "\n"
          ]
        }
      ]
    },
    {
      "cell_type": "code",
      "source": [
        "help(f.split)"
      ],
      "metadata": {
        "colab": {
          "base_uri": "https://localhost:8080/"
        },
        "id": "qb0yRXfSQJR3",
        "outputId": "9e6b5e3b-a89f-4ec6-e043-63e8c0e58d16"
      },
      "execution_count": 81,
      "outputs": [
        {
          "output_type": "stream",
          "name": "stdout",
          "text": [
            "Help on function split in module pyspark.sql.functions:\n",
            "\n",
            "split(str, pattern, limit=-1)\n",
            "    Splits str around matches of the given pattern.\n",
            "    \n",
            "    .. versionadded:: 1.5.0\n",
            "    \n",
            "    Parameters\n",
            "    ----------\n",
            "    str : :class:`~pyspark.sql.Column` or str\n",
            "        a string expression to split\n",
            "    pattern : str\n",
            "        a string representing a regular expression. The regex string should be\n",
            "        a Java regular expression.\n",
            "    limit : int, optional\n",
            "        an integer which controls the number of times `pattern` is applied.\n",
            "    \n",
            "        * ``limit > 0``: The resulting array's length will not be more than `limit`, and the\n",
            "                         resulting array's last entry will contain all input beyond the last\n",
            "                         matched pattern.\n",
            "        * ``limit <= 0``: `pattern` will be applied as many times as possible, and the resulting\n",
            "                          array can be of any size.\n",
            "    \n",
            "        .. versionchanged:: 3.0\n",
            "           `split` now takes an optional `limit` field. If not provided, default limit value is -1.\n",
            "    \n",
            "    Examples\n",
            "    --------\n",
            "    >>> df = spark.createDataFrame([('oneAtwoBthreeC',)], ['s',])\n",
            "    >>> df.select(split(df.s, '[ABC]', 2).alias('s')).collect()\n",
            "    [Row(s=['one', 'twoBthreeC'])]\n",
            "    >>> df.select(split(df.s, '[ABC]', -1).alias('s')).collect()\n",
            "    [Row(s=['one', 'two', 'three', ''])]\n",
            "\n"
          ]
        }
      ]
    },
    {
      "cell_type": "code",
      "source": [
        "#using split and getting only 1 element of the array.\n",
        "(df\n",
        " .select('employee_id', 'phone_numbers', 'ssn')\n",
        " .withColumn('phone_numbersArray', f.split('phone_numbers', ','))\n",
        " .withColumn('ssn4', f.split('ssn', ' ')[2])\n",
        " ).show(truncate=False)"
      ],
      "metadata": {
        "colab": {
          "base_uri": "https://localhost:8080/"
        },
        "id": "91n7Kef_QOB0",
        "outputId": "aa2c55cc-36fd-450f-8b79-f5291982637b"
      },
      "execution_count": 93,
      "outputs": [
        {
          "output_type": "stream",
          "name": "stdout",
          "text": [
            "+-----------+---------------------------------+-----------+------------------------------------+----+\n",
            "|employee_id|phone_numbers                    |ssn        |phone_numbersArray                  |ssn4|\n",
            "+-----------+---------------------------------+-----------+------------------------------------+----+\n",
            "|1          |+1 123 456 7890,+1 234 567 8901  |123 45 6789|[+1 123 456 7890, +1 234 567 8901]  |6789|\n",
            "|2          |+91 234 567 8901                 |456 78 9123|[+91 234 567 8901]                  |9123|\n",
            "|3          |+44 111 111 1111,+44 222 222 2222|222 33 4444|[+44 111 111 1111, +44 222 222 2222]|4444|\n",
            "|4          |+61 987 654 3210,+61 876 543 2109|789 12 6118|[+61 987 654 3210, +61 876 543 2109]|6118|\n",
            "+-----------+---------------------------------+-----------+------------------------------------+----+\n",
            "\n"
          ]
        }
      ]
    },
    {
      "cell_type": "code",
      "source": [
        "(df\n",
        " .select('employee_id', 'phone_numbers', 'ssn')\n",
        " .withColumn('phone_numbersArray', f.split('phone_numbers', ','))\n",
        " .withColumn('ssn4', f.split('ssn', ' ')[2].cast('int'))\n",
        " ).show(truncate=False)"
      ],
      "metadata": {
        "colab": {
          "base_uri": "https://localhost:8080/"
        },
        "id": "UBeOe-9yQrhJ",
        "outputId": "ea794a23-3918-4d84-c987-6b1680bfc6c2"
      },
      "execution_count": 96,
      "outputs": [
        {
          "output_type": "stream",
          "name": "stdout",
          "text": [
            "+-----------+---------------------------------+-----------+------------------------------------+----+\n",
            "|employee_id|phone_numbers                    |ssn        |phone_numbersArray                  |ssn4|\n",
            "+-----------+---------------------------------+-----------+------------------------------------+----+\n",
            "|1          |+1 123 456 7890,+1 234 567 8901  |123 45 6789|[+1 123 456 7890, +1 234 567 8901]  |6789|\n",
            "|2          |+91 234 567 8901                 |456 78 9123|[+91 234 567 8901]                  |9123|\n",
            "|3          |+44 111 111 1111,+44 222 222 2222|222 33 4444|[+44 111 111 1111, +44 222 222 2222]|4444|\n",
            "|4          |+61 987 654 3210,+61 876 543 2109|789 12 6118|[+61 987 654 3210, +61 876 543 2109]|6118|\n",
            "+-----------+---------------------------------+-----------+------------------------------------+----+\n",
            "\n"
          ]
        }
      ]
    },
    {
      "cell_type": "code",
      "source": [
        "help(df.show)"
      ],
      "metadata": {
        "colab": {
          "base_uri": "https://localhost:8080/"
        },
        "id": "jugcNgIVSOqI",
        "outputId": "0eb3fe44-8c93-424e-cbcf-5ce05d3a013b"
      },
      "execution_count": 95,
      "outputs": [
        {
          "output_type": "stream",
          "name": "stdout",
          "text": [
            "Help on method show in module pyspark.sql.dataframe:\n",
            "\n",
            "show(n=20, truncate=True, vertical=False) method of pyspark.sql.dataframe.DataFrame instance\n",
            "    Prints the first ``n`` rows to the console.\n",
            "    \n",
            "    .. versionadded:: 1.3.0\n",
            "    \n",
            "    Parameters\n",
            "    ----------\n",
            "    n : int, optional\n",
            "        Number of rows to show.\n",
            "    truncate : bool or int, optional\n",
            "        If set to ``True``, truncate strings longer than 20 chars by default.\n",
            "        If set to a number greater than one, truncates long strings to length ``truncate``\n",
            "        and align cells right.\n",
            "    vertical : bool, optional\n",
            "        If set to ``True``, print output rows vertically (one line\n",
            "        per column value).\n",
            "    \n",
            "    Examples\n",
            "    --------\n",
            "    >>> df\n",
            "    DataFrame[age: int, name: string]\n",
            "    >>> df.show()\n",
            "    +---+-----+\n",
            "    |age| name|\n",
            "    +---+-----+\n",
            "    |  2|Alice|\n",
            "    |  5|  Bob|\n",
            "    +---+-----+\n",
            "    >>> df.show(truncate=3)\n",
            "    +---+----+\n",
            "    |age|name|\n",
            "    +---+----+\n",
            "    |  2| Ali|\n",
            "    |  5| Bob|\n",
            "    +---+----+\n",
            "    >>> df.show(vertical=True)\n",
            "    -RECORD 0-----\n",
            "     age  | 2\n",
            "     name | Alice\n",
            "    -RECORD 1-----\n",
            "     age  | 5\n",
            "     name | Bob\n",
            "\n"
          ]
        }
      ]
    },
    {
      "cell_type": "code",
      "source": [
        "(\n",
        "    df\n",
        "    .select('employee_id', 'first_name', 'phone_numbers')\n",
        "    .withColumn('phone_number_row', f.explode(f.split('phone_numbers', ',')))\n",
        ").show(truncate=False)"
      ],
      "metadata": {
        "colab": {
          "base_uri": "https://localhost:8080/"
        },
        "id": "04ANfmGXSPq8",
        "outputId": "656a1707-b5eb-492d-d698-64cb51564283"
      },
      "execution_count": 99,
      "outputs": [
        {
          "output_type": "stream",
          "name": "stdout",
          "text": [
            "+-----------+----------+---------------------------------+----------------+\n",
            "|employee_id|first_name|phone_numbers                    |phone_number_row|\n",
            "+-----------+----------+---------------------------------+----------------+\n",
            "|1          |Scott     |+1 123 456 7890,+1 234 567 8901  |+1 123 456 7890 |\n",
            "|1          |Scott     |+1 123 456 7890,+1 234 567 8901  |+1 234 567 8901 |\n",
            "|2          |Henry     |+91 234 567 8901                 |+91 234 567 8901|\n",
            "|3          |Nick      |+44 111 111 1111,+44 222 222 2222|+44 111 111 1111|\n",
            "|3          |Nick      |+44 111 111 1111,+44 222 222 2222|+44 222 222 2222|\n",
            "|4          |Bill      |+61 987 654 3210,+61 876 543 2109|+61 987 654 3210|\n",
            "|4          |Bill      |+61 987 654 3210,+61 876 543 2109|+61 876 543 2109|\n",
            "+-----------+----------+---------------------------------+----------------+\n",
            "\n"
          ]
        }
      ]
    },
    {
      "cell_type": "code",
      "source": [
        "help(f.lpad)"
      ],
      "metadata": {
        "colab": {
          "base_uri": "https://localhost:8080/"
        },
        "id": "1eedlDRMS78o",
        "outputId": "262bbe73-a32e-4375-cefa-9cba70412542"
      },
      "execution_count": 100,
      "outputs": [
        {
          "output_type": "stream",
          "name": "stdout",
          "text": [
            "Help on function lpad in module pyspark.sql.functions:\n",
            "\n",
            "lpad(col, len, pad)\n",
            "    Left-pad the string column to width `len` with `pad`.\n",
            "    \n",
            "    .. versionadded:: 1.5.0\n",
            "    \n",
            "    Examples\n",
            "    --------\n",
            "    >>> df = spark.createDataFrame([('abcd',)], ['s',])\n",
            "    >>> df.select(lpad(df.s, 6, '#').alias('s')).collect()\n",
            "    [Row(s='##abcd')]\n",
            "\n"
          ]
        }
      ]
    },
    {
      "cell_type": "code",
      "source": [
        ""
      ],
      "metadata": {
        "id": "pYgux3ImZWlp"
      },
      "execution_count": null,
      "outputs": []
    }
  ]
}