{
  "nbformat": 4,
  "nbformat_minor": 0,
  "metadata": {
    "colab": {
      "name": "PySpark Nested Json file.ipynb",
      "provenance": [],
      "collapsed_sections": []
    },
    "kernelspec": {
      "name": "python3",
      "display_name": "Python 3"
    },
    "language_info": {
      "name": "python"
    }
  },
  "cells": [
    {
      "cell_type": "code",
      "execution_count": 1,
      "metadata": {
        "id": "eHdZuF_eK03l"
      },
      "outputs": [],
      "source": [
        "!apt-get install openjdk-8-jdk-headless -qq > /dev/null\n",
        "!wget -q https://dlcdn.apache.org/spark/spark-3.2.1/spark-3.2.1-bin-hadoop3.2.tgz\n",
        "!tar xf spark-3.2.1-bin-hadoop3.2.tgz\n",
        "!pip install -q findspark\n",
        "import os\n",
        "os.environ[\"JAVA_HOME\"] = \"/usr/lib/jvm/java-8-openjdk-amd64\"\n",
        "os.environ[\"SPARK_HOME\"] = \"/content/spark-3.2.1-bin-hadoop3.2\"\n",
        "import findspark\n",
        "findspark.init()"
      ]
    },
    {
      "cell_type": "code",
      "source": [
        "from pyspark.sql import SparkSession\n",
        "spark = (SparkSession.builder\n",
        "        .master(\"local\")\n",
        "        .appName(\"Colab\")\n",
        "        .config('spark.ui.port', '4050')\n",
        "        .getOrCreate())"
      ],
      "metadata": {
        "id": "HkEpeZBSLJ5l"
      },
      "execution_count": 70,
      "outputs": []
    },
    {
      "cell_type": "code",
      "source": [
        "ordersDf = (spark.read.format('json')\n",
        "            .option('inferSchema', 'true')\n",
        "            .option('multiline', 'true')\n",
        "            .load('/content/NestedJson.json'))"
      ],
      "metadata": {
        "id": "pKNvCr7nLUs0"
      },
      "execution_count": 71,
      "outputs": []
    },
    {
      "cell_type": "code",
      "source": [
        "ordersDf.show(truncate=False)"
      ],
      "metadata": {
        "colab": {
          "base_uri": "https://localhost:8080/"
        },
        "id": "vLwqXcLgMgBO",
        "outputId": "8ce1374a-1765-43a2-a3ed-e5d66ab24c5f"
      },
      "execution_count": 72,
      "outputs": [
        {
          "output_type": "stream",
          "name": "stdout",
          "text": [
            "+-------------------------------------------------------------------------------------------------------------------------------------------------------------------------------------------------------------------------------------------------------------------------------------------------------------------------------+------------+\n",
            "|datasets                                                                                                                                                                                                                                                                                                                       |filename    |\n",
            "+-------------------------------------------------------------------------------------------------------------------------------------------------------------------------------------------------------------------------------------------------------------------------------------------------------------------------------+------------+\n",
            "|[{cust5001, 2021-12-24 00.00.00.000, [{prd9001, 2, 1, {550, 500, 50}}, {prd9002, 3, 2, {300, 240, 60}}], ord1001, {Delhi, India, 110040, New Delhi, M.G.Road}}, {cust5002, 2021-12-25 00.00.00.000, [{prd9001, 1, 1, {275, 250, 25}}, {prd9004, 4, 2, {1000, 900, 100}}], ord1002, {Mumbai, India, 400064, Maharastra, Malad}}]|orderDetails|\n",
            "+-------------------------------------------------------------------------------------------------------------------------------------------------------------------------------------------------------------------------------------------------------------------------------------------------------------------------------+------------+\n",
            "\n"
          ]
        }
      ]
    },
    {
      "cell_type": "code",
      "source": [
        "display(ordersDf)"
      ],
      "metadata": {
        "colab": {
          "base_uri": "https://localhost:8080/",
          "height": 54
        },
        "id": "k7wFGNMXMox1",
        "outputId": "3b104090-a741-48bb-d433-8937cc4e95f6"
      },
      "execution_count": 73,
      "outputs": [
        {
          "output_type": "display_data",
          "data": {
            "text/plain": [
              "DataFrame[datasets: array<struct<customerId:string,orderDate:string,orderDetails:array<struct<productId:string,quantity:bigint,sequence:bigint,totalPrice:struct<gross:bigint,net:bigint,tax:bigint>>>,orderId:string,shipmentDetails:struct<city:string,country:string,postalCode:string,state:string,street:string>>>, filename: string]"
            ]
          },
          "metadata": {}
        }
      ]
    },
    {
      "cell_type": "code",
      "source": [
        "ordersDf.printSchema()"
      ],
      "metadata": {
        "colab": {
          "base_uri": "https://localhost:8080/"
        },
        "id": "MIE1_lZwMuwd",
        "outputId": "d692e0ca-c4ad-44fb-8755-0c231f408c9c"
      },
      "execution_count": 74,
      "outputs": [
        {
          "output_type": "stream",
          "name": "stdout",
          "text": [
            "root\n",
            " |-- datasets: array (nullable = true)\n",
            " |    |-- element: struct (containsNull = true)\n",
            " |    |    |-- customerId: string (nullable = true)\n",
            " |    |    |-- orderDate: string (nullable = true)\n",
            " |    |    |-- orderDetails: array (nullable = true)\n",
            " |    |    |    |-- element: struct (containsNull = true)\n",
            " |    |    |    |    |-- productId: string (nullable = true)\n",
            " |    |    |    |    |-- quantity: long (nullable = true)\n",
            " |    |    |    |    |-- sequence: long (nullable = true)\n",
            " |    |    |    |    |-- totalPrice: struct (nullable = true)\n",
            " |    |    |    |    |    |-- gross: long (nullable = true)\n",
            " |    |    |    |    |    |-- net: long (nullable = true)\n",
            " |    |    |    |    |    |-- tax: long (nullable = true)\n",
            " |    |    |-- orderId: string (nullable = true)\n",
            " |    |    |-- shipmentDetails: struct (nullable = true)\n",
            " |    |    |    |-- city: string (nullable = true)\n",
            " |    |    |    |-- country: string (nullable = true)\n",
            " |    |    |    |-- postalCode: string (nullable = true)\n",
            " |    |    |    |-- state: string (nullable = true)\n",
            " |    |    |    |-- street: string (nullable = true)\n",
            " |-- filename: string (nullable = true)\n",
            "\n"
          ]
        }
      ]
    },
    {
      "cell_type": "code",
      "source": [
        "from pyspark.sql.functions import explode"
      ],
      "metadata": {
        "id": "KcuQbFLLM2oE"
      },
      "execution_count": 75,
      "outputs": []
    },
    {
      "cell_type": "code",
      "source": [
        "df1 = ordersDf.withColumn(\"Orders\", explode(\"datasets\"))"
      ],
      "metadata": {
        "id": "YzatbJnHNDNd"
      },
      "execution_count": 76,
      "outputs": []
    },
    {
      "cell_type": "code",
      "source": [
        "df1 = df1.drop('datasets')"
      ],
      "metadata": {
        "id": "YH58jarFfP3y"
      },
      "execution_count": 77,
      "outputs": []
    },
    {
      "cell_type": "code",
      "source": [
        "df1.show(truncate=False)"
      ],
      "metadata": {
        "colab": {
          "base_uri": "https://localhost:8080/"
        },
        "id": "ZoKxwH7LfD1B",
        "outputId": "f3800ac7-beba-45b4-d42f-fe8e54b0033d"
      },
      "execution_count": 78,
      "outputs": [
        {
          "output_type": "stream",
          "name": "stdout",
          "text": [
            "+------------+--------------------------------------------------------------------------------------------------------------------------------------------------------------+\n",
            "|filename    |Orders                                                                                                                                                        |\n",
            "+------------+--------------------------------------------------------------------------------------------------------------------------------------------------------------+\n",
            "|orderDetails|{cust5001, 2021-12-24 00.00.00.000, [{prd9001, 2, 1, {550, 500, 50}}, {prd9002, 3, 2, {300, 240, 60}}], ord1001, {Delhi, India, 110040, New Delhi, M.G.Road}} |\n",
            "|orderDetails|{cust5002, 2021-12-25 00.00.00.000, [{prd9001, 1, 1, {275, 250, 25}}, {prd9004, 4, 2, {1000, 900, 100}}], ord1002, {Mumbai, India, 400064, Maharastra, Malad}}|\n",
            "+------------+--------------------------------------------------------------------------------------------------------------------------------------------------------------+\n",
            "\n"
          ]
        }
      ]
    },
    {
      "cell_type": "code",
      "source": [
        "df1.printSchema()"
      ],
      "metadata": {
        "colab": {
          "base_uri": "https://localhost:8080/"
        },
        "id": "subzCKlWNSXG",
        "outputId": "7cd9ad99-1be4-46dd-dc42-40e20c6f89ce"
      },
      "execution_count": 79,
      "outputs": [
        {
          "output_type": "stream",
          "name": "stdout",
          "text": [
            "root\n",
            " |-- filename: string (nullable = true)\n",
            " |-- Orders: struct (nullable = true)\n",
            " |    |-- customerId: string (nullable = true)\n",
            " |    |-- orderDate: string (nullable = true)\n",
            " |    |-- orderDetails: array (nullable = true)\n",
            " |    |    |-- element: struct (containsNull = true)\n",
            " |    |    |    |-- productId: string (nullable = true)\n",
            " |    |    |    |-- quantity: long (nullable = true)\n",
            " |    |    |    |-- sequence: long (nullable = true)\n",
            " |    |    |    |-- totalPrice: struct (nullable = true)\n",
            " |    |    |    |    |-- gross: long (nullable = true)\n",
            " |    |    |    |    |-- net: long (nullable = true)\n",
            " |    |    |    |    |-- tax: long (nullable = true)\n",
            " |    |-- orderId: string (nullable = true)\n",
            " |    |-- shipmentDetails: struct (nullable = true)\n",
            " |    |    |-- city: string (nullable = true)\n",
            " |    |    |-- country: string (nullable = true)\n",
            " |    |    |-- postalCode: string (nullable = true)\n",
            " |    |    |-- state: string (nullable = true)\n",
            " |    |    |-- street: string (nullable = true)\n",
            "\n"
          ]
        }
      ]
    },
    {
      "cell_type": "code",
      "source": [
        "df1 = (df1\n",
        "              .withColumn(\"CustomerId\", df1.Orders.getItem(\"customeriD\"))\n",
        "              .withColumn('OrderDate', df1.Orders.getItem(\"orderDate\"))\n",
        "              .withColumn('OrderDetails', df1.Orders.getItem('orderDetails'))\n",
        "              .withColumn('OrderId', df1.Orders.getItem('OrderId'))\n",
        "              .withColumn('ShipmentDetails', df1.Orders.getItem('shipmentDetails'))\n",
        "              ).select('filename', 'CustomerId', 'OrderDate', 'OrderDetails', 'OrderId', 'ShipmentDetails')\n",
        "df1.show()"
      ],
      "metadata": {
        "colab": {
          "base_uri": "https://localhost:8080/"
        },
        "id": "izdtxNqjNbQM",
        "outputId": "f5f9a532-12ec-4353-cf10-aaa81bab05f9"
      },
      "execution_count": 80,
      "outputs": [
        {
          "output_type": "stream",
          "name": "stdout",
          "text": [
            "+------------+----------+--------------------+--------------------+-------+--------------------+\n",
            "|    filename|CustomerId|           OrderDate|        OrderDetails|OrderId|     ShipmentDetails|\n",
            "+------------+----------+--------------------+--------------------+-------+--------------------+\n",
            "|orderDetails|  cust5001|2021-12-24 00.00....|[{prd9001, 2, 1, ...|ord1001|{Delhi, India, 11...|\n",
            "|orderDetails|  cust5002|2021-12-25 00.00....|[{prd9001, 1, 1, ...|ord1002|{Mumbai, India, 4...|\n",
            "+------------+----------+--------------------+--------------------+-------+--------------------+\n",
            "\n"
          ]
        }
      ]
    },
    {
      "cell_type": "code",
      "source": [
        "df1 = (\n",
        "    df1.withColumn('City', df1.ShipmentDetails.getItem('city'))\n",
        "    .withColumn('Country', df1.ShipmentDetails.getItem('country'))\n",
        "    .withColumn('PostalCode', df1.ShipmentDetails.getItem('postalCode'))\n",
        "    .withColumn('State', df1.ShipmentDetails.getItem('state'))\n",
        "    .withColumn('Street', df1.ShipmentDetails.getItem('street'))\n",
        "  )\n",
        "df1 = df1.drop('ShipmentDetails')\n",
        "df1.show()"
      ],
      "metadata": {
        "colab": {
          "base_uri": "https://localhost:8080/"
        },
        "id": "JoAtz_5xhMRC",
        "outputId": "8b8438f8-a669-4b74-a577-8b0eb64bb728"
      },
      "execution_count": 82,
      "outputs": [
        {
          "output_type": "stream",
          "name": "stdout",
          "text": [
            "+------------+----------+--------------------+--------------------+-------+------+-------+----------+----------+--------+\n",
            "|    filename|CustomerId|           OrderDate|        OrderDetails|OrderId|  City|Country|PostalCode|     State|  Street|\n",
            "+------------+----------+--------------------+--------------------+-------+------+-------+----------+----------+--------+\n",
            "|orderDetails|  cust5001|2021-12-24 00.00....|[{prd9001, 2, 1, ...|ord1001| Delhi|  India|    110040| New Delhi|M.G.Road|\n",
            "|orderDetails|  cust5002|2021-12-25 00.00....|[{prd9001, 1, 1, ...|ord1002|Mumbai|  India|    400064|Maharastra|   Malad|\n",
            "+------------+----------+--------------------+--------------------+-------+------+-------+----------+----------+--------+\n",
            "\n"
          ]
        }
      ]
    },
    {
      "cell_type": "code",
      "source": [
        "df1 = df1.withColumn('OrderDetails', explode('OrderDetails'))\n",
        "df1.show()"
      ],
      "metadata": {
        "colab": {
          "base_uri": "https://localhost:8080/"
        },
        "id": "aAOicPSRWtNy",
        "outputId": "1dd4268d-0e0b-4ad3-c128-ebdd2cdf953e"
      },
      "execution_count": 83,
      "outputs": [
        {
          "output_type": "stream",
          "name": "stdout",
          "text": [
            "+------------+----------+--------------------+--------------------+-------+------+-------+----------+----------+--------+\n",
            "|    filename|CustomerId|           OrderDate|        OrderDetails|OrderId|  City|Country|PostalCode|     State|  Street|\n",
            "+------------+----------+--------------------+--------------------+-------+------+-------+----------+----------+--------+\n",
            "|orderDetails|  cust5001|2021-12-24 00.00....|{prd9001, 2, 1, {...|ord1001| Delhi|  India|    110040| New Delhi|M.G.Road|\n",
            "|orderDetails|  cust5001|2021-12-24 00.00....|{prd9002, 3, 2, {...|ord1001| Delhi|  India|    110040| New Delhi|M.G.Road|\n",
            "|orderDetails|  cust5002|2021-12-25 00.00....|{prd9001, 1, 1, {...|ord1002|Mumbai|  India|    400064|Maharastra|   Malad|\n",
            "|orderDetails|  cust5002|2021-12-25 00.00....|{prd9004, 4, 2, {...|ord1002|Mumbai|  India|    400064|Maharastra|   Malad|\n",
            "+------------+----------+--------------------+--------------------+-------+------+-------+----------+----------+--------+\n",
            "\n"
          ]
        }
      ]
    },
    {
      "cell_type": "code",
      "source": [
        "df1.printSchema()"
      ],
      "metadata": {
        "colab": {
          "base_uri": "https://localhost:8080/"
        },
        "id": "sRpAr12rckUb",
        "outputId": "47254c1e-73c3-4293-b317-5617807b473d"
      },
      "execution_count": 84,
      "outputs": [
        {
          "output_type": "stream",
          "name": "stdout",
          "text": [
            "root\n",
            " |-- filename: string (nullable = true)\n",
            " |-- CustomerId: string (nullable = true)\n",
            " |-- OrderDate: string (nullable = true)\n",
            " |-- OrderDetails: struct (nullable = true)\n",
            " |    |-- productId: string (nullable = true)\n",
            " |    |-- quantity: long (nullable = true)\n",
            " |    |-- sequence: long (nullable = true)\n",
            " |    |-- totalPrice: struct (nullable = true)\n",
            " |    |    |-- gross: long (nullable = true)\n",
            " |    |    |-- net: long (nullable = true)\n",
            " |    |    |-- tax: long (nullable = true)\n",
            " |-- OrderId: string (nullable = true)\n",
            " |-- City: string (nullable = true)\n",
            " |-- Country: string (nullable = true)\n",
            " |-- PostalCode: string (nullable = true)\n",
            " |-- State: string (nullable = true)\n",
            " |-- Street: string (nullable = true)\n",
            "\n"
          ]
        }
      ]
    },
    {
      "cell_type": "code",
      "source": [
        "df1 = (df1\n",
        "      .withColumn('ProductId', df1.OrderDetails.getItem(\"ProductId\"))\n",
        "      .withColumn('Quantity', df1.OrderDetails.getItem('quantity'))\n",
        "      .withColumn('Sequence', df1.OrderDetails.getItem('sequence'))\n",
        "      .withColumn('TotalPrice', df1.OrderDetails.getItem('totalPrice'))\n",
        "      )\n",
        "df1 = df1.drop('OrderDetails')\n",
        "df1.show(truncate=False)"
      ],
      "metadata": {
        "colab": {
          "base_uri": "https://localhost:8080/"
        },
        "id": "wdExbI_VXDgq",
        "outputId": "05f622a8-94fa-4b34-a972-a553b55d94ae"
      },
      "execution_count": 86,
      "outputs": [
        {
          "output_type": "stream",
          "name": "stdout",
          "text": [
            "+------------+----------+-----------------------+-------+------+-------+----------+----------+--------+---------+--------+--------+----------------+\n",
            "|filename    |CustomerId|OrderDate              |OrderId|City  |Country|PostalCode|State     |Street  |ProductId|Quantity|Sequence|TotalPrice      |\n",
            "+------------+----------+-----------------------+-------+------+-------+----------+----------+--------+---------+--------+--------+----------------+\n",
            "|orderDetails|cust5001  |2021-12-24 00.00.00.000|ord1001|Delhi |India  |110040    |New Delhi |M.G.Road|prd9001  |2       |1       |{550, 500, 50}  |\n",
            "|orderDetails|cust5001  |2021-12-24 00.00.00.000|ord1001|Delhi |India  |110040    |New Delhi |M.G.Road|prd9002  |3       |2       |{300, 240, 60}  |\n",
            "|orderDetails|cust5002  |2021-12-25 00.00.00.000|ord1002|Mumbai|India  |400064    |Maharastra|Malad   |prd9001  |1       |1       |{275, 250, 25}  |\n",
            "|orderDetails|cust5002  |2021-12-25 00.00.00.000|ord1002|Mumbai|India  |400064    |Maharastra|Malad   |prd9004  |4       |2       |{1000, 900, 100}|\n",
            "+------------+----------+-----------------------+-------+------+-------+----------+----------+--------+---------+--------+--------+----------------+\n",
            "\n"
          ]
        }
      ]
    },
    {
      "cell_type": "code",
      "source": [
        "df1.printSchema()"
      ],
      "metadata": {
        "colab": {
          "base_uri": "https://localhost:8080/"
        },
        "id": "mGWgrnhnZGSj",
        "outputId": "93a92f2e-a5a9-472e-9b95-bca4860b403b"
      },
      "execution_count": 87,
      "outputs": [
        {
          "output_type": "stream",
          "name": "stdout",
          "text": [
            "root\n",
            " |-- filename: string (nullable = true)\n",
            " |-- CustomerId: string (nullable = true)\n",
            " |-- OrderDate: string (nullable = true)\n",
            " |-- OrderId: string (nullable = true)\n",
            " |-- City: string (nullable = true)\n",
            " |-- Country: string (nullable = true)\n",
            " |-- PostalCode: string (nullable = true)\n",
            " |-- State: string (nullable = true)\n",
            " |-- Street: string (nullable = true)\n",
            " |-- ProductId: string (nullable = true)\n",
            " |-- Quantity: long (nullable = true)\n",
            " |-- Sequence: long (nullable = true)\n",
            " |-- TotalPrice: struct (nullable = true)\n",
            " |    |-- gross: long (nullable = true)\n",
            " |    |-- net: long (nullable = true)\n",
            " |    |-- tax: long (nullable = true)\n",
            "\n"
          ]
        }
      ]
    },
    {
      "cell_type": "code",
      "source": [
        "df = (df1\n",
        "      .withColumn('GrossPrice', df1.TotalPrice.getItem('gross'))\n",
        "      .withColumn('NetPrice', df1.TotalPrice.getItem('net'))\n",
        "      .withColumn('TaxPrice', df1.TotalPrice.getItem('tax'))\n",
        "      )\n",
        "df = df.drop('TotalPrice')\n",
        "df.show(truncate=False)"
      ],
      "metadata": {
        "colab": {
          "base_uri": "https://localhost:8080/"
        },
        "id": "S29xL2MGi5BZ",
        "outputId": "be9b9cfd-de73-4ba7-a64c-c4b1ad3c5a70"
      },
      "execution_count": 95,
      "outputs": [
        {
          "output_type": "stream",
          "name": "stdout",
          "text": [
            "+------------+----------+-----------------------+-------+------+-------+----------+----------+--------+---------+--------+--------+----------+--------+--------+\n",
            "|filename    |CustomerId|OrderDate              |OrderId|City  |Country|PostalCode|State     |Street  |ProductId|Quantity|Sequence|GrossPrice|NetPrice|TaxPrice|\n",
            "+------------+----------+-----------------------+-------+------+-------+----------+----------+--------+---------+--------+--------+----------+--------+--------+\n",
            "|orderDetails|cust5001  |2021-12-24 00.00.00.000|ord1001|Delhi |India  |110040    |New Delhi |M.G.Road|prd9001  |2       |1       |550       |500     |50      |\n",
            "|orderDetails|cust5001  |2021-12-24 00.00.00.000|ord1001|Delhi |India  |110040    |New Delhi |M.G.Road|prd9002  |3       |2       |300       |240     |60      |\n",
            "|orderDetails|cust5002  |2021-12-25 00.00.00.000|ord1002|Mumbai|India  |400064    |Maharastra|Malad   |prd9001  |1       |1       |275       |250     |25      |\n",
            "|orderDetails|cust5002  |2021-12-25 00.00.00.000|ord1002|Mumbai|India  |400064    |Maharastra|Malad   |prd9004  |4       |2       |1000      |900     |100     |\n",
            "+------------+----------+-----------------------+-------+------+-------+----------+----------+--------+---------+--------+--------+----------+--------+--------+\n",
            "\n"
          ]
        }
      ]
    },
    {
      "cell_type": "code",
      "source": [
        ""
      ],
      "metadata": {
        "id": "X0s-RXKfjQ-Q"
      },
      "execution_count": null,
      "outputs": []
    }
  ]
}