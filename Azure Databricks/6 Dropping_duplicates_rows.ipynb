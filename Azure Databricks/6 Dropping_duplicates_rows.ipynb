{
  "nbformat": 4,
  "nbformat_minor": 0,
  "metadata": {
    "colab": {
      "name": "Dropping duplicates rows.ipynb",
      "provenance": [],
      "authorship_tag": "ABX9TyO262UZ8vV6Ye+o1ofx2coX",
      "include_colab_link": true
    },
    "kernelspec": {
      "name": "python3",
      "display_name": "Python 3"
    },
    "language_info": {
      "name": "python"
    }
  },
  "cells": [
    {
      "cell_type": "markdown",
      "metadata": {
        "id": "view-in-github",
        "colab_type": "text"
      },
      "source": [
        "<a href=\"https://colab.research.google.com/github/anil-chhetri/Miscellaneous/blob/main/Azure%20Databricks/6%20Dropping_duplicates_rows.ipynb\" target=\"_parent\"><img src=\"https://colab.research.google.com/assets/colab-badge.svg\" alt=\"Open In Colab\"/></a>"
      ]
    },
    {
      "cell_type": "code",
      "source": [
        "!apt-get install openjdk-8-jdk-headless -qq > /dev/null\n",
        "!wget -q https://dlcdn.apache.org/spark/spark-3.2.1/spark-3.2.1-bin-hadoop3.2.tgz\n",
        "!tar xf spark-3.2.1-bin-hadoop3.2.tgz\n",
        "!pip install -q findspark\n",
        "import os\n",
        "os.environ[\"JAVA_HOME\"] = \"/usr/lib/jvm/java-8-openjdk-amd64\"\n",
        "os.environ[\"SPARK_HOME\"] = \"/content/spark-3.2.1-bin-hadoop3.2\"\n",
        "import findspark\n",
        "findspark.init()\n",
        "from pyspark.sql import SparkSession\n",
        "spark = (SparkSession.builder\n",
        "        .master(\"local\")\n",
        "        .appName(\"Colab\")\n",
        "        .config('spark.ui.port', '4050')\n",
        "        .getOrCreate())"
      ],
      "metadata": {
        "id": "AegOiW7hC79B"
      },
      "execution_count": 2,
      "outputs": []
    },
    {
      "cell_type": "code",
      "execution_count": 5,
      "metadata": {
        "id": "7VHW6jQYC3qd"
      },
      "outputs": [],
      "source": [
        "import datetime\n",
        "users = [\n",
        "    {\n",
        "        \"id\": 1,\n",
        "        \"first_name\": \"Corrie\",\n",
        "        \"last_name\": \"Van den Oord\",\n",
        "        \"email\": \"cvandenoord0@etsy.com\",\n",
        "        \"is_customer\": True,\n",
        "        \"amount_paid\": 1000.55,\n",
        "        \"customer_from\": datetime.date(2021, 1, 15),\n",
        "        \"last_updated_ts\": datetime.datetime(2021, 2, 10, 1, 15, 0)\n",
        "    },\n",
        "    {\n",
        "        \"id\": 2,\n",
        "        \"first_name\": \"Nikolaus\",\n",
        "        \"last_name\": \"Brewitt\",\n",
        "        \"email\": \"nbrewitt1@dailymail.co.uk\",\n",
        "        \"is_customer\": True,\n",
        "        \"amount_paid\": 900.0,\n",
        "        \"customer_from\": datetime.date(2021, 2, 14),\n",
        "        \"last_updated_ts\": datetime.datetime(2021, 2, 18, 3, 33, 0)\n",
        "    },\n",
        "    {\n",
        "        \"id\": 3,\n",
        "        \"first_name\": \"Orelie\",\n",
        "        \"last_name\": \"Penney\",\n",
        "        \"email\": \"openney2@vistaprint.com\",\n",
        "        \"is_customer\": True,\n",
        "        \"amount_paid\": 850.55,\n",
        "        \"customer_from\": datetime.date(2021, 1, 21),\n",
        "        \"last_updated_ts\": datetime.datetime(2021, 3, 15, 15, 16, 55)\n",
        "    },\n",
        "    {\n",
        "        \"id\": 3,\n",
        "        \"first_name\": \"Orelie\",\n",
        "        \"last_name\": \"Penney\",\n",
        "        \"email\": \"openney2@vistaprint.com\",\n",
        "        \"is_customer\": True,\n",
        "        \"amount_paid\": 850.55,\n",
        "        \"customer_from\": datetime.date(2021, 1, 21),\n",
        "        \"last_updated_ts\": datetime.datetime(2021, 3, 15, 15, 16, 55)\n",
        "    },\n",
        "    {\n",
        "        \"id\": 4,\n",
        "        \"first_name\": \"Ashby\",\n",
        "        \"last_name\": \"Maddocks\",\n",
        "        \"email\": \"amaddocks3@home.pl\",\n",
        "        \"is_customer\": False,\n",
        "        \"amount_paid\": None,\n",
        "        \"customer_from\": None,\n",
        "        \"last_updated_ts\": datetime.datetime(2021, 4, 10, 17, 45, 30)\n",
        "    },\n",
        "    {\n",
        "        \"id\": 4,\n",
        "        \"first_name\": \"Ashby\",\n",
        "        \"last_name\": \"Maddocks\",\n",
        "        \"email\": \"amaddocks3@home.pl\",\n",
        "        \"is_customer\": False,\n",
        "        \"amount_paid\": None,\n",
        "        \"customer_from\": None,\n",
        "        \"last_updated_ts\": datetime.datetime(2021, 4, 10, 17, 45, 30)\n",
        "    },\n",
        "    {\n",
        "        \"id\": 5,\n",
        "        \"first_name\": \"Kurt\",\n",
        "        \"last_name\": \"Rome\",\n",
        "        \"email\": \"krome4@shutterfly.com\",\n",
        "        \"is_customer\": False,\n",
        "        \"amount_paid\": None,\n",
        "        \"customer_from\": None,\n",
        "        \"last_updated_ts\": datetime.datetime(2021, 4, 2, 0, 55, 18)\n",
        "    },\n",
        "    {\n",
        "        \"id\": 2,\n",
        "        \"first_name\": \"Nikolaus\",\n",
        "        \"last_name\": \"Brewitt\",\n",
        "        \"email\": \"nbrewitt1@dailymail.co.uk\",\n",
        "        \"is_customer\": True,\n",
        "        \"amount_paid\": 1050.0,\n",
        "        \"customer_from\": datetime.date(2021, 2, 14),\n",
        "        \"last_updated_ts\": datetime.datetime(2021, 2, 25, 3, 33, 0)\n",
        "    }\n",
        "]\n",
        "\n",
        "\n",
        "import pandas as pd\n",
        "df = spark.createDataFrame(pd.DataFrame(users))"
      ]
    },
    {
      "cell_type": "code",
      "source": [
        "df.show()"
      ],
      "metadata": {
        "colab": {
          "base_uri": "https://localhost:8080/"
        },
        "id": "cq6s68vbC67W",
        "outputId": "5ae83dcd-6214-4522-9b9f-4fa756f7034a"
      },
      "execution_count": 6,
      "outputs": [
        {
          "output_type": "stream",
          "name": "stdout",
          "text": [
            "+---+----------+------------+--------------------+-----------+-----------+-------------+-------------------+\n",
            "| id|first_name|   last_name|               email|is_customer|amount_paid|customer_from|    last_updated_ts|\n",
            "+---+----------+------------+--------------------+-----------+-----------+-------------+-------------------+\n",
            "|  1|    Corrie|Van den Oord|cvandenoord0@etsy...|       true|    1000.55|   2021-01-15|2021-02-10 01:15:00|\n",
            "|  2|  Nikolaus|     Brewitt|nbrewitt1@dailyma...|       true|      900.0|   2021-02-14|2021-02-18 03:33:00|\n",
            "|  3|    Orelie|      Penney|openney2@vistapri...|       true|     850.55|   2021-01-21|2021-03-15 15:16:55|\n",
            "|  3|    Orelie|      Penney|openney2@vistapri...|       true|     850.55|   2021-01-21|2021-03-15 15:16:55|\n",
            "|  4|     Ashby|    Maddocks|  amaddocks3@home.pl|      false|        NaN|         null|2021-04-10 17:45:30|\n",
            "|  4|     Ashby|    Maddocks|  amaddocks3@home.pl|      false|        NaN|         null|2021-04-10 17:45:30|\n",
            "|  5|      Kurt|        Rome|krome4@shutterfly...|      false|        NaN|         null|2021-04-02 00:55:18|\n",
            "|  2|  Nikolaus|     Brewitt|nbrewitt1@dailyma...|       true|     1050.0|   2021-02-14|2021-02-25 03:33:00|\n",
            "+---+----------+------------+--------------------+-----------+-----------+-------------+-------------------+\n",
            "\n"
          ]
        }
      ]
    },
    {
      "cell_type": "code",
      "source": [
        "df.distinct().show()"
      ],
      "metadata": {
        "colab": {
          "base_uri": "https://localhost:8080/"
        },
        "id": "h_RJw07DDfUU",
        "outputId": "ca07346a-4598-4eba-9517-07d87a5a1dd5"
      },
      "execution_count": 8,
      "outputs": [
        {
          "output_type": "stream",
          "name": "stdout",
          "text": [
            "+---+----------+------------+--------------------+-----------+-----------+-------------+-------------------+\n",
            "| id|first_name|   last_name|               email|is_customer|amount_paid|customer_from|    last_updated_ts|\n",
            "+---+----------+------------+--------------------+-----------+-----------+-------------+-------------------+\n",
            "|  3|    Orelie|      Penney|openney2@vistapri...|       true|     850.55|   2021-01-21|2021-03-15 15:16:55|\n",
            "|  1|    Corrie|Van den Oord|cvandenoord0@etsy...|       true|    1000.55|   2021-01-15|2021-02-10 01:15:00|\n",
            "|  5|      Kurt|        Rome|krome4@shutterfly...|      false|        NaN|         null|2021-04-02 00:55:18|\n",
            "|  4|     Ashby|    Maddocks|  amaddocks3@home.pl|      false|        NaN|         null|2021-04-10 17:45:30|\n",
            "|  2|  Nikolaus|     Brewitt|nbrewitt1@dailyma...|       true|      900.0|   2021-02-14|2021-02-18 03:33:00|\n",
            "|  2|  Nikolaus|     Brewitt|nbrewitt1@dailyma...|       true|     1050.0|   2021-02-14|2021-02-25 03:33:00|\n",
            "+---+----------+------------+--------------------+-----------+-----------+-------------+-------------------+\n",
            "\n"
          ]
        }
      ]
    },
    {
      "cell_type": "code",
      "source": [
        "df.distinct??"
      ],
      "metadata": {
        "id": "c5Mjlu4xDq4E"
      },
      "execution_count": 10,
      "outputs": []
    },
    {
      "cell_type": "code",
      "source": [
        "df.drop_duplicates??"
      ],
      "metadata": {
        "id": "L-N3ZBH4D1cl"
      },
      "execution_count": 11,
      "outputs": []
    },
    {
      "cell_type": "code",
      "source": [
        "help(df.drop_duplicates)"
      ],
      "metadata": {
        "colab": {
          "base_uri": "https://localhost:8080/"
        },
        "id": "M9MJPJUGECxF",
        "outputId": "66c4a4c9-7f6c-4e05-a01d-0019ba1cca6f"
      },
      "execution_count": 12,
      "outputs": [
        {
          "output_type": "stream",
          "name": "stdout",
          "text": [
            "Help on method dropDuplicates in module pyspark.sql.dataframe:\n",
            "\n",
            "dropDuplicates(subset=None) method of pyspark.sql.dataframe.DataFrame instance\n",
            "    :func:`drop_duplicates` is an alias for :func:`dropDuplicates`.\n",
            "    \n",
            "    .. versionadded:: 1.4\n",
            "\n"
          ]
        }
      ]
    },
    {
      "cell_type": "code",
      "source": [
        "df.drop_duplicates().show()"
      ],
      "metadata": {
        "colab": {
          "base_uri": "https://localhost:8080/"
        },
        "id": "rnvehJOmENy0",
        "outputId": "1a145a8c-4c43-4e01-8560-27129cf3dbee"
      },
      "execution_count": 13,
      "outputs": [
        {
          "output_type": "stream",
          "name": "stdout",
          "text": [
            "+---+----------+------------+--------------------+-----------+-----------+-------------+-------------------+\n",
            "| id|first_name|   last_name|               email|is_customer|amount_paid|customer_from|    last_updated_ts|\n",
            "+---+----------+------------+--------------------+-----------+-----------+-------------+-------------------+\n",
            "|  3|    Orelie|      Penney|openney2@vistapri...|       true|     850.55|   2021-01-21|2021-03-15 15:16:55|\n",
            "|  1|    Corrie|Van den Oord|cvandenoord0@etsy...|       true|    1000.55|   2021-01-15|2021-02-10 01:15:00|\n",
            "|  5|      Kurt|        Rome|krome4@shutterfly...|      false|        NaN|         null|2021-04-02 00:55:18|\n",
            "|  4|     Ashby|    Maddocks|  amaddocks3@home.pl|      false|        NaN|         null|2021-04-10 17:45:30|\n",
            "|  2|  Nikolaus|     Brewitt|nbrewitt1@dailyma...|       true|      900.0|   2021-02-14|2021-02-18 03:33:00|\n",
            "|  2|  Nikolaus|     Brewitt|nbrewitt1@dailyma...|       true|     1050.0|   2021-02-14|2021-02-25 03:33:00|\n",
            "+---+----------+------------+--------------------+-----------+-----------+-------------+-------------------+\n",
            "\n"
          ]
        }
      ]
    },
    {
      "cell_type": "code",
      "source": [
        "df.drop_duplicates(['id', 'first_name']).show()"
      ],
      "metadata": {
        "colab": {
          "base_uri": "https://localhost:8080/"
        },
        "id": "IDHqVUxHESsU",
        "outputId": "8b06d677-2251-4a13-8e8a-ec04a2e74337"
      },
      "execution_count": 14,
      "outputs": [
        {
          "output_type": "stream",
          "name": "stdout",
          "text": [
            "+---+----------+------------+--------------------+-----------+-----------+-------------+-------------------+\n",
            "| id|first_name|   last_name|               email|is_customer|amount_paid|customer_from|    last_updated_ts|\n",
            "+---+----------+------------+--------------------+-----------+-----------+-------------+-------------------+\n",
            "|  1|    Corrie|Van den Oord|cvandenoord0@etsy...|       true|    1000.55|   2021-01-15|2021-02-10 01:15:00|\n",
            "|  2|  Nikolaus|     Brewitt|nbrewitt1@dailyma...|       true|      900.0|   2021-02-14|2021-02-18 03:33:00|\n",
            "|  3|    Orelie|      Penney|openney2@vistapri...|       true|     850.55|   2021-01-21|2021-03-15 15:16:55|\n",
            "|  4|     Ashby|    Maddocks|  amaddocks3@home.pl|      false|        NaN|         null|2021-04-10 17:45:30|\n",
            "|  5|      Kurt|        Rome|krome4@shutterfly...|      false|        NaN|         null|2021-04-02 00:55:18|\n",
            "+---+----------+------------+--------------------+-----------+-----------+-------------+-------------------+\n",
            "\n"
          ]
        }
      ]
    },
    {
      "cell_type": "code",
      "source": [
        "df.dropDuplicates??"
      ],
      "metadata": {
        "id": "dHlvRzJPEcij"
      },
      "execution_count": 15,
      "outputs": []
    },
    {
      "cell_type": "code",
      "source": [
        "help(df.dropDuplicates)"
      ],
      "metadata": {
        "colab": {
          "base_uri": "https://localhost:8080/"
        },
        "id": "Gg_xtE5-EhXH",
        "outputId": "2193818b-356e-4f5f-987a-86e86d6bf3c5"
      },
      "execution_count": 16,
      "outputs": [
        {
          "output_type": "stream",
          "name": "stdout",
          "text": [
            "Help on method dropDuplicates in module pyspark.sql.dataframe:\n",
            "\n",
            "dropDuplicates(subset=None) method of pyspark.sql.dataframe.DataFrame instance\n",
            "    Return a new :class:`DataFrame` with duplicate rows removed,\n",
            "    optionally only considering certain columns.\n",
            "    \n",
            "    For a static batch :class:`DataFrame`, it just drops duplicate rows. For a streaming\n",
            "    :class:`DataFrame`, it will keep all data across triggers as intermediate state to drop\n",
            "    duplicates rows. You can use :func:`withWatermark` to limit how late the duplicate data can\n",
            "    be and system will accordingly limit the state. In addition, too late data older than\n",
            "    watermark will be dropped to avoid any possibility of duplicates.\n",
            "    \n",
            "    :func:`drop_duplicates` is an alias for :func:`dropDuplicates`.\n",
            "    \n",
            "    .. versionadded:: 1.4.0\n",
            "    \n",
            "    Examples\n",
            "    --------\n",
            "    >>> from pyspark.sql import Row\n",
            "    >>> df = sc.parallelize([ \\\n",
            "    ...     Row(name='Alice', age=5, height=80), \\\n",
            "    ...     Row(name='Alice', age=5, height=80), \\\n",
            "    ...     Row(name='Alice', age=10, height=80)]).toDF()\n",
            "    >>> df.dropDuplicates().show()\n",
            "    +-----+---+------+\n",
            "    | name|age|height|\n",
            "    +-----+---+------+\n",
            "    |Alice|  5|    80|\n",
            "    |Alice| 10|    80|\n",
            "    +-----+---+------+\n",
            "    \n",
            "    >>> df.dropDuplicates(['name', 'height']).show()\n",
            "    +-----+---+------+\n",
            "    | name|age|height|\n",
            "    +-----+---+------+\n",
            "    |Alice|  5|    80|\n",
            "    +-----+---+------+\n",
            "\n"
          ]
        }
      ]
    },
    {
      "cell_type": "code",
      "source": [
        "df.dropDuplicates().show()"
      ],
      "metadata": {
        "colab": {
          "base_uri": "https://localhost:8080/"
        },
        "id": "MiMDQlbpEpsV",
        "outputId": "35d8c2f1-f96a-440f-ab6b-cddd76c7c425"
      },
      "execution_count": 18,
      "outputs": [
        {
          "output_type": "stream",
          "name": "stdout",
          "text": [
            "+---+----------+------------+--------------------+-----------+-----------+-------------+-------------------+\n",
            "| id|first_name|   last_name|               email|is_customer|amount_paid|customer_from|    last_updated_ts|\n",
            "+---+----------+------------+--------------------+-----------+-----------+-------------+-------------------+\n",
            "|  3|    Orelie|      Penney|openney2@vistapri...|       true|     850.55|   2021-01-21|2021-03-15 15:16:55|\n",
            "|  1|    Corrie|Van den Oord|cvandenoord0@etsy...|       true|    1000.55|   2021-01-15|2021-02-10 01:15:00|\n",
            "|  5|      Kurt|        Rome|krome4@shutterfly...|      false|        NaN|         null|2021-04-02 00:55:18|\n",
            "|  4|     Ashby|    Maddocks|  amaddocks3@home.pl|      false|        NaN|         null|2021-04-10 17:45:30|\n",
            "|  2|  Nikolaus|     Brewitt|nbrewitt1@dailyma...|       true|      900.0|   2021-02-14|2021-02-18 03:33:00|\n",
            "|  2|  Nikolaus|     Brewitt|nbrewitt1@dailyma...|       true|     1050.0|   2021-02-14|2021-02-25 03:33:00|\n",
            "+---+----------+------------+--------------------+-----------+-----------+-------------+-------------------+\n",
            "\n"
          ]
        }
      ]
    },
    {
      "cell_type": "code",
      "source": [
        "df.dropDuplicates(['id', 'amount_paid']).show()"
      ],
      "metadata": {
        "colab": {
          "base_uri": "https://localhost:8080/"
        },
        "id": "eBu9OAFvE0k1",
        "outputId": "6b5a3820-4c9d-4ada-eae7-31282a102d89"
      },
      "execution_count": 21,
      "outputs": [
        {
          "output_type": "stream",
          "name": "stdout",
          "text": [
            "+---+----------+------------+--------------------+-----------+-----------+-------------+-------------------+\n",
            "| id|first_name|   last_name|               email|is_customer|amount_paid|customer_from|    last_updated_ts|\n",
            "+---+----------+------------+--------------------+-----------+-----------+-------------+-------------------+\n",
            "|  1|    Corrie|Van den Oord|cvandenoord0@etsy...|       true|    1000.55|   2021-01-15|2021-02-10 01:15:00|\n",
            "|  2|  Nikolaus|     Brewitt|nbrewitt1@dailyma...|       true|      900.0|   2021-02-14|2021-02-18 03:33:00|\n",
            "|  2|  Nikolaus|     Brewitt|nbrewitt1@dailyma...|       true|     1050.0|   2021-02-14|2021-02-25 03:33:00|\n",
            "|  3|    Orelie|      Penney|openney2@vistapri...|       true|     850.55|   2021-01-21|2021-03-15 15:16:55|\n",
            "|  4|     Ashby|    Maddocks|  amaddocks3@home.pl|      false|        NaN|         null|2021-04-10 17:45:30|\n",
            "|  5|      Kurt|        Rome|krome4@shutterfly...|      false|        NaN|         null|2021-04-02 00:55:18|\n",
            "+---+----------+------------+--------------------+-----------+-----------+-------------+-------------------+\n",
            "\n"
          ]
        }
      ]
    },
    {
      "cell_type": "code",
      "source": [
        ""
      ],
      "metadata": {
        "id": "SjyAW-aXE6Dz"
      },
      "execution_count": null,
      "outputs": []
    }
  ]
}