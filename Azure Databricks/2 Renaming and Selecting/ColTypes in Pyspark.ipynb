{
  "cells": [
    {
      "cell_type": "code",
      "source": [
        "!apt-get install openjdk-8-jdk-headless -qq > /dev/null\n",
        "!wget -q https://dlcdn.apache.org/spark/spark-3.2.1/spark-3.2.1-bin-hadoop3.2.tgz\n",
        "!tar xf spark-3.2.1-bin-hadoop3.2.tgz\n",
        "!pip install -q findspark\n",
        "import os\n",
        "os.environ[\"JAVA_HOME\"] = \"/usr/lib/jvm/java-8-openjdk-amd64\"\n",
        "os.environ[\"SPARK_HOME\"] = \"/content/spark-3.2.1-bin-hadoop3.2\"\n",
        "import findspark\n",
        "findspark.init()"
      ],
      "metadata": {
        "id": "wXJDq6nAB-Ep"
      },
      "execution_count": 1,
      "outputs": []
    },
    {
      "cell_type": "code",
      "source": [
        "from pyspark.sql import SparkSession\n",
        "spark = (SparkSession.builder\n",
        "        .master(\"local\")\n",
        "        .appName(\"Colab\")\n",
        "        .config('spark.ui.port', '4050')\n",
        "        .getOrCreate())"
      ],
      "metadata": {
        "id": "1TlOCdA0B-jU"
      },
      "execution_count": 2,
      "outputs": []
    },
    {
      "cell_type": "code",
      "source": [
        "from pyspark.sql import Row\n",
        "from pyspark.sql.functions import col\n",
        "\n",
        "import pandas as pd\n",
        "import datetime"
      ],
      "metadata": {
        "id": "1xN7RlluCBEh"
      },
      "execution_count": 21,
      "outputs": []
    },
    {
      "cell_type": "code",
      "source": [
        "users = [\n",
        "    {\n",
        "        \"id\": 1,\n",
        "        \"first_name\": \"Corrie\",\n",
        "        \"last_name\": \"Van den Oord\",\n",
        "        \"email\": \"cvandenoord0@etsy.com\",\n",
        "        \"phone_numbers\": Row(mobile=\"+1 234 567 8901\", home=\"+1 234 567 8911\"),\n",
        "        \"courses\": [1, 2],\n",
        "        \"is_customer\": True,\n",
        "        \"amount_paid\": 1000.55,\n",
        "        \"customer_from\": datetime.date(2021, 1, 15),\n",
        "        \"last_updated_ts\": datetime.datetime(2021, 2, 10, 1, 15, 0)\n",
        "    },\n",
        "    {\n",
        "        \"id\": 2,\n",
        "        \"first_name\": \"Nikolaus\",\n",
        "        \"last_name\": \"Brewitt\",\n",
        "        \"email\": \"nbrewitt1@dailymail.co.uk\",\n",
        "        \"phone_numbers\":  Row(mobile=\"+1 234 567 8923\", home=\"1 234 567 8934\"),\n",
        "        \"courses\": [3],\n",
        "        \"is_customer\": True,\n",
        "        \"amount_paid\": 900.0,\n",
        "        \"customer_from\": datetime.date(2021, 2, 14),\n",
        "        \"last_updated_ts\": datetime.datetime(2021, 2, 18, 3, 33, 0)\n",
        "    },\n",
        "    {\n",
        "        \"id\": 3,\n",
        "        \"first_name\": \"Orelie\",\n",
        "        \"last_name\": \"Penney\",\n",
        "        \"email\": \"openney2@vistaprint.com\",\n",
        "        \"phone_numbers\": Row(mobile=\"+1 714 512 9752\", home=\"+1 714 512 6601\"),\n",
        "        \"courses\": [2, 4],\n",
        "        \"is_customer\": True,\n",
        "        \"amount_paid\": 850.55,\n",
        "        \"customer_from\": datetime.date(2021, 1, 21),\n",
        "        \"last_updated_ts\": datetime.datetime(2021, 3, 15, 15, 16, 55)\n",
        "    },\n",
        "    {\n",
        "        \"id\": 4,\n",
        "        \"first_name\": \"Ashby\",\n",
        "        \"last_name\": \"Maddocks\",\n",
        "        \"email\": \"amaddocks3@home.pl\",\n",
        "        \"phone_numbers\": Row(mobile=None, home=None),\n",
        "        \"courses\": [],\n",
        "        \"is_customer\": False,\n",
        "        \"amount_paid\": None,\n",
        "        \"customer_from\": None,\n",
        "        \"last_updated_ts\": datetime.datetime(2021, 4, 10, 17, 45, 30)\n",
        "    },\n",
        "    {\n",
        "        \"id\": 5,\n",
        "        \"first_name\": \"Kurt\",\n",
        "        \"last_name\": \"Rome\",\n",
        "        \"email\": \"krome4@shutterfly.com\",\n",
        "        \"phone_numbers\": Row(mobile=\"+1 817 934 7142\", home=None),\n",
        "        \"courses\": [],\n",
        "        \"is_customer\": False,\n",
        "        \"amount_paid\": None,\n",
        "        \"customer_from\": None,\n",
        "        \"last_updated_ts\": datetime.datetime(2021, 4, 2, 0, 55, 18)\n",
        "    }\n",
        "]"
      ],
      "metadata": {
        "id": "oDjxoSrGCH_D"
      },
      "execution_count": 5,
      "outputs": []
    },
    {
      "cell_type": "code",
      "source": [
        "spark.conf.set('spark.sql.execution.arrow.pyspark.enabled', False)"
      ],
      "metadata": {
        "id": "AMg1SlWcCZsw"
      },
      "execution_count": 6,
      "outputs": []
    },
    {
      "cell_type": "code",
      "source": [
        "df = spark.createDataFrame(pd.DataFrame(users))"
      ],
      "metadata": {
        "id": "0DMEer8RCa9g"
      },
      "execution_count": 7,
      "outputs": []
    },
    {
      "cell_type": "code",
      "source": [
        "df.printSchema()"
      ],
      "metadata": {
        "id": "w4aG4lBTCgaQ",
        "outputId": "f0d4e51a-071c-4a01-f40a-8a85dc98be8b",
        "colab": {
          "base_uri": "https://localhost:8080/"
        }
      },
      "execution_count": 8,
      "outputs": [
        {
          "output_type": "stream",
          "name": "stdout",
          "text": [
            "root\n",
            " |-- id: long (nullable = true)\n",
            " |-- first_name: string (nullable = true)\n",
            " |-- last_name: string (nullable = true)\n",
            " |-- email: string (nullable = true)\n",
            " |-- phone_numbers: struct (nullable = true)\n",
            " |    |-- mobile: string (nullable = true)\n",
            " |    |-- home: string (nullable = true)\n",
            " |-- courses: array (nullable = true)\n",
            " |    |-- element: long (containsNull = true)\n",
            " |-- is_customer: boolean (nullable = true)\n",
            " |-- amount_paid: double (nullable = true)\n",
            " |-- customer_from: date (nullable = true)\n",
            " |-- last_updated_ts: timestamp (nullable = true)\n",
            "\n"
          ]
        }
      ]
    },
    {
      "cell_type": "code",
      "source": [
        "df['id'] #creating column type "
      ],
      "metadata": {
        "id": "vTLQRYuuCiVh",
        "outputId": "8800016a-7c1a-4800-c074-0b58682d7984",
        "colab": {
          "base_uri": "https://localhost:8080/"
        }
      },
      "execution_count": 10,
      "outputs": [
        {
          "output_type": "execute_result",
          "data": {
            "text/plain": [
              "Column<'id'>"
            ]
          },
          "metadata": {},
          "execution_count": 10
        }
      ]
    },
    {
      "cell_type": "code",
      "source": [
        ""
      ],
      "metadata": {
        "id": "NBSBxDiLCsph"
      },
      "execution_count": 14,
      "outputs": []
    },
    {
      "cell_type": "code",
      "source": [
        "col('id')"
      ],
      "metadata": {
        "id": "nF9oAi-eCqoR",
        "outputId": "fb83d845-a18f-412c-ba46-8565579b38da",
        "colab": {
          "base_uri": "https://localhost:8080/"
        }
      },
      "execution_count": 15,
      "outputs": [
        {
          "output_type": "execute_result",
          "data": {
            "text/plain": [
              "Column<'id'>"
            ]
          },
          "metadata": {},
          "execution_count": 15
        }
      ]
    },
    {
      "cell_type": "code",
      "source": [
        "## different ways of selecting\n",
        "\n",
        "df.select('id', 'first_name', 'last_name').show()"
      ],
      "metadata": {
        "id": "Gvr16NjyC0FQ",
        "outputId": "9d157c07-bb29-45e1-8027-3aedc4b76c55",
        "colab": {
          "base_uri": "https://localhost:8080/"
        }
      },
      "execution_count": 16,
      "outputs": [
        {
          "output_type": "stream",
          "name": "stdout",
          "text": [
            "+---+----------+------------+\n",
            "| id|first_name|   last_name|\n",
            "+---+----------+------------+\n",
            "|  1|    Corrie|Van den Oord|\n",
            "|  2|  Nikolaus|     Brewitt|\n",
            "|  3|    Orelie|      Penney|\n",
            "|  4|     Ashby|    Maddocks|\n",
            "|  5|      Kurt|        Rome|\n",
            "+---+----------+------------+\n",
            "\n"
          ]
        }
      ]
    },
    {
      "cell_type": "code",
      "source": [
        "cols = ['id', 'first_name', 'last_name']\n",
        "# df.select(cols).show() #or \n",
        "df.select(*cols).show()"
      ],
      "metadata": {
        "id": "2uDrIRpGDFgR",
        "outputId": "af953bbf-5701-470c-e070-89946e24206d",
        "colab": {
          "base_uri": "https://localhost:8080/"
        }
      },
      "execution_count": 20,
      "outputs": [
        {
          "output_type": "stream",
          "name": "stdout",
          "text": [
            "+---+----------+------------+\n",
            "| id|first_name|   last_name|\n",
            "+---+----------+------------+\n",
            "|  1|    Corrie|Van den Oord|\n",
            "|  2|  Nikolaus|     Brewitt|\n",
            "|  3|    Orelie|      Penney|\n",
            "|  4|     Ashby|    Maddocks|\n",
            "|  5|      Kurt|        Rome|\n",
            "+---+----------+------------+\n",
            "\n"
          ]
        }
      ]
    },
    {
      "cell_type": "code",
      "source": [
        "id = col('id')\n",
        "df.select(id).show()"
      ],
      "metadata": {
        "id": "BALrDKI1DKux",
        "outputId": "c44fddb6-ee96-4dd0-813a-53e28e48c240",
        "colab": {
          "base_uri": "https://localhost:8080/"
        }
      },
      "execution_count": 22,
      "outputs": [
        {
          "output_type": "stream",
          "name": "stdout",
          "text": [
            "+---+\n",
            "| id|\n",
            "+---+\n",
            "|  1|\n",
            "|  2|\n",
            "|  3|\n",
            "|  4|\n",
            "|  5|\n",
            "+---+\n",
            "\n"
          ]
        }
      ]
    },
    {
      "cell_type": "markdown",
      "source": [
        "few function that we can use on tops of col, **cast**, **asc**, **desc**, **contains**."
      ],
      "metadata": {
        "id": "5aLaRXbJD2FU"
      }
    },
    {
      "cell_type": "code",
      "source": [
        "df.show()"
      ],
      "metadata": {
        "id": "m6kR2okvDuJv",
        "outputId": "0f73a419-076e-430c-aac7-270b0f02debc",
        "colab": {
          "base_uri": "https://localhost:8080/"
        }
      },
      "execution_count": 23,
      "outputs": [
        {
          "output_type": "stream",
          "name": "stdout",
          "text": [
            "+---+----------+------------+--------------------+--------------------+-------+-----------+-----------+-------------+-------------------+\n",
            "| id|first_name|   last_name|               email|       phone_numbers|courses|is_customer|amount_paid|customer_from|    last_updated_ts|\n",
            "+---+----------+------------+--------------------+--------------------+-------+-----------+-----------+-------------+-------------------+\n",
            "|  1|    Corrie|Van den Oord|cvandenoord0@etsy...|{+1 234 567 8901,...| [1, 2]|       true|    1000.55|   2021-01-15|2021-02-10 01:15:00|\n",
            "|  2|  Nikolaus|     Brewitt|nbrewitt1@dailyma...|{+1 234 567 8923,...|    [3]|       true|      900.0|   2021-02-14|2021-02-18 03:33:00|\n",
            "|  3|    Orelie|      Penney|openney2@vistapri...|{+1 714 512 9752,...| [2, 4]|       true|     850.55|   2021-01-21|2021-03-15 15:16:55|\n",
            "|  4|     Ashby|    Maddocks|  amaddocks3@home.pl|        {null, null}|     []|      false|        NaN|         null|2021-04-10 17:45:30|\n",
            "|  5|      Kurt|        Rome|krome4@shutterfly...|{+1 817 934 7142,...|     []|      false|        NaN|         null|2021-04-02 00:55:18|\n",
            "+---+----------+------------+--------------------+--------------------+-------+-----------+-----------+-------------+-------------------+\n",
            "\n"
          ]
        }
      ]
    },
    {
      "cell_type": "code",
      "source": [
        "## type casting customer from columns.\n",
        "from pyspark.sql.functions import date_format"
      ],
      "metadata": {
        "id": "6Hnm6PL4EC3P"
      },
      "execution_count": 24,
      "outputs": []
    },
    {
      "cell_type": "code",
      "source": [
        "df.select(col('id'), date_format('customer_from', 'yyyyMMdd')).show()"
      ],
      "metadata": {
        "id": "Mv7eVQkrEQhf",
        "outputId": "7c88e36f-4e22-4feb-f05a-ab4684d56432",
        "colab": {
          "base_uri": "https://localhost:8080/"
        }
      },
      "execution_count": 25,
      "outputs": [
        {
          "output_type": "stream",
          "name": "stdout",
          "text": [
            "+---+------------------------------------+\n",
            "| id|date_format(customer_from, yyyyMMdd)|\n",
            "+---+------------------------------------+\n",
            "|  1|                            20210115|\n",
            "|  2|                            20210214|\n",
            "|  3|                            20210121|\n",
            "|  4|                                null|\n",
            "|  5|                                null|\n",
            "+---+------------------------------------+\n",
            "\n"
          ]
        }
      ]
    },
    {
      "cell_type": "code",
      "source": [
        "df.select(col('id'), date_format('customer_from', 'yyyyMMdd').alias('customer_from')).show()"
      ],
      "metadata": {
        "id": "j8xFyFPfEYdQ",
        "outputId": "1555ac45-18a3-474f-ae30-7c76663b6ce7",
        "colab": {
          "base_uri": "https://localhost:8080/"
        }
      },
      "execution_count": 26,
      "outputs": [
        {
          "output_type": "stream",
          "name": "stdout",
          "text": [
            "+---+-------------+\n",
            "| id|customer_from|\n",
            "+---+-------------+\n",
            "|  1|     20210115|\n",
            "|  2|     20210214|\n",
            "|  3|     20210121|\n",
            "|  4|         null|\n",
            "|  5|         null|\n",
            "+---+-------------+\n",
            "\n"
          ]
        }
      ]
    },
    {
      "cell_type": "code",
      "source": [
        "df.select(col('id'), date_format('customer_from', 'yyyyMMdd').alias('customer_from')).printSchema()"
      ],
      "metadata": {
        "id": "4TArdKgAEm4Q",
        "outputId": "12a80b54-2954-4817-a5ee-48328a330279",
        "colab": {
          "base_uri": "https://localhost:8080/"
        }
      },
      "execution_count": 27,
      "outputs": [
        {
          "output_type": "stream",
          "name": "stdout",
          "text": [
            "root\n",
            " |-- id: long (nullable = true)\n",
            " |-- customer_from: string (nullable = true)\n",
            "\n"
          ]
        }
      ]
    },
    {
      "cell_type": "code",
      "source": [
        "df.select(col('id'), date_format('customer_from', 'yyyyMMdd').cast('int').alias('customer_from')).show()"
      ],
      "metadata": {
        "id": "1wq4bZzyEtgx",
        "outputId": "c970990d-d416-4b08-fa11-f15c62cd2f8c",
        "colab": {
          "base_uri": "https://localhost:8080/"
        }
      },
      "execution_count": 28,
      "outputs": [
        {
          "output_type": "stream",
          "name": "stdout",
          "text": [
            "+---+-------------+\n",
            "| id|customer_from|\n",
            "+---+-------------+\n",
            "|  1|     20210115|\n",
            "|  2|     20210214|\n",
            "|  3|     20210121|\n",
            "|  4|         null|\n",
            "|  5|         null|\n",
            "+---+-------------+\n",
            "\n"
          ]
        }
      ]
    },
    {
      "cell_type": "code",
      "source": [
        "df.select(col('id'), date_format('customer_from', 'yyyyMMdd').cast('int').alias('customer_from')).printSchema()"
      ],
      "metadata": {
        "id": "_q8uGDzlE3eA",
        "outputId": "8dfdede5-b4b4-4721-97c5-7d693a0517e2",
        "colab": {
          "base_uri": "https://localhost:8080/"
        }
      },
      "execution_count": 29,
      "outputs": [
        {
          "output_type": "stream",
          "name": "stdout",
          "text": [
            "root\n",
            " |-- id: long (nullable = true)\n",
            " |-- customer_from: integer (nullable = true)\n",
            "\n"
          ]
        }
      ]
    },
    {
      "cell_type": "code",
      "source": [
        "cols = [col('id'), date_format('customer_from','yyyyMMdd').cast('int').alias('customer_from')]\n",
        "\n",
        "df.select(cols)"
      ],
      "metadata": {
        "id": "i0g1c8BsE5eh",
        "outputId": "30c3d5f9-ea46-4559-f935-bd1d0c7a76d9",
        "colab": {
          "base_uri": "https://localhost:8080/"
        }
      },
      "execution_count": 30,
      "outputs": [
        {
          "output_type": "execute_result",
          "data": {
            "text/plain": [
              "DataFrame[id: bigint, customer_from: int]"
            ]
          },
          "metadata": {},
          "execution_count": 30
        }
      ]
    },
    {
      "cell_type": "code",
      "source": [
        ""
      ],
      "metadata": {
        "id": "69AIuUgXFLlS"
      },
      "execution_count": null,
      "outputs": []
    }
  ],
  "metadata": {
    "colab": {
      "collapsed_sections": [],
      "name": "Welcome To Colaboratory",
      "provenance": []
    },
    "kernelspec": {
      "display_name": "Python 3",
      "name": "python3"
    }
  },
  "nbformat": 4,
  "nbformat_minor": 0
}