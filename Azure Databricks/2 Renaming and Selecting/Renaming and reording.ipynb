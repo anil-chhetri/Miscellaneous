{
  "cells": [
    {
      "cell_type": "code",
      "source": [
        "!apt-get install openjdk-8-jdk-headless -qq > /dev/null\n",
        "!wget -q https://dlcdn.apache.org/spark/spark-3.2.1/spark-3.2.1-bin-hadoop3.2.tgz\n",
        "!tar xf spark-3.2.1-bin-hadoop3.2.tgz\n",
        "!pip install -q findspark\n",
        "import os\n",
        "os.environ[\"JAVA_HOME\"] = \"/usr/lib/jvm/java-8-openjdk-amd64\"\n",
        "os.environ[\"SPARK_HOME\"] = \"/content/spark-3.2.1-bin-hadoop3.2\"\n",
        "import findspark\n",
        "findspark.init()"
      ],
      "metadata": {
        "id": "0VmtYJ9nrn0R"
      },
      "execution_count": 1,
      "outputs": []
    },
    {
      "cell_type": "code",
      "source": [
        "from pyspark.sql import SparkSession\n",
        "spark = (SparkSession.builder\n",
        "        .master(\"local\")\n",
        "        .appName(\"Colab\")\n",
        "        .config('spark.ui.port', '4050')\n",
        "        .getOrCreate())"
      ],
      "metadata": {
        "id": "__NRDr1QroVX"
      },
      "execution_count": 2,
      "outputs": []
    },
    {
      "cell_type": "code",
      "source": [
        "from pyspark.sql import Row, functions as f\n",
        "import datetime \n",
        "import pandas as pd\n"
      ],
      "metadata": {
        "id": "rn43CAjvrstr"
      },
      "execution_count": 6,
      "outputs": []
    },
    {
      "cell_type": "code",
      "source": [
        "users = [\n",
        "    {\n",
        "        \"id\": 1,\n",
        "        \"first_name\": \"Corrie\",\n",
        "        \"last_name\": \"Van den Oord\",\n",
        "        \"email\": \"cvandenoord0@etsy.com\",\n",
        "        \"phone_numbers\": Row(mobile=\"+1 234 567 8901\", home=\"+1 234 567 8911\"),\n",
        "        \"courses\": [1, 2],\n",
        "        \"is_customer\": True,\n",
        "        \"amount_paid\": 1000.55,\n",
        "        \"customer_from\": datetime.date(2021, 1, 15),\n",
        "        \"last_updated_ts\": datetime.datetime(2021, 2, 10, 1, 15, 0)\n",
        "    },\n",
        "    {\n",
        "        \"id\": 2,\n",
        "        \"first_name\": \"Nikolaus\",\n",
        "        \"last_name\": \"Brewitt\",\n",
        "        \"email\": \"nbrewitt1@dailymail.co.uk\",\n",
        "        \"phone_numbers\":  Row(mobile=\"+1 234 567 8923\", home=\"1 234 567 8934\"),\n",
        "        \"courses\": [3],\n",
        "        \"is_customer\": True,\n",
        "        \"amount_paid\": 900.0,\n",
        "        \"customer_from\": datetime.date(2021, 2, 14),\n",
        "        \"last_updated_ts\": datetime.datetime(2021, 2, 18, 3, 33, 0)\n",
        "    },\n",
        "    {\n",
        "        \"id\": 3,\n",
        "        \"first_name\": \"Orelie\",\n",
        "        \"last_name\": \"Penney\",\n",
        "        \"email\": \"openney2@vistaprint.com\",\n",
        "        \"phone_numbers\": Row(mobile=\"+1 714 512 9752\", home=\"+1 714 512 6601\"),\n",
        "        \"courses\": [2, 4],\n",
        "        \"is_customer\": True,\n",
        "        \"amount_paid\": 850.55,\n",
        "        \"customer_from\": datetime.date(2021, 1, 21),\n",
        "        \"last_updated_ts\": datetime.datetime(2021, 3, 15, 15, 16, 55)\n",
        "    },\n",
        "    {\n",
        "        \"id\": 4,\n",
        "        \"first_name\": \"Ashby\",\n",
        "        \"last_name\": \"Maddocks\",\n",
        "        \"email\": \"amaddocks3@home.pl\",\n",
        "        \"phone_numbers\": Row(mobile=None, home=None),\n",
        "        \"courses\": [],\n",
        "        \"is_customer\": False,\n",
        "        \"amount_paid\": None,\n",
        "        \"customer_from\": None,\n",
        "        \"last_updated_ts\": datetime.datetime(2021, 4, 10, 17, 45, 30)\n",
        "    },\n",
        "    {\n",
        "        \"id\": 5,\n",
        "        \"first_name\": \"Kurt\",\n",
        "        \"last_name\": \"Rome\",\n",
        "        \"email\": \"krome4@shutterfly.com\",\n",
        "        \"phone_numbers\": Row(mobile=\"+1 817 934 7142\", home=None),\n",
        "        \"courses\": [],\n",
        "        \"is_customer\": False,\n",
        "        \"amount_paid\": None,\n",
        "        \"customer_from\": None,\n",
        "        \"last_updated_ts\": datetime.datetime(2021, 4, 2, 0, 55, 18)\n",
        "    }\n",
        "]"
      ],
      "metadata": {
        "id": "Gvm3jgm0r1M7"
      },
      "execution_count": 7,
      "outputs": []
    },
    {
      "cell_type": "code",
      "source": [
        "df = spark.createDataFrame(pd.DataFrame(users))"
      ],
      "metadata": {
        "id": "Q82NG385sA5t"
      },
      "execution_count": 8,
      "outputs": []
    },
    {
      "cell_type": "markdown",
      "source": [
        "Using `withColumn` to rename the columns."
      ],
      "metadata": {
        "id": "8V9COAKpuOfR"
      }
    },
    {
      "cell_type": "code",
      "source": [
        "df.withColumn('CountOfCourse', f.size(f.col('courses'))).show()"
      ],
      "metadata": {
        "id": "fFNFBlJMsE8K",
        "outputId": "da6bd333-edd4-49fd-bb56-e107b42307a9",
        "colab": {
          "base_uri": "https://localhost:8080/"
        }
      },
      "execution_count": 18,
      "outputs": [
        {
          "output_type": "stream",
          "name": "stdout",
          "text": [
            "+---+----------+------------+--------------------+--------------------+-------+-----------+-----------+-------------+-------------------+-------------+\n",
            "| id|first_name|   last_name|               email|       phone_numbers|courses|is_customer|amount_paid|customer_from|    last_updated_ts|CountOfCourse|\n",
            "+---+----------+------------+--------------------+--------------------+-------+-----------+-----------+-------------+-------------------+-------------+\n",
            "|  1|    Corrie|Van den Oord|cvandenoord0@etsy...|{+1 234 567 8901,...| [1, 2]|       true|    1000.55|   2021-01-15|2021-02-10 01:15:00|            2|\n",
            "|  2|  Nikolaus|     Brewitt|nbrewitt1@dailyma...|{+1 234 567 8923,...|    [3]|       true|      900.0|   2021-02-14|2021-02-18 03:33:00|            1|\n",
            "|  3|    Orelie|      Penney|openney2@vistapri...|{+1 714 512 9752,...| [2, 4]|       true|     850.55|   2021-01-21|2021-03-15 15:16:55|            2|\n",
            "|  4|     Ashby|    Maddocks|  amaddocks3@home.pl|        {null, null}|     []|      false|        NaN|         null|2021-04-10 17:45:30|            0|\n",
            "|  5|      Kurt|        Rome|krome4@shutterfly...|{+1 817 934 7142,...|     []|      false|        NaN|         null|2021-04-02 00:55:18|            0|\n",
            "+---+----------+------------+--------------------+--------------------+-------+-----------+-----------+-------------+-------------------+-------------+\n",
            "\n"
          ]
        }
      ]
    },
    {
      "cell_type": "code",
      "source": [
        "df.select(f.col('courses')).show()"
      ],
      "metadata": {
        "id": "cgQFvJApsMVU",
        "outputId": "16d8b42c-0302-4334-aca0-161aae583748",
        "colab": {
          "base_uri": "https://localhost:8080/"
        }
      },
      "execution_count": 14,
      "outputs": [
        {
          "output_type": "stream",
          "name": "stdout",
          "text": [
            "+-------+\n",
            "|courses|\n",
            "+-------+\n",
            "| [1, 2]|\n",
            "|    [3]|\n",
            "| [2, 4]|\n",
            "|     []|\n",
            "|     []|\n",
            "+-------+\n",
            "\n"
          ]
        }
      ]
    },
    {
      "cell_type": "markdown",
      "source": [
        "Using `withColumnRenamed`"
      ],
      "metadata": {
        "id": "3h_3INsbtYzv"
      }
    },
    {
      "cell_type": "code",
      "source": [
        "help(df.withColumnRenamed)"
      ],
      "metadata": {
        "id": "VZvkfrVBtXFC",
        "outputId": "1991506c-ca0b-4dd3-eb65-48e02a85865e",
        "colab": {
          "base_uri": "https://localhost:8080/"
        }
      },
      "execution_count": 19,
      "outputs": [
        {
          "output_type": "stream",
          "name": "stdout",
          "text": [
            "Help on method withColumnRenamed in module pyspark.sql.dataframe:\n",
            "\n",
            "withColumnRenamed(existing, new) method of pyspark.sql.dataframe.DataFrame instance\n",
            "    Returns a new :class:`DataFrame` by renaming an existing column.\n",
            "    This is a no-op if schema doesn't contain the given column name.\n",
            "    \n",
            "    .. versionadded:: 1.3.0\n",
            "    \n",
            "    Parameters\n",
            "    ----------\n",
            "    existing : str\n",
            "        string, name of the existing column to rename.\n",
            "    new : str\n",
            "        string, new name of the column.\n",
            "    \n",
            "    Examples\n",
            "    --------\n",
            "    >>> df.withColumnRenamed('age', 'age2').collect()\n",
            "    [Row(age2=2, name='Alice'), Row(age2=5, name='Bob')]\n",
            "\n"
          ]
        }
      ]
    },
    {
      "cell_type": "code",
      "source": [
        "(df.withColumnRenamed(\"id\", \"user_id\")\n",
        "    .withColumnRenamed(\"first_name\", \"user_first_name\")\n",
        "    .withColumnRenamed(\"last_name\", \"user_last_name\")\n",
        ").show()\n"
      ],
      "metadata": {
        "id": "gUwtdXfOsuLK",
        "outputId": "dbfa133c-33c8-42b3-84ec-49fb264d569b",
        "colab": {
          "base_uri": "https://localhost:8080/"
        }
      },
      "execution_count": 21,
      "outputs": [
        {
          "output_type": "stream",
          "name": "stdout",
          "text": [
            "+-------+---------------+--------------+--------------------+--------------------+-------+-----------+-----------+-------------+-------------------+\n",
            "|user_id|user_first_name|user_last_name|               email|       phone_numbers|courses|is_customer|amount_paid|customer_from|    last_updated_ts|\n",
            "+-------+---------------+--------------+--------------------+--------------------+-------+-----------+-----------+-------------+-------------------+\n",
            "|      1|         Corrie|  Van den Oord|cvandenoord0@etsy...|{+1 234 567 8901,...| [1, 2]|       true|    1000.55|   2021-01-15|2021-02-10 01:15:00|\n",
            "|      2|       Nikolaus|       Brewitt|nbrewitt1@dailyma...|{+1 234 567 8923,...|    [3]|       true|      900.0|   2021-02-14|2021-02-18 03:33:00|\n",
            "|      3|         Orelie|        Penney|openney2@vistapri...|{+1 714 512 9752,...| [2, 4]|       true|     850.55|   2021-01-21|2021-03-15 15:16:55|\n",
            "|      4|          Ashby|      Maddocks|  amaddocks3@home.pl|        {null, null}|     []|      false|        NaN|         null|2021-04-10 17:45:30|\n",
            "|      5|           Kurt|          Rome|krome4@shutterfly...|{+1 817 934 7142,...|     []|      false|        NaN|         null|2021-04-02 00:55:18|\n",
            "+-------+---------------+--------------+--------------------+--------------------+-------+-----------+-----------+-------------+-------------------+\n",
            "\n"
          ]
        }
      ]
    },
    {
      "cell_type": "markdown",
      "source": [
        "Renaming spark data frame columns or expression using alias"
      ],
      "metadata": {
        "id": "ssF0AoIkuSrw"
      }
    },
    {
      "cell_type": "code",
      "source": [
        "(df.select(f.col('id').alias('user_id')\n",
        "        , f.col('first_name').alias('user_first_name')\n",
        "        , f.col('last_name').alias('user_last_name')\n",
        "        , f.concat(f.col('first_name'), f.lit(', '), f.col('last_name')).alias('fullName')\n",
        "        )\n",
        ").show()"
      ],
      "metadata": {
        "id": "pEucjdk8t176",
        "outputId": "1d485e46-791c-48dc-e778-544923342370",
        "colab": {
          "base_uri": "https://localhost:8080/"
        }
      },
      "execution_count": 25,
      "outputs": [
        {
          "output_type": "stream",
          "name": "stdout",
          "text": [
            "+-------+---------------+--------------+--------------------+\n",
            "|user_id|user_first_name|user_last_name|            fullName|\n",
            "+-------+---------------+--------------+--------------------+\n",
            "|      1|         Corrie|  Van den Oord|Corrie, Van den Oord|\n",
            "|      2|       Nikolaus|       Brewitt|   Nikolaus, Brewitt|\n",
            "|      3|         Orelie|        Penney|      Orelie, Penney|\n",
            "|      4|          Ashby|      Maddocks|     Ashby, Maddocks|\n",
            "|      5|           Kurt|          Rome|          Kurt, Rome|\n",
            "+-------+---------------+--------------+--------------------+\n",
            "\n"
          ]
        }
      ]
    },
    {
      "cell_type": "code",
      "source": [
        "#combination of withColumn and alias\n",
        "\n",
        "(df.select(f.col('id').alias('user_id')\n",
        "              , f.col('first_name').alias('user_first_name')\n",
        "              , f.col('last_name').alias('user_last_name')\n",
        "              )\n",
        "      .withColumn('fullNmae', f.concat(f.col('user_first_name'), f.lit(', '),  f.col('user_last_name')))\n",
        ").show()"
      ],
      "metadata": {
        "id": "XJ0klUhS5pHP",
        "outputId": "34afbdbf-e642-46c3-a8c1-70a797137a81",
        "colab": {
          "base_uri": "https://localhost:8080/"
        }
      },
      "execution_count": 34,
      "outputs": [
        {
          "output_type": "stream",
          "name": "stdout",
          "text": [
            "+-------+---------------+--------------+--------------------+\n",
            "|user_id|user_first_name|user_last_name|            fullNmae|\n",
            "+-------+---------------+--------------+--------------------+\n",
            "|      1|         Corrie|  Van den Oord|Corrie, Van den Oord|\n",
            "|      2|       Nikolaus|       Brewitt|   Nikolaus, Brewitt|\n",
            "|      3|         Orelie|        Penney|      Orelie, Penney|\n",
            "|      4|          Ashby|      Maddocks|     Ashby, Maddocks|\n",
            "|      5|           Kurt|          Rome|          Kurt, Rome|\n",
            "+-------+---------------+--------------+--------------------+\n",
            "\n"
          ]
        }
      ]
    },
    {
      "cell_type": "markdown",
      "source": [
        "Renaming columns and reording columns in data frame."
      ],
      "metadata": {
        "id": "i7EUrzgG8HUJ"
      }
    },
    {
      "cell_type": "code",
      "source": [
        "required_cols = [\"id\", 'first_name', 'last_name', 'email', 'phone_numbers', 'courses']\n",
        "target_column_names = ['user_id', 'user_first_name', 'user_last_name', 'user_email', 'user_phone_numbers', 'enrolled_courses']"
      ],
      "metadata": {
        "id": "cuxVpTcf8G6b"
      },
      "execution_count": 35,
      "outputs": []
    },
    {
      "cell_type": "code",
      "source": [
        "df.select(required_cols).show()"
      ],
      "metadata": {
        "id": "C4-Ny0Ox6Z8A",
        "outputId": "b173904a-1b73-4aa6-b229-820c8c38cabe",
        "colab": {
          "base_uri": "https://localhost:8080/"
        }
      },
      "execution_count": 36,
      "outputs": [
        {
          "output_type": "stream",
          "name": "stdout",
          "text": [
            "+---+----------+------------+--------------------+--------------------+-------+\n",
            "| id|first_name|   last_name|               email|       phone_numbers|courses|\n",
            "+---+----------+------------+--------------------+--------------------+-------+\n",
            "|  1|    Corrie|Van den Oord|cvandenoord0@etsy...|{+1 234 567 8901,...| [1, 2]|\n",
            "|  2|  Nikolaus|     Brewitt|nbrewitt1@dailyma...|{+1 234 567 8923,...|    [3]|\n",
            "|  3|    Orelie|      Penney|openney2@vistapri...|{+1 714 512 9752,...| [2, 4]|\n",
            "|  4|     Ashby|    Maddocks|  amaddocks3@home.pl|        {null, null}|     []|\n",
            "|  5|      Kurt|        Rome|krome4@shutterfly...|{+1 817 934 7142,...|     []|\n",
            "+---+----------+------------+--------------------+--------------------+-------+\n",
            "\n"
          ]
        }
      ]
    },
    {
      "cell_type": "code",
      "source": [
        "df.select(required_cols).toDF(*target_column_names).show()"
      ],
      "metadata": {
        "id": "0_mXBagN83CN",
        "outputId": "dab1616a-a1d5-45d8-9153-06d5e481eb61",
        "colab": {
          "base_uri": "https://localhost:8080/"
        }
      },
      "execution_count": 38,
      "outputs": [
        {
          "output_type": "stream",
          "name": "stdout",
          "text": [
            "+-------+---------------+--------------+--------------------+--------------------+----------------+\n",
            "|user_id|user_first_name|user_last_name|          user_email|  user_phone_numbers|enrolled_courses|\n",
            "+-------+---------------+--------------+--------------------+--------------------+----------------+\n",
            "|      1|         Corrie|  Van den Oord|cvandenoord0@etsy...|{+1 234 567 8901,...|          [1, 2]|\n",
            "|      2|       Nikolaus|       Brewitt|nbrewitt1@dailyma...|{+1 234 567 8923,...|             [3]|\n",
            "|      3|         Orelie|        Penney|openney2@vistapri...|{+1 714 512 9752,...|          [2, 4]|\n",
            "|      4|          Ashby|      Maddocks|  amaddocks3@home.pl|        {null, null}|              []|\n",
            "|      5|           Kurt|          Rome|krome4@shutterfly...|{+1 817 934 7142,...|              []|\n",
            "+-------+---------------+--------------+--------------------+--------------------+----------------+\n",
            "\n"
          ]
        }
      ]
    },
    {
      "cell_type": "code",
      "source": [
        ""
      ],
      "metadata": {
        "id": "lPCE3mQq8-de"
      },
      "execution_count": null,
      "outputs": []
    }
  ],
  "metadata": {
    "colab": {
      "collapsed_sections": [],
      "name": "Welcome To Colaboratory",
      "provenance": []
    },
    "kernelspec": {
      "display_name": "Python 3",
      "name": "python3"
    }
  },
  "nbformat": 4,
  "nbformat_minor": 0
}