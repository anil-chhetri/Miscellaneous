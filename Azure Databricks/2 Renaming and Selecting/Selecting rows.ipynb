{
  "cells": [
    {
      "cell_type": "code",
      "source": [
        "!apt-get install openjdk-8-jdk-headless -qq > /dev/null\n",
        "!wget -q https://dlcdn.apache.org/spark/spark-3.2.1/spark-3.2.1-bin-hadoop3.2.tgz\n",
        "!tar xf spark-3.2.1-bin-hadoop3.2.tgz\n",
        "!pip install -q findspark\n",
        "import os\n",
        "os.environ[\"JAVA_HOME\"] = \"/usr/lib/jvm/java-8-openjdk-amd64\"\n",
        "os.environ[\"SPARK_HOME\"] = \"/content/spark-3.2.1-bin-hadoop3.2\"\n",
        "import findspark\n",
        "findspark.init()"
      ],
      "metadata": {
        "id": "BK8nVnXjC6A2"
      },
      "execution_count": 5,
      "outputs": []
    },
    {
      "cell_type": "code",
      "source": [
        "from pyspark.sql import SparkSession\n",
        "spark = (SparkSession.builder\n",
        "        .master(\"local\")\n",
        "        .appName(\"Colab\")\n",
        "        .config('spark.ui.port', '4050')\n",
        "        .getOrCreate())"
      ],
      "metadata": {
        "id": "lbEF8px0C8x3"
      },
      "execution_count": 6,
      "outputs": []
    },
    {
      "cell_type": "code",
      "source": [
        "from pyspark.sql import Row"
      ],
      "metadata": {
        "id": "5fOIGg0oC_s4"
      },
      "execution_count": 7,
      "outputs": []
    },
    {
      "cell_type": "code",
      "source": [
        "import datetime\n",
        "users = [\n",
        "    {\n",
        "        \"id\": 1,\n",
        "        \"first_name\": \"Corrie\",\n",
        "        \"last_name\": \"Van den Oord\",\n",
        "        \"email\": \"cvandenoord0@etsy.com\",\n",
        "        \"phone_numbers\": Row(mobile=\"+1 234 567 8901\", home=\"+1 234 567 8911\"),\n",
        "        \"courses\": [1, 2],\n",
        "        \"is_customer\": True,\n",
        "        \"amount_paid\": 1000.55,\n",
        "        \"customer_from\": datetime.date(2021, 1, 15),\n",
        "        \"last_updated_ts\": datetime.datetime(2021, 2, 10, 1, 15, 0)\n",
        "    },\n",
        "    {\n",
        "        \"id\": 2,\n",
        "        \"first_name\": \"Nikolaus\",\n",
        "        \"last_name\": \"Brewitt\",\n",
        "        \"email\": \"nbrewitt1@dailymail.co.uk\",\n",
        "        \"phone_numbers\":  Row(mobile=\"+1 234 567 8923\", home=\"1 234 567 8934\"),\n",
        "        \"courses\": [3],\n",
        "        \"is_customer\": True,\n",
        "        \"amount_paid\": 900.0,\n",
        "        \"customer_from\": datetime.date(2021, 2, 14),\n",
        "        \"last_updated_ts\": datetime.datetime(2021, 2, 18, 3, 33, 0)\n",
        "    },\n",
        "    {\n",
        "        \"id\": 3,\n",
        "        \"first_name\": \"Orelie\",\n",
        "        \"last_name\": \"Penney\",\n",
        "        \"email\": \"openney2@vistaprint.com\",\n",
        "        \"phone_numbers\": Row(mobile=\"+1 714 512 9752\", home=\"+1 714 512 6601\"),\n",
        "        \"courses\": [2, 4],\n",
        "        \"is_customer\": True,\n",
        "        \"amount_paid\": 850.55,\n",
        "        \"customer_from\": datetime.date(2021, 1, 21),\n",
        "        \"last_updated_ts\": datetime.datetime(2021, 3, 15, 15, 16, 55)\n",
        "    },\n",
        "    {\n",
        "        \"id\": 4,\n",
        "        \"first_name\": \"Ashby\",\n",
        "        \"last_name\": \"Maddocks\",\n",
        "        \"email\": \"amaddocks3@home.pl\",\n",
        "        \"phone_numbers\": Row(mobile=None, home=None),\n",
        "        \"courses\": [],\n",
        "        \"is_customer\": False,\n",
        "        \"amount_paid\": None,\n",
        "        \"customer_from\": None,\n",
        "        \"last_updated_ts\": datetime.datetime(2021, 4, 10, 17, 45, 30)\n",
        "    },\n",
        "    {\n",
        "        \"id\": 5,\n",
        "        \"first_name\": \"Kurt\",\n",
        "        \"last_name\": \"Rome\",\n",
        "        \"email\": \"krome4@shutterfly.com\",\n",
        "        \"phone_numbers\": Row(mobile=\"+1 817 934 7142\", home=None),\n",
        "        \"courses\": [],\n",
        "        \"is_customer\": False,\n",
        "        \"amount_paid\": None,\n",
        "        \"customer_from\": None,\n",
        "        \"last_updated_ts\": datetime.datetime(2021, 4, 2, 0, 55, 18)\n",
        "    }\n",
        "]"
      ],
      "metadata": {
        "id": "8GZq4LLeDIKF"
      },
      "execution_count": 8,
      "outputs": []
    },
    {
      "cell_type": "code",
      "source": [
        "import pandas as pd"
      ],
      "metadata": {
        "id": "j3qrl2UnDMWV"
      },
      "execution_count": 9,
      "outputs": []
    },
    {
      "cell_type": "code",
      "source": [
        "spark.conf.set('spark.sql.execution.arrow.pyspark.enabled', False)"
      ],
      "metadata": {
        "id": "36z_o-DvDOS1"
      },
      "execution_count": 10,
      "outputs": []
    },
    {
      "cell_type": "code",
      "source": [
        "users_df = spark.createDataFrame(pd.DataFrame(users))"
      ],
      "metadata": {
        "id": "sLZ9ayX9DPT1"
      },
      "execution_count": 11,
      "outputs": []
    },
    {
      "cell_type": "code",
      "source": [
        "users_df.show(truncate=False)"
      ],
      "metadata": {
        "id": "HiYERcKhDQu1",
        "outputId": "0b37653e-4baf-4b9d-abc7-de505b81c327",
        "colab": {
          "base_uri": "https://localhost:8080/"
        }
      },
      "execution_count": 14,
      "outputs": [
        {
          "output_type": "stream",
          "name": "stdout",
          "text": [
            "+---+----------+------------+-------------------------+----------------------------------+-------+-----------+-----------+-------------+-------------------+\n",
            "|id |first_name|last_name   |email                    |phone_numbers                     |courses|is_customer|amount_paid|customer_from|last_updated_ts    |\n",
            "+---+----------+------------+-------------------------+----------------------------------+-------+-----------+-----------+-------------+-------------------+\n",
            "|1  |Corrie    |Van den Oord|cvandenoord0@etsy.com    |{+1 234 567 8901, +1 234 567 8911}|[1, 2] |true       |1000.55    |2021-01-15   |2021-02-10 01:15:00|\n",
            "|2  |Nikolaus  |Brewitt     |nbrewitt1@dailymail.co.uk|{+1 234 567 8923, 1 234 567 8934} |[3]    |true       |900.0      |2021-02-14   |2021-02-18 03:33:00|\n",
            "|3  |Orelie    |Penney      |openney2@vistaprint.com  |{+1 714 512 9752, +1 714 512 6601}|[2, 4] |true       |850.55     |2021-01-21   |2021-03-15 15:16:55|\n",
            "|4  |Ashby     |Maddocks    |amaddocks3@home.pl       |{null, null}                      |[]     |false      |NaN        |null         |2021-04-10 17:45:30|\n",
            "|5  |Kurt      |Rome        |krome4@shutterfly.com    |{+1 817 934 7142, null}           |[]     |false      |NaN        |null         |2021-04-02 00:55:18|\n",
            "+---+----------+------------+-------------------------+----------------------------------+-------+-----------+-----------+-------------+-------------------+\n",
            "\n"
          ]
        }
      ]
    },
    {
      "cell_type": "code",
      "source": [
        "help(users_df.select)"
      ],
      "metadata": {
        "id": "oY2-5mYEDRul",
        "outputId": "9a38adee-cf03-441a-c2b5-84edda159fbc",
        "colab": {
          "base_uri": "https://localhost:8080/"
        }
      },
      "execution_count": 13,
      "outputs": [
        {
          "output_type": "stream",
          "name": "stdout",
          "text": [
            "Help on method select in module pyspark.sql.dataframe:\n",
            "\n",
            "select(*cols) method of pyspark.sql.dataframe.DataFrame instance\n",
            "    Projects a set of expressions and returns a new :class:`DataFrame`.\n",
            "    \n",
            "    .. versionadded:: 1.3.0\n",
            "    \n",
            "    Parameters\n",
            "    ----------\n",
            "    cols : str, :class:`Column`, or list\n",
            "        column names (string) or expressions (:class:`Column`).\n",
            "        If one of the column names is '*', that column is expanded to include all columns\n",
            "        in the current :class:`DataFrame`.\n",
            "    \n",
            "    Examples\n",
            "    --------\n",
            "    >>> df.select('*').collect()\n",
            "    [Row(age=2, name='Alice'), Row(age=5, name='Bob')]\n",
            "    >>> df.select('name', 'age').collect()\n",
            "    [Row(name='Alice', age=2), Row(name='Bob', age=5)]\n",
            "    >>> df.select(df.name, (df.age + 10).alias('age')).collect()\n",
            "    [Row(name='Alice', age=12), Row(name='Bob', age=15)]\n",
            "\n"
          ]
        }
      ]
    },
    {
      "cell_type": "code",
      "source": [
        "users_df.select('*').show()"
      ],
      "metadata": {
        "id": "KM3Sgn1jIE00",
        "outputId": "53716e1b-ce8c-4844-c12a-2c8818df8737",
        "colab": {
          "base_uri": "https://localhost:8080/"
        }
      },
      "execution_count": 15,
      "outputs": [
        {
          "output_type": "stream",
          "name": "stdout",
          "text": [
            "+---+----------+------------+--------------------+--------------------+-------+-----------+-----------+-------------+-------------------+\n",
            "| id|first_name|   last_name|               email|       phone_numbers|courses|is_customer|amount_paid|customer_from|    last_updated_ts|\n",
            "+---+----------+------------+--------------------+--------------------+-------+-----------+-----------+-------------+-------------------+\n",
            "|  1|    Corrie|Van den Oord|cvandenoord0@etsy...|{+1 234 567 8901,...| [1, 2]|       true|    1000.55|   2021-01-15|2021-02-10 01:15:00|\n",
            "|  2|  Nikolaus|     Brewitt|nbrewitt1@dailyma...|{+1 234 567 8923,...|    [3]|       true|      900.0|   2021-02-14|2021-02-18 03:33:00|\n",
            "|  3|    Orelie|      Penney|openney2@vistapri...|{+1 714 512 9752,...| [2, 4]|       true|     850.55|   2021-01-21|2021-03-15 15:16:55|\n",
            "|  4|     Ashby|    Maddocks|  amaddocks3@home.pl|        {null, null}|     []|      false|        NaN|         null|2021-04-10 17:45:30|\n",
            "|  5|      Kurt|        Rome|krome4@shutterfly...|{+1 817 934 7142,...|     []|      false|        NaN|         null|2021-04-02 00:55:18|\n",
            "+---+----------+------------+--------------------+--------------------+-------+-----------+-----------+-------------+-------------------+\n",
            "\n"
          ]
        }
      ]
    },
    {
      "cell_type": "code",
      "source": [
        "users_df.select('id', 'first_name', 'last_name').show()"
      ],
      "metadata": {
        "id": "tI2o5eTbJ5bj",
        "outputId": "549d143e-0d99-44d4-bcc5-dc44810c1c2a",
        "colab": {
          "base_uri": "https://localhost:8080/"
        }
      },
      "execution_count": 16,
      "outputs": [
        {
          "output_type": "stream",
          "name": "stdout",
          "text": [
            "+---+----------+------------+\n",
            "| id|first_name|   last_name|\n",
            "+---+----------+------------+\n",
            "|  1|    Corrie|Van den Oord|\n",
            "|  2|  Nikolaus|     Brewitt|\n",
            "|  3|    Orelie|      Penney|\n",
            "|  4|     Ashby|    Maddocks|\n",
            "|  5|      Kurt|        Rome|\n",
            "+---+----------+------------+\n",
            "\n"
          ]
        }
      ]
    },
    {
      "cell_type": "code",
      "source": [
        "users_df.select(['id', 'first_name', 'last_name']).show()"
      ],
      "metadata": {
        "id": "wWpyeuQnKBIT",
        "outputId": "10f91c3b-5800-49a3-add5-388e512b6fe5",
        "colab": {
          "base_uri": "https://localhost:8080/"
        }
      },
      "execution_count": 17,
      "outputs": [
        {
          "output_type": "stream",
          "name": "stdout",
          "text": [
            "+---+----------+------------+\n",
            "| id|first_name|   last_name|\n",
            "+---+----------+------------+\n",
            "|  1|    Corrie|Van den Oord|\n",
            "|  2|  Nikolaus|     Brewitt|\n",
            "|  3|    Orelie|      Penney|\n",
            "|  4|     Ashby|    Maddocks|\n",
            "|  5|      Kurt|        Rome|\n",
            "+---+----------+------------+\n",
            "\n"
          ]
        }
      ]
    },
    {
      "cell_type": "code",
      "source": [
        "#defining alias to data frame.\n",
        "users_df.alias('u').select('u.id', 'u.phone_numbers').show()"
      ],
      "metadata": {
        "id": "44XdnNZZKT0D",
        "outputId": "731d4b1f-3302-4d5c-e7a4-e76ec6b564bd",
        "colab": {
          "base_uri": "https://localhost:8080/"
        }
      },
      "execution_count": 20,
      "outputs": [
        {
          "output_type": "stream",
          "name": "stdout",
          "text": [
            "+---+--------------------+\n",
            "| id|       phone_numbers|\n",
            "+---+--------------------+\n",
            "|  1|{+1 234 567 8901,...|\n",
            "|  2|{+1 234 567 8923,...|\n",
            "|  3|{+1 714 512 9752,...|\n",
            "|  4|        {null, null}|\n",
            "|  5|{+1 817 934 7142,...|\n",
            "+---+--------------------+\n",
            "\n"
          ]
        }
      ]
    },
    {
      "cell_type": "code",
      "source": [
        "from pyspark.sql.functions import col"
      ],
      "metadata": {
        "id": "_VkBaDvNKw9y"
      },
      "execution_count": 21,
      "outputs": []
    },
    {
      "cell_type": "code",
      "source": [
        "users_df.select(col('id'), 'first_name', 'last_name').show()"
      ],
      "metadata": {
        "id": "cGvHAAGALGYx",
        "outputId": "749763a1-316a-49b1-c410-3c3a213908ba",
        "colab": {
          "base_uri": "https://localhost:8080/"
        }
      },
      "execution_count": 23,
      "outputs": [
        {
          "output_type": "stream",
          "name": "stdout",
          "text": [
            "+---+----------+------------+\n",
            "| id|first_name|   last_name|\n",
            "+---+----------+------------+\n",
            "|  1|    Corrie|Van den Oord|\n",
            "|  2|  Nikolaus|     Brewitt|\n",
            "|  3|    Orelie|      Penney|\n",
            "|  4|     Ashby|    Maddocks|\n",
            "|  5|      Kurt|        Rome|\n",
            "+---+----------+------------+\n",
            "\n"
          ]
        }
      ]
    },
    {
      "cell_type": "code",
      "source": [
        "from pyspark.sql.functions import col, concat, lit"
      ],
      "metadata": {
        "id": "NhuPnKZ8Qita"
      },
      "execution_count": 24,
      "outputs": []
    },
    {
      "cell_type": "code",
      "source": [
        "users_df.select(\n",
        "    col('id'), 'first_name', 'last_name', \n",
        "    concat(col('first_name'), lit(', '), col('last_name')).alias('fullName')\n",
        ").show()"
      ],
      "metadata": {
        "id": "udgM7YqTQsEA",
        "outputId": "d3fd604d-6b4b-4368-ef27-4214e1305e51",
        "colab": {
          "base_uri": "https://localhost:8080/"
        }
      },
      "execution_count": 26,
      "outputs": [
        {
          "output_type": "stream",
          "name": "stdout",
          "text": [
            "+---+----------+------------+--------------------+\n",
            "| id|first_name|   last_name|            fullName|\n",
            "+---+----------+------------+--------------------+\n",
            "|  1|    Corrie|Van den Oord|Corrie, Van den Oord|\n",
            "|  2|  Nikolaus|     Brewitt|   Nikolaus, Brewitt|\n",
            "|  3|    Orelie|      Penney|      Orelie, Penney|\n",
            "|  4|     Ashby|    Maddocks|     Ashby, Maddocks|\n",
            "|  5|      Kurt|        Rome|          Kurt, Rome|\n",
            "+---+----------+------------+--------------------+\n",
            "\n"
          ]
        }
      ]
    },
    {
      "cell_type": "code",
      "source": [
        ""
      ],
      "metadata": {
        "id": "YwWFH5fYSTiC"
      },
      "execution_count": null,
      "outputs": []
    }
  ],
  "metadata": {
    "colab": {
      "collapsed_sections": [],
      "name": "Welcome To Colaboratory",
      "provenance": []
    },
    "kernelspec": {
      "display_name": "Python 3",
      "name": "python3"
    }
  },
  "nbformat": 4,
  "nbformat_minor": 0
}