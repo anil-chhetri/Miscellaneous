{
  "nbformat": 4,
  "nbformat_minor": 0,
  "metadata": {
    "colab": {
      "name": "Dropping  null values.ipynb",
      "provenance": [],
      "authorship_tag": "ABX9TyNB6no6yNY5/P7m80Fx25q2",
      "include_colab_link": true
    },
    "kernelspec": {
      "name": "python3",
      "display_name": "Python 3"
    },
    "language_info": {
      "name": "python"
    }
  },
  "cells": [
    {
      "cell_type": "markdown",
      "metadata": {
        "id": "view-in-github",
        "colab_type": "text"
      },
      "source": [
        "<a href=\"https://colab.research.google.com/github/anil-chhetri/Miscellaneous/blob/main/Azure%20Databricks/7%20Dropping_null_values.ipynb\" target=\"_parent\"><img src=\"https://colab.research.google.com/assets/colab-badge.svg\" alt=\"Open In Colab\"/></a>"
      ]
    },
    {
      "cell_type": "code",
      "execution_count": 1,
      "metadata": {
        "id": "eSEr8tZ9FYpU"
      },
      "outputs": [],
      "source": [
        "!apt-get install openjdk-8-jdk-headless -qq > /dev/null\n",
        "!wget -q https://dlcdn.apache.org/spark/spark-3.2.1/spark-3.2.1-bin-hadoop3.2.tgz\n",
        "!tar xf spark-3.2.1-bin-hadoop3.2.tgz\n",
        "!pip install -q findspark\n",
        "import os\n",
        "os.environ[\"JAVA_HOME\"] = \"/usr/lib/jvm/java-8-openjdk-amd64\"\n",
        "os.environ[\"SPARK_HOME\"] = \"/content/spark-3.2.1-bin-hadoop3.2\"\n",
        "import findspark\n",
        "findspark.init()\n",
        "from pyspark.sql import SparkSession\n",
        "spark = (SparkSession.builder\n",
        "        .master(\"local\")\n",
        "        .appName(\"Colab\")\n",
        "        .config('spark.ui.port', '4050')\n",
        "        .getOrCreate())"
      ]
    },
    {
      "cell_type": "code",
      "source": [
        "import datetime\n",
        "users = [\n",
        "    {\n",
        "        \"id\": 1,\n",
        "        \"first_name\": \"Corrie\",\n",
        "        \"last_name\": \"Van den Oord\",\n",
        "        \"email\": \"cvandenoord0@etsy.com\",\n",
        "        \"is_customer\": True,\n",
        "        \"amount_paid\": 1000.55,\n",
        "        \"customer_from\": datetime.date(2021, 1, 15),\n",
        "        \"last_updated_ts\": datetime.datetime(2021, 2, 10, 1, 15, 0)\n",
        "    },\n",
        "    {\n",
        "        \"id\": None,\n",
        "        \"first_name\": None,\n",
        "        \"last_name\": None,\n",
        "        \"email\": None,\n",
        "        \"is_customer\": None,\n",
        "        \"amount_paid\": None,\n",
        "        \"customer_from\": None,\n",
        "        \"last_updated_ts\": None\n",
        "    },\n",
        "    {\n",
        "        \"id\": 2,\n",
        "        \"first_name\": \"Nikolaus\",\n",
        "        \"last_name\": \"Brewitt\",\n",
        "        \"email\": \"nbrewitt1@dailymail.co.uk\",\n",
        "        \"is_customer\": True,\n",
        "        \"amount_paid\": 900.0,\n",
        "        \"customer_from\": datetime.date(2021, 2, 14),\n",
        "        \"last_updated_ts\": datetime.datetime(2021, 2, 18, 3, 33, 0)\n",
        "    },\n",
        "    {\n",
        "        \"id\": 3,\n",
        "        \"first_name\": \"Orelie\",\n",
        "        \"last_name\": \"Penney\",\n",
        "        \"email\": \"openney2@vistaprint.com\",\n",
        "        \"is_customer\": True,\n",
        "        \"amount_paid\": 850.55,\n",
        "        \"customer_from\": datetime.date(2021, 1, 21),\n",
        "        \"last_updated_ts\": datetime.datetime(2021, 3, 15, 15, 16, 55)\n",
        "    },\n",
        "    {\n",
        "        \"id\": 3,\n",
        "        \"first_name\": \"Orelie\",\n",
        "        \"last_name\": \"Penney\",\n",
        "        \"email\": \"openney2@vistaprint.com\",\n",
        "        \"is_customer\": True,\n",
        "        \"amount_paid\": 850.55,\n",
        "        \"customer_from\": datetime.date(2021, 1, 21),\n",
        "        \"last_updated_ts\": datetime.datetime(2021, 3, 15, 15, 16, 55)\n",
        "    },\n",
        "    {\n",
        "        \"id\": 4,\n",
        "        \"first_name\": \"Ashby\",\n",
        "        \"last_name\": \"Maddocks\",\n",
        "        \"email\": \"amaddocks3@home.pl\",\n",
        "        \"is_customer\": False,\n",
        "        \"amount_paid\": None,\n",
        "        \"customer_from\": None,\n",
        "        \"last_updated_ts\": datetime.datetime(2021, 4, 10, 17, 45, 30)\n",
        "    },\n",
        "    {\n",
        "        \"id\": 4,\n",
        "        \"first_name\": \"Ashby\",\n",
        "        \"last_name\": \"Maddocks\",\n",
        "        \"email\": \"amaddocks3@home.pl\",\n",
        "        \"is_customer\": False,\n",
        "        \"amount_paid\": None,\n",
        "        \"customer_from\": None,\n",
        "        \"last_updated_ts\": datetime.datetime(2021, 4, 10, 17, 45, 30)\n",
        "    },\n",
        "    {\n",
        "        \"id\": 5,\n",
        "        \"first_name\": \"Kurt\",\n",
        "        \"last_name\": \"Rome\",\n",
        "        \"email\": \"krome4@shutterfly.com\",\n",
        "        \"is_customer\": False,\n",
        "        \"amount_paid\": None,\n",
        "        \"customer_from\": None,\n",
        "        \"last_updated_ts\": datetime.datetime(2021, 4, 2, 0, 55, 18)\n",
        "    },\n",
        "    {\n",
        "        \"id\": None,\n",
        "        \"first_name\": None,\n",
        "        \"last_name\": None,\n",
        "        \"email\": None,\n",
        "        \"is_customer\": None,\n",
        "        \"amount_paid\": None,\n",
        "        \"customer_from\": None,\n",
        "        \"last_updated_ts\": None\n",
        "    },\n",
        "    {\n",
        "        \"id\": 5,\n",
        "        \"first_name\": None,\n",
        "        \"last_name\": None,\n",
        "        \"email\": None,\n",
        "        \"is_customer\": None,\n",
        "        \"amount_paid\": None,\n",
        "        \"customer_from\": None,\n",
        "        \"last_updated_ts\": None\n",
        "    },\n",
        "    {\n",
        "        \"id\": None,\n",
        "        \"first_name\": None,\n",
        "        \"last_name\": None,\n",
        "        \"email\": \"nbrewitt1@dailymail.co.uk\",\n",
        "        \"is_customer\": None,\n",
        "        \"amount_paid\": None,\n",
        "        \"customer_from\": None,\n",
        "        \"last_updated_ts\": None\n",
        "    },\n",
        "    {\n",
        "        \"id\": None,\n",
        "        \"first_name\": \"Kurt\",\n",
        "        \"last_name\": \"Rome\",\n",
        "        \"email\": None,\n",
        "        \"is_customer\": False,\n",
        "        \"amount_paid\": None,\n",
        "        \"customer_from\": None,\n",
        "        \"last_updated_ts\": datetime.datetime(2021, 4, 2, 0, 55, 18)\n",
        "    },\n",
        "    {\n",
        "        \"id\": 2,\n",
        "        \"first_name\": \"Nikolaus\",\n",
        "        \"last_name\": \"Brewitt\",\n",
        "        \"email\": \"nbrewitt1@dailymail.co.uk\",\n",
        "        \"is_customer\": True,\n",
        "        \"amount_paid\": 1050.0,\n",
        "        \"customer_from\": datetime.date(2021, 2, 14),\n",
        "        \"last_updated_ts\": datetime.datetime(2021, 2, 25, 3, 33, 0)\n",
        "    }\n",
        "]\n",
        "\n",
        "\n",
        "import pandas as pd\n",
        "df = spark.createDataFrame(pd.DataFrame(users))"
      ],
      "metadata": {
        "id": "4GToFtRwFgXI"
      },
      "execution_count": 2,
      "outputs": []
    },
    {
      "cell_type": "code",
      "source": [
        "df.show()"
      ],
      "metadata": {
        "colab": {
          "base_uri": "https://localhost:8080/"
        },
        "id": "Gn7wZJgTFt6p",
        "outputId": "fa22554c-e65f-4cb3-edf5-68f63c5cbf46"
      },
      "execution_count": 3,
      "outputs": [
        {
          "output_type": "stream",
          "name": "stdout",
          "text": [
            "+---+----------+------------+--------------------+-----------+-----------+-------------+-------------------+\n",
            "| id|first_name|   last_name|               email|is_customer|amount_paid|customer_from|    last_updated_ts|\n",
            "+---+----------+------------+--------------------+-----------+-----------+-------------+-------------------+\n",
            "|1.0|    Corrie|Van den Oord|cvandenoord0@etsy...|       true|    1000.55|   2021-01-15|2021-02-10 01:15:00|\n",
            "|NaN|      null|        null|                null|       null|        NaN|         null|               null|\n",
            "|2.0|  Nikolaus|     Brewitt|nbrewitt1@dailyma...|       true|      900.0|   2021-02-14|2021-02-18 03:33:00|\n",
            "|3.0|    Orelie|      Penney|openney2@vistapri...|       true|     850.55|   2021-01-21|2021-03-15 15:16:55|\n",
            "|3.0|    Orelie|      Penney|openney2@vistapri...|       true|     850.55|   2021-01-21|2021-03-15 15:16:55|\n",
            "|4.0|     Ashby|    Maddocks|  amaddocks3@home.pl|      false|        NaN|         null|2021-04-10 17:45:30|\n",
            "|4.0|     Ashby|    Maddocks|  amaddocks3@home.pl|      false|        NaN|         null|2021-04-10 17:45:30|\n",
            "|5.0|      Kurt|        Rome|krome4@shutterfly...|      false|        NaN|         null|2021-04-02 00:55:18|\n",
            "|NaN|      null|        null|                null|       null|        NaN|         null|               null|\n",
            "|5.0|      null|        null|                null|       null|        NaN|         null|               null|\n",
            "|NaN|      null|        null|nbrewitt1@dailyma...|       null|        NaN|         null|               null|\n",
            "|NaN|      Kurt|        Rome|                null|      false|        NaN|         null|2021-04-02 00:55:18|\n",
            "|2.0|  Nikolaus|     Brewitt|nbrewitt1@dailyma...|       true|     1050.0|   2021-02-14|2021-02-25 03:33:00|\n",
            "+---+----------+------------+--------------------+-----------+-----------+-------------+-------------------+\n",
            "\n"
          ]
        }
      ]
    },
    {
      "cell_type": "code",
      "source": [
        "df.na.drop().show()"
      ],
      "metadata": {
        "colab": {
          "base_uri": "https://localhost:8080/"
        },
        "id": "ehb2fc1hHltU",
        "outputId": "b664c8e5-e41e-4bc2-c82a-3f226070bd34"
      },
      "execution_count": 7,
      "outputs": [
        {
          "output_type": "stream",
          "name": "stdout",
          "text": [
            "+---+----------+------------+--------------------+-----------+-----------+-------------+-------------------+\n",
            "| id|first_name|   last_name|               email|is_customer|amount_paid|customer_from|    last_updated_ts|\n",
            "+---+----------+------------+--------------------+-----------+-----------+-------------+-------------------+\n",
            "|1.0|    Corrie|Van den Oord|cvandenoord0@etsy...|       true|    1000.55|   2021-01-15|2021-02-10 01:15:00|\n",
            "|2.0|  Nikolaus|     Brewitt|nbrewitt1@dailyma...|       true|      900.0|   2021-02-14|2021-02-18 03:33:00|\n",
            "|3.0|    Orelie|      Penney|openney2@vistapri...|       true|     850.55|   2021-01-21|2021-03-15 15:16:55|\n",
            "|3.0|    Orelie|      Penney|openney2@vistapri...|       true|     850.55|   2021-01-21|2021-03-15 15:16:55|\n",
            "|2.0|  Nikolaus|     Brewitt|nbrewitt1@dailyma...|       true|     1050.0|   2021-02-14|2021-02-25 03:33:00|\n",
            "+---+----------+------------+--------------------+-----------+-----------+-------------+-------------------+\n",
            "\n"
          ]
        }
      ]
    },
    {
      "cell_type": "code",
      "source": [
        "df.na.drop(how='all').show()"
      ],
      "metadata": {
        "colab": {
          "base_uri": "https://localhost:8080/"
        },
        "id": "B_C98XQQHz_F",
        "outputId": "a083f3a1-e9ab-4315-ceb2-934d7374c4d5"
      },
      "execution_count": 9,
      "outputs": [
        {
          "output_type": "stream",
          "name": "stdout",
          "text": [
            "+---+----------+------------+--------------------+-----------+-----------+-------------+-------------------+\n",
            "| id|first_name|   last_name|               email|is_customer|amount_paid|customer_from|    last_updated_ts|\n",
            "+---+----------+------------+--------------------+-----------+-----------+-------------+-------------------+\n",
            "|1.0|    Corrie|Van den Oord|cvandenoord0@etsy...|       true|    1000.55|   2021-01-15|2021-02-10 01:15:00|\n",
            "|2.0|  Nikolaus|     Brewitt|nbrewitt1@dailyma...|       true|      900.0|   2021-02-14|2021-02-18 03:33:00|\n",
            "|3.0|    Orelie|      Penney|openney2@vistapri...|       true|     850.55|   2021-01-21|2021-03-15 15:16:55|\n",
            "|3.0|    Orelie|      Penney|openney2@vistapri...|       true|     850.55|   2021-01-21|2021-03-15 15:16:55|\n",
            "|4.0|     Ashby|    Maddocks|  amaddocks3@home.pl|      false|        NaN|         null|2021-04-10 17:45:30|\n",
            "|4.0|     Ashby|    Maddocks|  amaddocks3@home.pl|      false|        NaN|         null|2021-04-10 17:45:30|\n",
            "|5.0|      Kurt|        Rome|krome4@shutterfly...|      false|        NaN|         null|2021-04-02 00:55:18|\n",
            "|5.0|      null|        null|                null|       null|        NaN|         null|               null|\n",
            "|NaN|      null|        null|nbrewitt1@dailyma...|       null|        NaN|         null|               null|\n",
            "|NaN|      Kurt|        Rome|                null|      false|        NaN|         null|2021-04-02 00:55:18|\n",
            "|2.0|  Nikolaus|     Brewitt|nbrewitt1@dailyma...|       true|     1050.0|   2021-02-14|2021-02-25 03:33:00|\n",
            "+---+----------+------------+--------------------+-----------+-----------+-------------+-------------------+\n",
            "\n"
          ]
        }
      ]
    },
    {
      "cell_type": "code",
      "source": [
        "df.na.drop(how='all', thresh=2).show()"
      ],
      "metadata": {
        "colab": {
          "base_uri": "https://localhost:8080/"
        },
        "id": "kgcL3aBDH8lT",
        "outputId": "47df70e4-ee97-4750-a993-7eda17941d56"
      },
      "execution_count": 15,
      "outputs": [
        {
          "output_type": "stream",
          "name": "stdout",
          "text": [
            "+---+----------+------------+--------------------+-----------+-----------+-------------+-------------------+\n",
            "| id|first_name|   last_name|               email|is_customer|amount_paid|customer_from|    last_updated_ts|\n",
            "+---+----------+------------+--------------------+-----------+-----------+-------------+-------------------+\n",
            "|1.0|    Corrie|Van den Oord|cvandenoord0@etsy...|       true|    1000.55|   2021-01-15|2021-02-10 01:15:00|\n",
            "|2.0|  Nikolaus|     Brewitt|nbrewitt1@dailyma...|       true|      900.0|   2021-02-14|2021-02-18 03:33:00|\n",
            "|3.0|    Orelie|      Penney|openney2@vistapri...|       true|     850.55|   2021-01-21|2021-03-15 15:16:55|\n",
            "|3.0|    Orelie|      Penney|openney2@vistapri...|       true|     850.55|   2021-01-21|2021-03-15 15:16:55|\n",
            "|4.0|     Ashby|    Maddocks|  amaddocks3@home.pl|      false|        NaN|         null|2021-04-10 17:45:30|\n",
            "|4.0|     Ashby|    Maddocks|  amaddocks3@home.pl|      false|        NaN|         null|2021-04-10 17:45:30|\n",
            "|5.0|      Kurt|        Rome|krome4@shutterfly...|      false|        NaN|         null|2021-04-02 00:55:18|\n",
            "|NaN|      Kurt|        Rome|                null|      false|        NaN|         null|2021-04-02 00:55:18|\n",
            "|2.0|  Nikolaus|     Brewitt|nbrewitt1@dailyma...|       true|     1050.0|   2021-02-14|2021-02-25 03:33:00|\n",
            "+---+----------+------------+--------------------+-----------+-----------+-------------+-------------------+\n",
            "\n"
          ]
        }
      ]
    },
    {
      "cell_type": "code",
      "source": [
        "help(df.na.drop)"
      ],
      "metadata": {
        "colab": {
          "base_uri": "https://localhost:8080/"
        },
        "id": "k_M4o9GQHp0D",
        "outputId": "66afbdc6-b158-4608-8862-268fd20c6c87"
      },
      "execution_count": 6,
      "outputs": [
        {
          "output_type": "stream",
          "name": "stdout",
          "text": [
            "Help on method drop in module pyspark.sql.dataframe:\n",
            "\n",
            "drop(how='any', thresh=None, subset=None) method of pyspark.sql.dataframe.DataFrameNaFunctions instance\n",
            "    Returns a new :class:`DataFrame` omitting rows with null values.\n",
            "    :func:`DataFrame.dropna` and :func:`DataFrameNaFunctions.drop` are aliases of each other.\n",
            "    \n",
            "    .. versionadded:: 1.3.1\n",
            "    \n",
            "    Parameters\n",
            "    ----------\n",
            "    how : str, optional\n",
            "        'any' or 'all'.\n",
            "        If 'any', drop a row if it contains any nulls.\n",
            "        If 'all', drop a row only if all its values are null.\n",
            "    thresh: int, optional\n",
            "        default None\n",
            "        If specified, drop rows that have less than `thresh` non-null values.\n",
            "        This overwrites the `how` parameter.\n",
            "    subset : str, tuple or list, optional\n",
            "        optional list of column names to consider.\n",
            "    \n",
            "    Examples\n",
            "    --------\n",
            "    >>> df4.na.drop().show()\n",
            "    +---+------+-----+\n",
            "    |age|height| name|\n",
            "    +---+------+-----+\n",
            "    | 10|    80|Alice|\n",
            "    +---+------+-----+\n",
            "\n"
          ]
        }
      ]
    },
    {
      "cell_type": "code",
      "source": [
        ""
      ],
      "metadata": {
        "id": "rhyVO5rOHw0E"
      },
      "execution_count": null,
      "outputs": []
    }
  ]
}