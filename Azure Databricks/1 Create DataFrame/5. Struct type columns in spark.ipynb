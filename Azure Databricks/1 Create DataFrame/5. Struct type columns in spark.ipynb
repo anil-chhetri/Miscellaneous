{
 "cells": [
  {
   "cell_type": "code",
   "execution_count": 3,
   "metadata": {},
   "outputs": [
    {
     "ename": "ModuleNotFoundError",
     "evalue": "No module named 'pyspark'",
     "output_type": "error",
     "traceback": [
      "\u001b[1;31m---------------------------------------------------------------------------\u001b[0m",
      "\u001b[1;31mModuleNotFoundError\u001b[0m                       Traceback (most recent call last)",
      "\u001b[1;32md:\\Dot Net Training\\Miscellaneous\\Azure Databricks\\1 Create DataFrame\\5. Struct type columns in spark.ipynb Cell 1'\u001b[0m in \u001b[0;36m<cell line: 1>\u001b[1;34m()\u001b[0m\n\u001b[1;32m----> <a href='vscode-notebook-cell:/d%3A/Dot%20Net%20Training/Miscellaneous/Azure%20Databricks/1%20Create%20DataFrame/5.%20Struct%20type%20columns%20in%20spark.ipynb#ch0000002?line=0'>1</a>\u001b[0m \u001b[39mfrom\u001b[39;00m \u001b[39mpyspark\u001b[39;00m\u001b[39m.\u001b[39;00m\u001b[39msql\u001b[39;00m \u001b[39mimport\u001b[39;00m Row\n",
      "\u001b[1;31mModuleNotFoundError\u001b[0m: No module named 'pyspark'"
     ]
    }
   ],
   "source": [
    "from pyspark.sql import Row"
   ]
  },
  {
   "cell_type": "code",
   "execution_count": 1,
   "metadata": {},
   "outputs": [
    {
     "ename": "NameError",
     "evalue": "name 'Row' is not defined",
     "output_type": "error",
     "traceback": [
      "\u001b[1;31m---------------------------------------------------------------------------\u001b[0m",
      "\u001b[1;31mNameError\u001b[0m                                 Traceback (most recent call last)",
      "\u001b[1;32md:\\Dot Net Training\\Miscellaneous\\Azure Databricks\\1 Create DataFrame\\5. Struct type columns in spark.ipynb Cell 1'\u001b[0m in \u001b[0;36m<cell line: 4>\u001b[1;34m()\u001b[0m\n\u001b[0;32m      <a href='vscode-notebook-cell:/d%3A/Dot%20Net%20Training/Miscellaneous/Azure%20Databricks/1%20Create%20DataFrame/5.%20Struct%20type%20columns%20in%20spark.ipynb#ch0000000?line=0'>1</a>\u001b[0m \u001b[39mimport\u001b[39;00m \u001b[39mdatetime\u001b[39;00m\n\u001b[0;32m      <a href='vscode-notebook-cell:/d%3A/Dot%20Net%20Training/Miscellaneous/Azure%20Databricks/1%20Create%20DataFrame/5.%20Struct%20type%20columns%20in%20spark.ipynb#ch0000000?line=1'>2</a>\u001b[0m users \u001b[39m=\u001b[39m [\n\u001b[0;32m      <a href='vscode-notebook-cell:/d%3A/Dot%20Net%20Training/Miscellaneous/Azure%20Databricks/1%20Create%20DataFrame/5.%20Struct%20type%20columns%20in%20spark.ipynb#ch0000000?line=2'>3</a>\u001b[0m     {\n\u001b[0;32m      <a href='vscode-notebook-cell:/d%3A/Dot%20Net%20Training/Miscellaneous/Azure%20Databricks/1%20Create%20DataFrame/5.%20Struct%20type%20columns%20in%20spark.ipynb#ch0000000?line=3'>4</a>\u001b[0m         \u001b[39m\"\u001b[39m\u001b[39mid\u001b[39m\u001b[39m\"\u001b[39m: \u001b[39m1\u001b[39m,\n\u001b[0;32m      <a href='vscode-notebook-cell:/d%3A/Dot%20Net%20Training/Miscellaneous/Azure%20Databricks/1%20Create%20DataFrame/5.%20Struct%20type%20columns%20in%20spark.ipynb#ch0000000?line=4'>5</a>\u001b[0m         \u001b[39m\"\u001b[39m\u001b[39mfirst_name\u001b[39m\u001b[39m\"\u001b[39m: \u001b[39m\"\u001b[39m\u001b[39mCorrie\u001b[39m\u001b[39m\"\u001b[39m,\n\u001b[0;32m      <a href='vscode-notebook-cell:/d%3A/Dot%20Net%20Training/Miscellaneous/Azure%20Databricks/1%20Create%20DataFrame/5.%20Struct%20type%20columns%20in%20spark.ipynb#ch0000000?line=5'>6</a>\u001b[0m         \u001b[39m\"\u001b[39m\u001b[39mlast_name\u001b[39m\u001b[39m\"\u001b[39m: \u001b[39m\"\u001b[39m\u001b[39mVan den Oord\u001b[39m\u001b[39m\"\u001b[39m,\n\u001b[0;32m      <a href='vscode-notebook-cell:/d%3A/Dot%20Net%20Training/Miscellaneous/Azure%20Databricks/1%20Create%20DataFrame/5.%20Struct%20type%20columns%20in%20spark.ipynb#ch0000000?line=6'>7</a>\u001b[0m         \u001b[39m\"\u001b[39m\u001b[39memail\u001b[39m\u001b[39m\"\u001b[39m: \u001b[39m\"\u001b[39m\u001b[39mcvandenoord0@etsy.com\u001b[39m\u001b[39m\"\u001b[39m,\n\u001b[1;32m----> <a href='vscode-notebook-cell:/d%3A/Dot%20Net%20Training/Miscellaneous/Azure%20Databricks/1%20Create%20DataFrame/5.%20Struct%20type%20columns%20in%20spark.ipynb#ch0000000?line=7'>8</a>\u001b[0m         \u001b[39m\"\u001b[39m\u001b[39mphone_numbers\u001b[39m\u001b[39m\"\u001b[39m: Row(mobile\u001b[39m=\u001b[39m\u001b[39m\"\u001b[39m\u001b[39m+1 234 567 8901\u001b[39m\u001b[39m\"\u001b[39m, home\u001b[39m=\u001b[39m\u001b[39m\"\u001b[39m\u001b[39m+1 234 567 8911\u001b[39m\u001b[39m\"\u001b[39m),\n\u001b[0;32m      <a href='vscode-notebook-cell:/d%3A/Dot%20Net%20Training/Miscellaneous/Azure%20Databricks/1%20Create%20DataFrame/5.%20Struct%20type%20columns%20in%20spark.ipynb#ch0000000?line=8'>9</a>\u001b[0m         \u001b[39m\"\u001b[39m\u001b[39mis_customer\u001b[39m\u001b[39m\"\u001b[39m: \u001b[39mTrue\u001b[39;00m,\n\u001b[0;32m     <a href='vscode-notebook-cell:/d%3A/Dot%20Net%20Training/Miscellaneous/Azure%20Databricks/1%20Create%20DataFrame/5.%20Struct%20type%20columns%20in%20spark.ipynb#ch0000000?line=9'>10</a>\u001b[0m         \u001b[39m\"\u001b[39m\u001b[39mamount_paid\u001b[39m\u001b[39m\"\u001b[39m: \u001b[39m1000.55\u001b[39m,\n\u001b[0;32m     <a href='vscode-notebook-cell:/d%3A/Dot%20Net%20Training/Miscellaneous/Azure%20Databricks/1%20Create%20DataFrame/5.%20Struct%20type%20columns%20in%20spark.ipynb#ch0000000?line=10'>11</a>\u001b[0m         \u001b[39m\"\u001b[39m\u001b[39mcustomer_from\u001b[39m\u001b[39m\"\u001b[39m: datetime\u001b[39m.\u001b[39mdate(\u001b[39m2021\u001b[39m, \u001b[39m1\u001b[39m, \u001b[39m15\u001b[39m),\n\u001b[0;32m     <a href='vscode-notebook-cell:/d%3A/Dot%20Net%20Training/Miscellaneous/Azure%20Databricks/1%20Create%20DataFrame/5.%20Struct%20type%20columns%20in%20spark.ipynb#ch0000000?line=11'>12</a>\u001b[0m         \u001b[39m\"\u001b[39m\u001b[39mlast_updated_ts\u001b[39m\u001b[39m\"\u001b[39m: datetime\u001b[39m.\u001b[39mdatetime(\u001b[39m2021\u001b[39m, \u001b[39m2\u001b[39m, \u001b[39m10\u001b[39m, \u001b[39m1\u001b[39m, \u001b[39m15\u001b[39m, \u001b[39m0\u001b[39m)\n\u001b[0;32m     <a href='vscode-notebook-cell:/d%3A/Dot%20Net%20Training/Miscellaneous/Azure%20Databricks/1%20Create%20DataFrame/5.%20Struct%20type%20columns%20in%20spark.ipynb#ch0000000?line=12'>13</a>\u001b[0m     },\n\u001b[0;32m     <a href='vscode-notebook-cell:/d%3A/Dot%20Net%20Training/Miscellaneous/Azure%20Databricks/1%20Create%20DataFrame/5.%20Struct%20type%20columns%20in%20spark.ipynb#ch0000000?line=13'>14</a>\u001b[0m     {\n\u001b[0;32m     <a href='vscode-notebook-cell:/d%3A/Dot%20Net%20Training/Miscellaneous/Azure%20Databricks/1%20Create%20DataFrame/5.%20Struct%20type%20columns%20in%20spark.ipynb#ch0000000?line=14'>15</a>\u001b[0m         \u001b[39m\"\u001b[39m\u001b[39mid\u001b[39m\u001b[39m\"\u001b[39m: \u001b[39m2\u001b[39m,\n\u001b[0;32m     <a href='vscode-notebook-cell:/d%3A/Dot%20Net%20Training/Miscellaneous/Azure%20Databricks/1%20Create%20DataFrame/5.%20Struct%20type%20columns%20in%20spark.ipynb#ch0000000?line=15'>16</a>\u001b[0m         \u001b[39m\"\u001b[39m\u001b[39mfirst_name\u001b[39m\u001b[39m\"\u001b[39m: \u001b[39m\"\u001b[39m\u001b[39mNikolaus\u001b[39m\u001b[39m\"\u001b[39m,\n\u001b[0;32m     <a href='vscode-notebook-cell:/d%3A/Dot%20Net%20Training/Miscellaneous/Azure%20Databricks/1%20Create%20DataFrame/5.%20Struct%20type%20columns%20in%20spark.ipynb#ch0000000?line=16'>17</a>\u001b[0m         \u001b[39m\"\u001b[39m\u001b[39mlast_name\u001b[39m\u001b[39m\"\u001b[39m: \u001b[39m\"\u001b[39m\u001b[39mBrewitt\u001b[39m\u001b[39m\"\u001b[39m,\n\u001b[0;32m     <a href='vscode-notebook-cell:/d%3A/Dot%20Net%20Training/Miscellaneous/Azure%20Databricks/1%20Create%20DataFrame/5.%20Struct%20type%20columns%20in%20spark.ipynb#ch0000000?line=17'>18</a>\u001b[0m         \u001b[39m\"\u001b[39m\u001b[39memail\u001b[39m\u001b[39m\"\u001b[39m: \u001b[39m\"\u001b[39m\u001b[39mnbrewitt1@dailymail.co.uk\u001b[39m\u001b[39m\"\u001b[39m,\n\u001b[0;32m     <a href='vscode-notebook-cell:/d%3A/Dot%20Net%20Training/Miscellaneous/Azure%20Databricks/1%20Create%20DataFrame/5.%20Struct%20type%20columns%20in%20spark.ipynb#ch0000000?line=18'>19</a>\u001b[0m         \u001b[39m\"\u001b[39m\u001b[39mphone_numbers\u001b[39m\u001b[39m\"\u001b[39m:  Row(mobile\u001b[39m=\u001b[39m\u001b[39m\"\u001b[39m\u001b[39m+1 234 567 8923\u001b[39m\u001b[39m\"\u001b[39m, home\u001b[39m=\u001b[39m\u001b[39m\"\u001b[39m\u001b[39m1 234 567 8934\u001b[39m\u001b[39m\"\u001b[39m),\n\u001b[0;32m     <a href='vscode-notebook-cell:/d%3A/Dot%20Net%20Training/Miscellaneous/Azure%20Databricks/1%20Create%20DataFrame/5.%20Struct%20type%20columns%20in%20spark.ipynb#ch0000000?line=19'>20</a>\u001b[0m         \u001b[39m\"\u001b[39m\u001b[39mis_customer\u001b[39m\u001b[39m\"\u001b[39m: \u001b[39mTrue\u001b[39;00m,\n\u001b[0;32m     <a href='vscode-notebook-cell:/d%3A/Dot%20Net%20Training/Miscellaneous/Azure%20Databricks/1%20Create%20DataFrame/5.%20Struct%20type%20columns%20in%20spark.ipynb#ch0000000?line=20'>21</a>\u001b[0m         \u001b[39m\"\u001b[39m\u001b[39mamount_paid\u001b[39m\u001b[39m\"\u001b[39m: \u001b[39m900.0\u001b[39m,\n\u001b[0;32m     <a href='vscode-notebook-cell:/d%3A/Dot%20Net%20Training/Miscellaneous/Azure%20Databricks/1%20Create%20DataFrame/5.%20Struct%20type%20columns%20in%20spark.ipynb#ch0000000?line=21'>22</a>\u001b[0m         \u001b[39m\"\u001b[39m\u001b[39mcustomer_from\u001b[39m\u001b[39m\"\u001b[39m: datetime\u001b[39m.\u001b[39mdate(\u001b[39m2021\u001b[39m, \u001b[39m2\u001b[39m, \u001b[39m14\u001b[39m),\n\u001b[0;32m     <a href='vscode-notebook-cell:/d%3A/Dot%20Net%20Training/Miscellaneous/Azure%20Databricks/1%20Create%20DataFrame/5.%20Struct%20type%20columns%20in%20spark.ipynb#ch0000000?line=22'>23</a>\u001b[0m         \u001b[39m\"\u001b[39m\u001b[39mlast_updated_ts\u001b[39m\u001b[39m\"\u001b[39m: datetime\u001b[39m.\u001b[39mdatetime(\u001b[39m2021\u001b[39m, \u001b[39m2\u001b[39m, \u001b[39m18\u001b[39m, \u001b[39m3\u001b[39m, \u001b[39m33\u001b[39m, \u001b[39m0\u001b[39m)\n\u001b[0;32m     <a href='vscode-notebook-cell:/d%3A/Dot%20Net%20Training/Miscellaneous/Azure%20Databricks/1%20Create%20DataFrame/5.%20Struct%20type%20columns%20in%20spark.ipynb#ch0000000?line=23'>24</a>\u001b[0m     },\n\u001b[0;32m     <a href='vscode-notebook-cell:/d%3A/Dot%20Net%20Training/Miscellaneous/Azure%20Databricks/1%20Create%20DataFrame/5.%20Struct%20type%20columns%20in%20spark.ipynb#ch0000000?line=24'>25</a>\u001b[0m     {\n\u001b[0;32m     <a href='vscode-notebook-cell:/d%3A/Dot%20Net%20Training/Miscellaneous/Azure%20Databricks/1%20Create%20DataFrame/5.%20Struct%20type%20columns%20in%20spark.ipynb#ch0000000?line=25'>26</a>\u001b[0m         \u001b[39m\"\u001b[39m\u001b[39mid\u001b[39m\u001b[39m\"\u001b[39m: \u001b[39m3\u001b[39m,\n\u001b[0;32m     <a href='vscode-notebook-cell:/d%3A/Dot%20Net%20Training/Miscellaneous/Azure%20Databricks/1%20Create%20DataFrame/5.%20Struct%20type%20columns%20in%20spark.ipynb#ch0000000?line=26'>27</a>\u001b[0m         \u001b[39m\"\u001b[39m\u001b[39mfirst_name\u001b[39m\u001b[39m\"\u001b[39m: \u001b[39m\"\u001b[39m\u001b[39mOrelie\u001b[39m\u001b[39m\"\u001b[39m,\n\u001b[0;32m     <a href='vscode-notebook-cell:/d%3A/Dot%20Net%20Training/Miscellaneous/Azure%20Databricks/1%20Create%20DataFrame/5.%20Struct%20type%20columns%20in%20spark.ipynb#ch0000000?line=27'>28</a>\u001b[0m         \u001b[39m\"\u001b[39m\u001b[39mlast_name\u001b[39m\u001b[39m\"\u001b[39m: \u001b[39m\"\u001b[39m\u001b[39mPenney\u001b[39m\u001b[39m\"\u001b[39m,\n\u001b[0;32m     <a href='vscode-notebook-cell:/d%3A/Dot%20Net%20Training/Miscellaneous/Azure%20Databricks/1%20Create%20DataFrame/5.%20Struct%20type%20columns%20in%20spark.ipynb#ch0000000?line=28'>29</a>\u001b[0m         \u001b[39m\"\u001b[39m\u001b[39memail\u001b[39m\u001b[39m\"\u001b[39m: \u001b[39m\"\u001b[39m\u001b[39mopenney2@vistaprint.com\u001b[39m\u001b[39m\"\u001b[39m,\n\u001b[0;32m     <a href='vscode-notebook-cell:/d%3A/Dot%20Net%20Training/Miscellaneous/Azure%20Databricks/1%20Create%20DataFrame/5.%20Struct%20type%20columns%20in%20spark.ipynb#ch0000000?line=29'>30</a>\u001b[0m         \u001b[39m\"\u001b[39m\u001b[39mphone_numbers\u001b[39m\u001b[39m\"\u001b[39m: Row(mobile\u001b[39m=\u001b[39m\u001b[39m\"\u001b[39m\u001b[39m+1 714 512 9752\u001b[39m\u001b[39m\"\u001b[39m, home\u001b[39m=\u001b[39m\u001b[39m\"\u001b[39m\u001b[39m+1 714 512 6601\u001b[39m\u001b[39m\"\u001b[39m),\n\u001b[0;32m     <a href='vscode-notebook-cell:/d%3A/Dot%20Net%20Training/Miscellaneous/Azure%20Databricks/1%20Create%20DataFrame/5.%20Struct%20type%20columns%20in%20spark.ipynb#ch0000000?line=30'>31</a>\u001b[0m         \u001b[39m\"\u001b[39m\u001b[39mis_customer\u001b[39m\u001b[39m\"\u001b[39m: \u001b[39mTrue\u001b[39;00m,\n\u001b[0;32m     <a href='vscode-notebook-cell:/d%3A/Dot%20Net%20Training/Miscellaneous/Azure%20Databricks/1%20Create%20DataFrame/5.%20Struct%20type%20columns%20in%20spark.ipynb#ch0000000?line=31'>32</a>\u001b[0m         \u001b[39m\"\u001b[39m\u001b[39mamount_paid\u001b[39m\u001b[39m\"\u001b[39m: \u001b[39m850.55\u001b[39m,\n\u001b[0;32m     <a href='vscode-notebook-cell:/d%3A/Dot%20Net%20Training/Miscellaneous/Azure%20Databricks/1%20Create%20DataFrame/5.%20Struct%20type%20columns%20in%20spark.ipynb#ch0000000?line=32'>33</a>\u001b[0m         \u001b[39m\"\u001b[39m\u001b[39mcustomer_from\u001b[39m\u001b[39m\"\u001b[39m: datetime\u001b[39m.\u001b[39mdate(\u001b[39m2021\u001b[39m, \u001b[39m1\u001b[39m, \u001b[39m21\u001b[39m),\n\u001b[0;32m     <a href='vscode-notebook-cell:/d%3A/Dot%20Net%20Training/Miscellaneous/Azure%20Databricks/1%20Create%20DataFrame/5.%20Struct%20type%20columns%20in%20spark.ipynb#ch0000000?line=33'>34</a>\u001b[0m         \u001b[39m\"\u001b[39m\u001b[39mlast_updated_ts\u001b[39m\u001b[39m\"\u001b[39m: datetime\u001b[39m.\u001b[39mdatetime(\u001b[39m2021\u001b[39m, \u001b[39m3\u001b[39m, \u001b[39m15\u001b[39m, \u001b[39m15\u001b[39m, \u001b[39m16\u001b[39m, \u001b[39m55\u001b[39m)\n\u001b[0;32m     <a href='vscode-notebook-cell:/d%3A/Dot%20Net%20Training/Miscellaneous/Azure%20Databricks/1%20Create%20DataFrame/5.%20Struct%20type%20columns%20in%20spark.ipynb#ch0000000?line=34'>35</a>\u001b[0m     },\n\u001b[0;32m     <a href='vscode-notebook-cell:/d%3A/Dot%20Net%20Training/Miscellaneous/Azure%20Databricks/1%20Create%20DataFrame/5.%20Struct%20type%20columns%20in%20spark.ipynb#ch0000000?line=35'>36</a>\u001b[0m     {\n\u001b[0;32m     <a href='vscode-notebook-cell:/d%3A/Dot%20Net%20Training/Miscellaneous/Azure%20Databricks/1%20Create%20DataFrame/5.%20Struct%20type%20columns%20in%20spark.ipynb#ch0000000?line=36'>37</a>\u001b[0m         \u001b[39m\"\u001b[39m\u001b[39mid\u001b[39m\u001b[39m\"\u001b[39m: \u001b[39m4\u001b[39m,\n\u001b[0;32m     <a href='vscode-notebook-cell:/d%3A/Dot%20Net%20Training/Miscellaneous/Azure%20Databricks/1%20Create%20DataFrame/5.%20Struct%20type%20columns%20in%20spark.ipynb#ch0000000?line=37'>38</a>\u001b[0m         \u001b[39m\"\u001b[39m\u001b[39mfirst_name\u001b[39m\u001b[39m\"\u001b[39m: \u001b[39m\"\u001b[39m\u001b[39mAshby\u001b[39m\u001b[39m\"\u001b[39m,\n\u001b[0;32m     <a href='vscode-notebook-cell:/d%3A/Dot%20Net%20Training/Miscellaneous/Azure%20Databricks/1%20Create%20DataFrame/5.%20Struct%20type%20columns%20in%20spark.ipynb#ch0000000?line=38'>39</a>\u001b[0m         \u001b[39m\"\u001b[39m\u001b[39mlast_name\u001b[39m\u001b[39m\"\u001b[39m: \u001b[39m\"\u001b[39m\u001b[39mMaddocks\u001b[39m\u001b[39m\"\u001b[39m,\n\u001b[0;32m     <a href='vscode-notebook-cell:/d%3A/Dot%20Net%20Training/Miscellaneous/Azure%20Databricks/1%20Create%20DataFrame/5.%20Struct%20type%20columns%20in%20spark.ipynb#ch0000000?line=39'>40</a>\u001b[0m         \u001b[39m\"\u001b[39m\u001b[39memail\u001b[39m\u001b[39m\"\u001b[39m: \u001b[39m\"\u001b[39m\u001b[39mamaddocks3@home.pl\u001b[39m\u001b[39m\"\u001b[39m,\n\u001b[0;32m     <a href='vscode-notebook-cell:/d%3A/Dot%20Net%20Training/Miscellaneous/Azure%20Databricks/1%20Create%20DataFrame/5.%20Struct%20type%20columns%20in%20spark.ipynb#ch0000000?line=40'>41</a>\u001b[0m         \u001b[39m\"\u001b[39m\u001b[39mphone_numbers\u001b[39m\u001b[39m\"\u001b[39m: Row(mobile\u001b[39m=\u001b[39m\u001b[39mNone\u001b[39;00m, home\u001b[39m=\u001b[39m\u001b[39mNone\u001b[39;00m),\n\u001b[0;32m     <a href='vscode-notebook-cell:/d%3A/Dot%20Net%20Training/Miscellaneous/Azure%20Databricks/1%20Create%20DataFrame/5.%20Struct%20type%20columns%20in%20spark.ipynb#ch0000000?line=41'>42</a>\u001b[0m         \u001b[39m\"\u001b[39m\u001b[39mis_customer\u001b[39m\u001b[39m\"\u001b[39m: \u001b[39mFalse\u001b[39;00m,\n\u001b[0;32m     <a href='vscode-notebook-cell:/d%3A/Dot%20Net%20Training/Miscellaneous/Azure%20Databricks/1%20Create%20DataFrame/5.%20Struct%20type%20columns%20in%20spark.ipynb#ch0000000?line=42'>43</a>\u001b[0m         \u001b[39m\"\u001b[39m\u001b[39mamount_paid\u001b[39m\u001b[39m\"\u001b[39m: \u001b[39mNone\u001b[39;00m,\n\u001b[0;32m     <a href='vscode-notebook-cell:/d%3A/Dot%20Net%20Training/Miscellaneous/Azure%20Databricks/1%20Create%20DataFrame/5.%20Struct%20type%20columns%20in%20spark.ipynb#ch0000000?line=43'>44</a>\u001b[0m         \u001b[39m\"\u001b[39m\u001b[39mcustomer_from\u001b[39m\u001b[39m\"\u001b[39m: \u001b[39mNone\u001b[39;00m,\n\u001b[0;32m     <a href='vscode-notebook-cell:/d%3A/Dot%20Net%20Training/Miscellaneous/Azure%20Databricks/1%20Create%20DataFrame/5.%20Struct%20type%20columns%20in%20spark.ipynb#ch0000000?line=44'>45</a>\u001b[0m         \u001b[39m\"\u001b[39m\u001b[39mlast_updated_ts\u001b[39m\u001b[39m\"\u001b[39m: datetime\u001b[39m.\u001b[39mdatetime(\u001b[39m2021\u001b[39m, \u001b[39m4\u001b[39m, \u001b[39m10\u001b[39m, \u001b[39m17\u001b[39m, \u001b[39m45\u001b[39m, \u001b[39m30\u001b[39m)\n\u001b[0;32m     <a href='vscode-notebook-cell:/d%3A/Dot%20Net%20Training/Miscellaneous/Azure%20Databricks/1%20Create%20DataFrame/5.%20Struct%20type%20columns%20in%20spark.ipynb#ch0000000?line=45'>46</a>\u001b[0m     },\n\u001b[0;32m     <a href='vscode-notebook-cell:/d%3A/Dot%20Net%20Training/Miscellaneous/Azure%20Databricks/1%20Create%20DataFrame/5.%20Struct%20type%20columns%20in%20spark.ipynb#ch0000000?line=46'>47</a>\u001b[0m     {\n\u001b[0;32m     <a href='vscode-notebook-cell:/d%3A/Dot%20Net%20Training/Miscellaneous/Azure%20Databricks/1%20Create%20DataFrame/5.%20Struct%20type%20columns%20in%20spark.ipynb#ch0000000?line=47'>48</a>\u001b[0m         \u001b[39m\"\u001b[39m\u001b[39mid\u001b[39m\u001b[39m\"\u001b[39m: \u001b[39m5\u001b[39m,\n\u001b[0;32m     <a href='vscode-notebook-cell:/d%3A/Dot%20Net%20Training/Miscellaneous/Azure%20Databricks/1%20Create%20DataFrame/5.%20Struct%20type%20columns%20in%20spark.ipynb#ch0000000?line=48'>49</a>\u001b[0m         \u001b[39m\"\u001b[39m\u001b[39mfirst_name\u001b[39m\u001b[39m\"\u001b[39m: \u001b[39m\"\u001b[39m\u001b[39mKurt\u001b[39m\u001b[39m\"\u001b[39m,\n\u001b[0;32m     <a href='vscode-notebook-cell:/d%3A/Dot%20Net%20Training/Miscellaneous/Azure%20Databricks/1%20Create%20DataFrame/5.%20Struct%20type%20columns%20in%20spark.ipynb#ch0000000?line=49'>50</a>\u001b[0m         \u001b[39m\"\u001b[39m\u001b[39mlast_name\u001b[39m\u001b[39m\"\u001b[39m: \u001b[39m\"\u001b[39m\u001b[39mRome\u001b[39m\u001b[39m\"\u001b[39m,\n\u001b[0;32m     <a href='vscode-notebook-cell:/d%3A/Dot%20Net%20Training/Miscellaneous/Azure%20Databricks/1%20Create%20DataFrame/5.%20Struct%20type%20columns%20in%20spark.ipynb#ch0000000?line=50'>51</a>\u001b[0m         \u001b[39m\"\u001b[39m\u001b[39memail\u001b[39m\u001b[39m\"\u001b[39m: \u001b[39m\"\u001b[39m\u001b[39mkrome4@shutterfly.com\u001b[39m\u001b[39m\"\u001b[39m,\n\u001b[0;32m     <a href='vscode-notebook-cell:/d%3A/Dot%20Net%20Training/Miscellaneous/Azure%20Databricks/1%20Create%20DataFrame/5.%20Struct%20type%20columns%20in%20spark.ipynb#ch0000000?line=51'>52</a>\u001b[0m         \u001b[39m\"\u001b[39m\u001b[39mphone_numbers\u001b[39m\u001b[39m\"\u001b[39m: Row(mobile\u001b[39m=\u001b[39m\u001b[39m\"\u001b[39m\u001b[39m+1 817 934 7142\u001b[39m\u001b[39m\"\u001b[39m, home\u001b[39m=\u001b[39m\u001b[39mNone\u001b[39;00m),\n\u001b[0;32m     <a href='vscode-notebook-cell:/d%3A/Dot%20Net%20Training/Miscellaneous/Azure%20Databricks/1%20Create%20DataFrame/5.%20Struct%20type%20columns%20in%20spark.ipynb#ch0000000?line=52'>53</a>\u001b[0m         \u001b[39m\"\u001b[39m\u001b[39mis_customer\u001b[39m\u001b[39m\"\u001b[39m: \u001b[39mFalse\u001b[39;00m,\n\u001b[0;32m     <a href='vscode-notebook-cell:/d%3A/Dot%20Net%20Training/Miscellaneous/Azure%20Databricks/1%20Create%20DataFrame/5.%20Struct%20type%20columns%20in%20spark.ipynb#ch0000000?line=53'>54</a>\u001b[0m         \u001b[39m\"\u001b[39m\u001b[39mamount_paid\u001b[39m\u001b[39m\"\u001b[39m: \u001b[39mNone\u001b[39;00m,\n\u001b[0;32m     <a href='vscode-notebook-cell:/d%3A/Dot%20Net%20Training/Miscellaneous/Azure%20Databricks/1%20Create%20DataFrame/5.%20Struct%20type%20columns%20in%20spark.ipynb#ch0000000?line=54'>55</a>\u001b[0m         \u001b[39m\"\u001b[39m\u001b[39mcustomer_from\u001b[39m\u001b[39m\"\u001b[39m: \u001b[39mNone\u001b[39;00m,\n\u001b[0;32m     <a href='vscode-notebook-cell:/d%3A/Dot%20Net%20Training/Miscellaneous/Azure%20Databricks/1%20Create%20DataFrame/5.%20Struct%20type%20columns%20in%20spark.ipynb#ch0000000?line=55'>56</a>\u001b[0m         \u001b[39m\"\u001b[39m\u001b[39mlast_updated_ts\u001b[39m\u001b[39m\"\u001b[39m: datetime\u001b[39m.\u001b[39mdatetime(\u001b[39m2021\u001b[39m, \u001b[39m4\u001b[39m, \u001b[39m2\u001b[39m, \u001b[39m0\u001b[39m, \u001b[39m55\u001b[39m, \u001b[39m18\u001b[39m)\n\u001b[0;32m     <a href='vscode-notebook-cell:/d%3A/Dot%20Net%20Training/Miscellaneous/Azure%20Databricks/1%20Create%20DataFrame/5.%20Struct%20type%20columns%20in%20spark.ipynb#ch0000000?line=56'>57</a>\u001b[0m     }\n\u001b[0;32m     <a href='vscode-notebook-cell:/d%3A/Dot%20Net%20Training/Miscellaneous/Azure%20Databricks/1%20Create%20DataFrame/5.%20Struct%20type%20columns%20in%20spark.ipynb#ch0000000?line=57'>58</a>\u001b[0m ]\n",
      "\u001b[1;31mNameError\u001b[0m: name 'Row' is not defined"
     ]
    }
   ],
   "source": [
    "import datetime\n",
    "users = [\n",
    "    {\n",
    "        \"id\": 1,\n",
    "        \"first_name\": \"Corrie\",\n",
    "        \"last_name\": \"Van den Oord\",\n",
    "        \"email\": \"cvandenoord0@etsy.com\",\n",
    "        \"phone_numbers\": Row(mobile=\"+1 234 567 8901\", home=\"+1 234 567 8911\"),\n",
    "        \"is_customer\": True,\n",
    "        \"amount_paid\": 1000.55,\n",
    "        \"customer_from\": datetime.date(2021, 1, 15),\n",
    "        \"last_updated_ts\": datetime.datetime(2021, 2, 10, 1, 15, 0)\n",
    "    },\n",
    "    {\n",
    "        \"id\": 2,\n",
    "        \"first_name\": \"Nikolaus\",\n",
    "        \"last_name\": \"Brewitt\",\n",
    "        \"email\": \"nbrewitt1@dailymail.co.uk\",\n",
    "        \"phone_numbers\":  Row(mobile=\"+1 234 567 8923\", home=\"1 234 567 8934\"),\n",
    "        \"is_customer\": True,\n",
    "        \"amount_paid\": 900.0,\n",
    "        \"customer_from\": datetime.date(2021, 2, 14),\n",
    "        \"last_updated_ts\": datetime.datetime(2021, 2, 18, 3, 33, 0)\n",
    "    },\n",
    "    {\n",
    "        \"id\": 3,\n",
    "        \"first_name\": \"Orelie\",\n",
    "        \"last_name\": \"Penney\",\n",
    "        \"email\": \"openney2@vistaprint.com\",\n",
    "        \"phone_numbers\": Row(mobile=\"+1 714 512 9752\", home=\"+1 714 512 6601\"),\n",
    "        \"is_customer\": True,\n",
    "        \"amount_paid\": 850.55,\n",
    "        \"customer_from\": datetime.date(2021, 1, 21),\n",
    "        \"last_updated_ts\": datetime.datetime(2021, 3, 15, 15, 16, 55)\n",
    "    },\n",
    "    {\n",
    "        \"id\": 4,\n",
    "        \"first_name\": \"Ashby\",\n",
    "        \"last_name\": \"Maddocks\",\n",
    "        \"email\": \"amaddocks3@home.pl\",\n",
    "        \"phone_numbers\": Row(mobile=None, home=None),\n",
    "        \"is_customer\": False,\n",
    "        \"amount_paid\": None,\n",
    "        \"customer_from\": None,\n",
    "        \"last_updated_ts\": datetime.datetime(2021, 4, 10, 17, 45, 30)\n",
    "    },\n",
    "    {\n",
    "        \"id\": 5,\n",
    "        \"first_name\": \"Kurt\",\n",
    "        \"last_name\": \"Rome\",\n",
    "        \"email\": \"krome4@shutterfly.com\",\n",
    "        \"phone_numbers\": Row(mobile=\"+1 817 934 7142\", home=None),\n",
    "        \"is_customer\": False,\n",
    "        \"amount_paid\": None,\n",
    "        \"customer_from\": None,\n",
    "        \"last_updated_ts\": datetime.datetime(2021, 4, 2, 0, 55, 18)\n",
    "    }\n",
    "]"
   ]
  },
  {
   "cell_type": "code",
   "execution_count": 4,
   "metadata": {},
   "outputs": [
    {
     "ename": "NameError",
     "evalue": "name 'spark' is not defined",
     "output_type": "error",
     "traceback": [
      "\u001b[1;31m---------------------------------------------------------------------------\u001b[0m",
      "\u001b[1;31mNameError\u001b[0m                                 Traceback (most recent call last)",
      "\u001b[1;32md:\\Dot Net Training\\Miscellaneous\\Azure Databricks\\1 Create DataFrame\\5. Struct type columns in spark.ipynb Cell 3'\u001b[0m in \u001b[0;36m<cell line: 1>\u001b[1;34m()\u001b[0m\n\u001b[1;32m----> <a href='vscode-notebook-cell:/d%3A/Dot%20Net%20Training/Miscellaneous/Azure%20Databricks/1%20Create%20DataFrame/5.%20Struct%20type%20columns%20in%20spark.ipynb#ch0000001?line=0'>1</a>\u001b[0m user_df \u001b[39m=\u001b[39m spark\u001b[39m.\u001b[39mcreateDataFrame([Row(\u001b[39m*\u001b[39m\u001b[39m*\u001b[39muser) \u001b[39mfor\u001b[39;00m user \u001b[39min\u001b[39;00m users])\n\u001b[0;32m      <a href='vscode-notebook-cell:/d%3A/Dot%20Net%20Training/Miscellaneous/Azure%20Databricks/1%20Create%20DataFrame/5.%20Struct%20type%20columns%20in%20spark.ipynb#ch0000001?line=1'>2</a>\u001b[0m user_df\u001b[39m.\u001b[39mshow()\n",
      "\u001b[1;31mNameError\u001b[0m: name 'spark' is not defined"
     ]
    }
   ],
   "source": [
    "user_df = spark.createDataFrame([Row(**user) for user in users])\n",
    "user_df.show()"
   ]
  },
  {
   "cell_type": "code",
   "execution_count": 5,
   "metadata": {},
   "outputs": [
    {
     "ename": "NameError",
     "evalue": "name 'user_df' is not defined",
     "output_type": "error",
     "traceback": [
      "\u001b[1;31m---------------------------------------------------------------------------\u001b[0m",
      "\u001b[1;31mNameError\u001b[0m                                 Traceback (most recent call last)",
      "\u001b[1;32md:\\Dot Net Training\\Miscellaneous\\Azure Databricks\\1 Create DataFrame\\5. Struct type columns in spark.ipynb Cell 4'\u001b[0m in \u001b[0;36m<cell line: 1>\u001b[1;34m()\u001b[0m\n\u001b[1;32m----> <a href='vscode-notebook-cell:/d%3A/Dot%20Net%20Training/Miscellaneous/Azure%20Databricks/1%20Create%20DataFrame/5.%20Struct%20type%20columns%20in%20spark.ipynb#ch0000003?line=0'>1</a>\u001b[0m user_df\u001b[39m.\u001b[39mselect(\u001b[39m'\u001b[39m\u001b[39mid\u001b[39m\u001b[39m'\u001b[39m, \u001b[39m'\u001b[39m\u001b[39mphone_numbers\u001b[39m\u001b[39m'\u001b[39m)\u001b[39m.\u001b[39mshow(truncate\u001b[39m=\u001b[39m\u001b[39mFalse\u001b[39;00m)\n",
      "\u001b[1;31mNameError\u001b[0m: name 'user_df' is not defined"
     ]
    }
   ],
   "source": [
    "user_df.select('id', 'phone_numbers').show(truncate=False)"
   ]
  },
  {
   "cell_type": "code",
   "execution_count": 6,
   "metadata": {},
   "outputs": [
    {
     "ename": "NameError",
     "evalue": "name 'user_df' is not defined",
     "output_type": "error",
     "traceback": [
      "\u001b[1;31m---------------------------------------------------------------------------\u001b[0m",
      "\u001b[1;31mNameError\u001b[0m                                 Traceback (most recent call last)",
      "\u001b[1;32md:\\Dot Net Training\\Miscellaneous\\Azure Databricks\\1 Create DataFrame\\5. Struct type columns in spark.ipynb Cell 5'\u001b[0m in \u001b[0;36m<cell line: 1>\u001b[1;34m()\u001b[0m\n\u001b[1;32m----> <a href='vscode-notebook-cell:/d%3A/Dot%20Net%20Training/Miscellaneous/Azure%20Databricks/1%20Create%20DataFrame/5.%20Struct%20type%20columns%20in%20spark.ipynb#ch0000004?line=0'>1</a>\u001b[0m user_df\u001b[39m.\u001b[39mselect(\u001b[39m'\u001b[39m\u001b[39mid\u001b[39m\u001b[39m'\u001b[39m, \u001b[39m'\u001b[39m\u001b[39mphone_numbers.mobile\u001b[39m\u001b[39m'\u001b[39m, \u001b[39m'\u001b[39m\u001b[39mphone_numbers.home\u001b[39m\u001b[39m'\u001b[39m)\u001b[39m.\u001b[39mshow()\n",
      "\u001b[1;31mNameError\u001b[0m: name 'user_df' is not defined"
     ]
    }
   ],
   "source": [
    "user_df.select('id', 'phone_numbers.mobile', 'phone_numbers.home').show()"
   ]
  },
  {
   "cell_type": "code",
   "execution_count": 7,
   "metadata": {},
   "outputs": [
    {
     "ename": "NameError",
     "evalue": "name 'user_df' is not defined",
     "output_type": "error",
     "traceback": [
      "\u001b[1;31m---------------------------------------------------------------------------\u001b[0m",
      "\u001b[1;31mNameError\u001b[0m                                 Traceback (most recent call last)",
      "\u001b[1;32md:\\Dot Net Training\\Miscellaneous\\Azure Databricks\\1 Create DataFrame\\5. Struct type columns in spark.ipynb Cell 6'\u001b[0m in \u001b[0;36m<cell line: 1>\u001b[1;34m()\u001b[0m\n\u001b[1;32m----> <a href='vscode-notebook-cell:/d%3A/Dot%20Net%20Training/Miscellaneous/Azure%20Databricks/1%20Create%20DataFrame/5.%20Struct%20type%20columns%20in%20spark.ipynb#ch0000005?line=0'>1</a>\u001b[0m user_df\u001b[39m.\u001b[39mselect(\u001b[39m'\u001b[39m\u001b[39mid\u001b[39m\u001b[39m'\u001b[39m, \u001b[39m'\u001b[39m\u001b[39mphone_numbers.*\u001b[39m\u001b[39m'\u001b[39m)\u001b[39m.\u001b[39mshow()\n",
      "\u001b[1;31mNameError\u001b[0m: name 'user_df' is not defined"
     ]
    }
   ],
   "source": [
    "user_df.select('id', 'phone_numbers.*').show()"
   ]
  },
  {
   "cell_type": "code",
   "execution_count": 8,
   "metadata": {},
   "outputs": [
    {
     "ename": "NameError",
     "evalue": "name 'user_df' is not defined",
     "output_type": "error",
     "traceback": [
      "\u001b[1;31m---------------------------------------------------------------------------\u001b[0m",
      "\u001b[1;31mNameError\u001b[0m                                 Traceback (most recent call last)",
      "\u001b[1;32md:\\Dot Net Training\\Miscellaneous\\Azure Databricks\\1 Create DataFrame\\5. Struct type columns in spark.ipynb Cell 7'\u001b[0m in \u001b[0;36m<cell line: 1>\u001b[1;34m()\u001b[0m\n\u001b[1;32m----> <a href='vscode-notebook-cell:/d%3A/Dot%20Net%20Training/Miscellaneous/Azure%20Databricks/1%20Create%20DataFrame/5.%20Struct%20type%20columns%20in%20spark.ipynb#ch0000006?line=0'>1</a>\u001b[0m user_df\u001b[39m.\u001b[39mselect(\u001b[39m'\u001b[39m\u001b[39mid\u001b[39m\u001b[39m'\u001b[39m, col(\u001b[39m'\u001b[39m\u001b[39mphone_numbers\u001b[39m\u001b[39m'\u001b[39m)[\u001b[39m'\u001b[39m\u001b[39mmobile\u001b[39m\u001b[39m'\u001b[39m], col(\u001b[39m'\u001b[39m\u001b[39mphone_numbers\u001b[39m\u001b[39m'\u001b[39m)[\u001b[39m'\u001b[39m\u001b[39mhome\u001b[39m\u001b[39m'\u001b[39m])\u001b[39m.\u001b[39mshow()\n",
      "\u001b[1;31mNameError\u001b[0m: name 'user_df' is not defined"
     ]
    }
   ],
   "source": [
    "user_df.select('id', col('phone_numbers')['mobile'], col('phone_numbers')['home']).show()"
   ]
  },
  {
   "cell_type": "code",
   "execution_count": null,
   "metadata": {},
   "outputs": [],
   "source": []
  }
 ],
 "metadata": {
  "interpreter": {
   "hash": "fdc983804108b630f6a4d8a2de07d5c0503f1994d98b4af092e862cbb9507d70"
  },
  "kernelspec": {
   "display_name": "Python 3.10.4 64-bit",
   "language": "python",
   "name": "python3"
  },
  "language_info": {
   "codemirror_mode": {
    "name": "ipython",
    "version": 3
   },
   "file_extension": ".py",
   "mimetype": "text/x-python",
   "name": "python",
   "nbconvert_exporter": "python",
   "pygments_lexer": "ipython3",
   "version": "3.10.4"
  },
  "orig_nbformat": 4
 },
 "nbformat": 4,
 "nbformat_minor": 2
}
