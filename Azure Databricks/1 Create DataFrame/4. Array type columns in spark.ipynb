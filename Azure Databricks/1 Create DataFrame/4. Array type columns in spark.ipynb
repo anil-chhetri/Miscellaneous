{
 "cells": [
  {
   "cell_type": "code",
   "execution_count": 1,
   "metadata": {},
   "outputs": [],
   "source": [
    "import datetime\n",
    "users = [\n",
    "    {\n",
    "        \"id\": 1,\n",
    "        \"first_name\": \"Corrie\",\n",
    "        \"last_name\": \"Van den Oord\",\n",
    "        \"email\": \"cvandenoord0@etsy.com\",\n",
    "        \"phone_numbers\": [\"+1 234 567 8901\", \"+1 234 567 8911\"],\n",
    "        \"is_customer\": True,\n",
    "        \"amount_paid\": 1000.55,\n",
    "        \"customer_from\": datetime.date(2021, 1, 15),\n",
    "        \"last_updated_ts\": datetime.datetime(2021, 2, 10, 1, 15, 0)\n",
    "    },\n",
    "    {\n",
    "        \"id\": 2,\n",
    "        \"first_name\": \"Nikolaus\",\n",
    "        \"last_name\": \"Brewitt\",\n",
    "        \"email\": \"nbrewitt1@dailymail.co.uk\",\n",
    "        \"phone_numbers\": [\"+1 234 567 8923\", \"+1 234 567 8934\"],\n",
    "        \"is_customer\": True,\n",
    "        \"amount_paid\": 900.0,\n",
    "        \"customer_from\": datetime.date(2021, 2, 14),\n",
    "        \"last_updated_ts\": datetime.datetime(2021, 2, 18, 3, 33, 0)\n",
    "    },\n",
    "    {\n",
    "        \"id\": 3,\n",
    "        \"first_name\": \"Orelie\",\n",
    "        \"last_name\": \"Penney\",\n",
    "        \"email\": \"openney2@vistaprint.com\",\n",
    "        \"phone_numbers\": [\"+1 714 512 9752\", \"+1 714 512 6601\"],\n",
    "        \"is_customer\": True,\n",
    "        \"amount_paid\": 850.55,\n",
    "        \"customer_from\": datetime.date(2021, 1, 21),\n",
    "        \"last_updated_ts\": datetime.datetime(2021, 3, 15, 15, 16, 55)\n",
    "    },\n",
    "    {\n",
    "        \"id\": 4,\n",
    "        \"first_name\": \"Ashby\",\n",
    "        \"last_name\": \"Maddocks\",\n",
    "        \"email\": \"amaddocks3@home.pl\",\n",
    "        \"phone_numbers\": None,\n",
    "        \"is_customer\": False,\n",
    "        \"amount_paid\": None,\n",
    "        \"customer_from\": None,\n",
    "        \"last_updated_ts\": datetime.datetime(2021, 4, 10, 17, 45, 30)\n",
    "    },\n",
    "    {\n",
    "        \"id\": 5,\n",
    "        \"first_name\": \"Kurt\",\n",
    "        \"last_name\": \"Rome\",\n",
    "        \"email\": \"krome4@shutterfly.com\",\n",
    "        \"phone_numbers\": [\"+1 817 934 7142\"],\n",
    "        \"is_customer\": False,\n",
    "        \"amount_paid\": None,\n",
    "        \"customer_from\": None,\n",
    "        \"last_updated_ts\": datetime.datetime(2021, 4, 2, 0, 55, 18)\n",
    "    }\n",
    "]"
   ]
  },
  {
   "cell_type": "code",
   "execution_count": 3,
   "metadata": {},
   "outputs": [
    {
     "data": {
      "text/html": [
       "<div>\n",
       "<style scoped>\n",
       "    .dataframe tbody tr th:only-of-type {\n",
       "        vertical-align: middle;\n",
       "    }\n",
       "\n",
       "    .dataframe tbody tr th {\n",
       "        vertical-align: top;\n",
       "    }\n",
       "\n",
       "    .dataframe thead th {\n",
       "        text-align: right;\n",
       "    }\n",
       "</style>\n",
       "<table border=\"1\" class=\"dataframe\">\n",
       "  <thead>\n",
       "    <tr style=\"text-align: right;\">\n",
       "      <th></th>\n",
       "      <th>id</th>\n",
       "      <th>first_name</th>\n",
       "      <th>last_name</th>\n",
       "      <th>email</th>\n",
       "      <th>phone_numbers</th>\n",
       "      <th>is_customer</th>\n",
       "      <th>amount_paid</th>\n",
       "      <th>customer_from</th>\n",
       "      <th>last_updated_ts</th>\n",
       "    </tr>\n",
       "  </thead>\n",
       "  <tbody>\n",
       "    <tr>\n",
       "      <th>0</th>\n",
       "      <td>1</td>\n",
       "      <td>Corrie</td>\n",
       "      <td>Van den Oord</td>\n",
       "      <td>cvandenoord0@etsy.com</td>\n",
       "      <td>[+1 234 567 8901, +1 234 567 8911]</td>\n",
       "      <td>True</td>\n",
       "      <td>1000.55</td>\n",
       "      <td>2021-01-15</td>\n",
       "      <td>2021-02-10 01:15:00</td>\n",
       "    </tr>\n",
       "    <tr>\n",
       "      <th>1</th>\n",
       "      <td>2</td>\n",
       "      <td>Nikolaus</td>\n",
       "      <td>Brewitt</td>\n",
       "      <td>nbrewitt1@dailymail.co.uk</td>\n",
       "      <td>[+1 234 567 8923, +1 234 567 8934]</td>\n",
       "      <td>True</td>\n",
       "      <td>900.00</td>\n",
       "      <td>2021-02-14</td>\n",
       "      <td>2021-02-18 03:33:00</td>\n",
       "    </tr>\n",
       "    <tr>\n",
       "      <th>2</th>\n",
       "      <td>3</td>\n",
       "      <td>Orelie</td>\n",
       "      <td>Penney</td>\n",
       "      <td>openney2@vistaprint.com</td>\n",
       "      <td>[+1 714 512 9752, +1 714 512 6601]</td>\n",
       "      <td>True</td>\n",
       "      <td>850.55</td>\n",
       "      <td>2021-01-21</td>\n",
       "      <td>2021-03-15 15:16:55</td>\n",
       "    </tr>\n",
       "    <tr>\n",
       "      <th>3</th>\n",
       "      <td>4</td>\n",
       "      <td>Ashby</td>\n",
       "      <td>Maddocks</td>\n",
       "      <td>amaddocks3@home.pl</td>\n",
       "      <td>None</td>\n",
       "      <td>False</td>\n",
       "      <td>NaN</td>\n",
       "      <td>None</td>\n",
       "      <td>2021-04-10 17:45:30</td>\n",
       "    </tr>\n",
       "    <tr>\n",
       "      <th>4</th>\n",
       "      <td>5</td>\n",
       "      <td>Kurt</td>\n",
       "      <td>Rome</td>\n",
       "      <td>krome4@shutterfly.com</td>\n",
       "      <td>[+1 817 934 7142]</td>\n",
       "      <td>False</td>\n",
       "      <td>NaN</td>\n",
       "      <td>None</td>\n",
       "      <td>2021-04-02 00:55:18</td>\n",
       "    </tr>\n",
       "  </tbody>\n",
       "</table>\n",
       "</div>"
      ],
      "text/plain": [
       "   id first_name     last_name                      email  \\\n",
       "0   1     Corrie  Van den Oord      cvandenoord0@etsy.com   \n",
       "1   2   Nikolaus       Brewitt  nbrewitt1@dailymail.co.uk   \n",
       "2   3     Orelie        Penney    openney2@vistaprint.com   \n",
       "3   4      Ashby      Maddocks         amaddocks3@home.pl   \n",
       "4   5       Kurt          Rome      krome4@shutterfly.com   \n",
       "\n",
       "                        phone_numbers  is_customer  amount_paid customer_from  \\\n",
       "0  [+1 234 567 8901, +1 234 567 8911]         True      1000.55    2021-01-15   \n",
       "1  [+1 234 567 8923, +1 234 567 8934]         True       900.00    2021-02-14   \n",
       "2  [+1 714 512 9752, +1 714 512 6601]         True       850.55    2021-01-21   \n",
       "3                                None        False          NaN          None   \n",
       "4                   [+1 817 934 7142]        False          NaN          None   \n",
       "\n",
       "      last_updated_ts  \n",
       "0 2021-02-10 01:15:00  \n",
       "1 2021-02-18 03:33:00  \n",
       "2 2021-03-15 15:16:55  \n",
       "3 2021-04-10 17:45:30  \n",
       "4 2021-04-02 00:55:18  "
      ]
     },
     "execution_count": 3,
     "metadata": {},
     "output_type": "execute_result"
    }
   ],
   "source": [
    "import pandas as pd\n",
    "df = pd.DataFrame(users)\n",
    "df.head()"
   ]
  },
  {
   "cell_type": "markdown",
   "metadata": {},
   "source": [
    "In this dataset we have array as the value of the phone_numbers column. for this kind of data we either keep multiple records for same person who have multiple contact or keep multiple column for phone_numbers. \n"
   ]
  },
  {
   "cell_type": "code",
   "execution_count": 4,
   "metadata": {},
   "outputs": [
    {
     "ename": "ModuleNotFoundError",
     "evalue": "No module named 'pyspark'",
     "output_type": "error",
     "traceback": [
      "\u001b[1;31m---------------------------------------------------------------------------\u001b[0m",
      "\u001b[1;31mModuleNotFoundError\u001b[0m                       Traceback (most recent call last)",
      "\u001b[1;32md:\\Dot Net Training\\Miscellaneous\\Azure Databricks\\4. Array type coluns in spark.ipynb Cell 4'\u001b[0m in \u001b[0;36m<cell line: 2>\u001b[1;34m()\u001b[0m\n\u001b[0;32m      <a href='vscode-notebook-cell:/d%3A/Dot%20Net%20Training/Miscellaneous/Azure%20Databricks/4.%20Array%20type%20coluns%20in%20spark.ipynb#ch0000002?line=0'>1</a>\u001b[0m \u001b[39m#creating spark dataframe\u001b[39;00m\n\u001b[1;32m----> <a href='vscode-notebook-cell:/d%3A/Dot%20Net%20Training/Miscellaneous/Azure%20Databricks/4.%20Array%20type%20coluns%20in%20spark.ipynb#ch0000002?line=1'>2</a>\u001b[0m \u001b[39mfrom\u001b[39;00m \u001b[39mpyspark\u001b[39;00m\u001b[39m.\u001b[39;00m\u001b[39msql\u001b[39;00m \u001b[39mimport\u001b[39;00m Row\n\u001b[0;32m      <a href='vscode-notebook-cell:/d%3A/Dot%20Net%20Training/Miscellaneous/Azure%20Databricks/4.%20Array%20type%20coluns%20in%20spark.ipynb#ch0000002?line=2'>3</a>\u001b[0m user_df \u001b[39m=\u001b[39m spark\u001b[39m.\u001b[39mcreateDataFrame([Row(\u001b[39m*\u001b[39m\u001b[39m*\u001b[39muser) \u001b[39mfor\u001b[39;00m user \u001b[39min\u001b[39;00m users])\n\u001b[0;32m      <a href='vscode-notebook-cell:/d%3A/Dot%20Net%20Training/Miscellaneous/Azure%20Databricks/4.%20Array%20type%20coluns%20in%20spark.ipynb#ch0000002?line=3'>4</a>\u001b[0m user_df\u001b[39m.\u001b[39mprintSchema()\n",
      "\u001b[1;31mModuleNotFoundError\u001b[0m: No module named 'pyspark'"
     ]
    }
   ],
   "source": [
    "#creating spark dataframe\n",
    "from pyspark.sql import Row\n",
    "user_df = spark.createDataFrame([Row(**user) for user in users])\n",
    "user_df.printSchema()"
   ]
  },
  {
   "cell_type": "code",
   "execution_count": 5,
   "metadata": {},
   "outputs": [
    {
     "ename": "NameError",
     "evalue": "name 'user_df' is not defined",
     "output_type": "error",
     "traceback": [
      "\u001b[1;31m---------------------------------------------------------------------------\u001b[0m",
      "\u001b[1;31mNameError\u001b[0m                                 Traceback (most recent call last)",
      "\u001b[1;32md:\\Dot Net Training\\Miscellaneous\\Azure Databricks\\4. Array type coluns in spark.ipynb Cell 5'\u001b[0m in \u001b[0;36m<cell line: 1>\u001b[1;34m()\u001b[0m\n\u001b[1;32m----> <a href='vscode-notebook-cell:/d%3A/Dot%20Net%20Training/Miscellaneous/Azure%20Databricks/4.%20Array%20type%20coluns%20in%20spark.ipynb#ch0000004?line=0'>1</a>\u001b[0m user_df\u001b[39m.\u001b[39mshow()\n",
      "\u001b[1;31mNameError\u001b[0m: name 'user_df' is not defined"
     ]
    }
   ],
   "source": [
    "user_df.show()"
   ]
  },
  {
   "cell_type": "code",
   "execution_count": 6,
   "metadata": {},
   "outputs": [
    {
     "ename": "NameError",
     "evalue": "name 'user_df' is not defined",
     "output_type": "error",
     "traceback": [
      "\u001b[1;31m---------------------------------------------------------------------------\u001b[0m",
      "\u001b[1;31mNameError\u001b[0m                                 Traceback (most recent call last)",
      "\u001b[1;32md:\\Dot Net Training\\Miscellaneous\\Azure Databricks\\4. Array type coluns in spark.ipynb Cell 6'\u001b[0m in \u001b[0;36m<cell line: 2>\u001b[1;34m()\u001b[0m\n\u001b[0;32m      <a href='vscode-notebook-cell:/d%3A/Dot%20Net%20Training/Miscellaneous/Azure%20Databricks/4.%20Array%20type%20coluns%20in%20spark.ipynb#ch0000005?line=0'>1</a>\u001b[0m \u001b[39m# to view our array data\u001b[39;00m\n\u001b[1;32m----> <a href='vscode-notebook-cell:/d%3A/Dot%20Net%20Training/Miscellaneous/Azure%20Databricks/4.%20Array%20type%20coluns%20in%20spark.ipynb#ch0000005?line=1'>2</a>\u001b[0m user_df\u001b[39m.\u001b[39mselect(\u001b[39m\"\u001b[39m\u001b[39mid\u001b[39m\u001b[39m\"\u001b[39m, \u001b[39m\"\u001b[39m\u001b[39mphone_numbers\u001b[39m\u001b[39m\"\u001b[39m)\u001b[39m.\u001b[39mshow(truncate\u001b[39m=\u001b[39m\u001b[39mFalse\u001b[39;00m)\n",
      "\u001b[1;31mNameError\u001b[0m: name 'user_df' is not defined"
     ]
    }
   ],
   "source": [
    "# to view our array data\n",
    "user_df.select(\"id\", \"phone_numbers\").show(truncate=False)"
   ]
  },
  {
   "cell_type": "code",
   "execution_count": 7,
   "metadata": {},
   "outputs": [
    {
     "ename": "ModuleNotFoundError",
     "evalue": "No module named 'pyspark'",
     "output_type": "error",
     "traceback": [
      "\u001b[1;31m---------------------------------------------------------------------------\u001b[0m",
      "\u001b[1;31mModuleNotFoundError\u001b[0m                       Traceback (most recent call last)",
      "\u001b[1;32md:\\Dot Net Training\\Miscellaneous\\Azure Databricks\\4. Array type coluns in spark.ipynb Cell 7'\u001b[0m in \u001b[0;36m<cell line: 2>\u001b[1;34m()\u001b[0m\n\u001b[0;32m      <a href='vscode-notebook-cell:/d%3A/Dot%20Net%20Training/Miscellaneous/Azure%20Databricks/4.%20Array%20type%20coluns%20in%20spark.ipynb#ch0000006?line=0'>1</a>\u001b[0m \u001b[39m# now to fix this we can use explode or col or explode_outer function.\u001b[39;00m\n\u001b[1;32m----> <a href='vscode-notebook-cell:/d%3A/Dot%20Net%20Training/Miscellaneous/Azure%20Databricks/4.%20Array%20type%20coluns%20in%20spark.ipynb#ch0000006?line=1'>2</a>\u001b[0m \u001b[39mfrom\u001b[39;00m \u001b[39mpyspark\u001b[39;00m\u001b[39m.\u001b[39;00m\u001b[39msql\u001b[39;00m\u001b[39m.\u001b[39;00m\u001b[39mfunctions\u001b[39;00m \u001b[39mimport\u001b[39;00m explode, col, explode_outer\n",
      "\u001b[1;31mModuleNotFoundError\u001b[0m: No module named 'pyspark'"
     ]
    }
   ],
   "source": [
    "# now to fix this we can use explode or col or explode_outer function.\n",
    "from pyspark.sql.functions import explode, col, explode_outer"
   ]
  },
  {
   "cell_type": "code",
   "execution_count": 8,
   "metadata": {},
   "outputs": [
    {
     "ename": "NameError",
     "evalue": "name 'user_df' is not defined",
     "output_type": "error",
     "traceback": [
      "\u001b[1;31m---------------------------------------------------------------------------\u001b[0m",
      "\u001b[1;31mNameError\u001b[0m                                 Traceback (most recent call last)",
      "\u001b[1;32md:\\Dot Net Training\\Miscellaneous\\Azure Databricks\\4. Array type coluns in spark.ipynb Cell 8'\u001b[0m in \u001b[0;36m<cell line: 2>\u001b[1;34m()\u001b[0m\n\u001b[0;32m      <a href='vscode-notebook-cell:/d%3A/Dot%20Net%20Training/Miscellaneous/Azure%20Databricks/4.%20Array%20type%20coluns%20in%20spark.ipynb#ch0000007?line=0'>1</a>\u001b[0m \u001b[39m#using explode we will miss 1 records that doesn't have any phone number in our final data set.\u001b[39;00m\n\u001b[1;32m----> <a href='vscode-notebook-cell:/d%3A/Dot%20Net%20Training/Miscellaneous/Azure%20Databricks/4.%20Array%20type%20coluns%20in%20spark.ipynb#ch0000007?line=1'>2</a>\u001b[0m user_df\u001b[39m.\u001b[39mwithColumn(\u001b[39m'\u001b[39m\u001b[39mphone_number\u001b[39m\u001b[39m'\u001b[39m, explode(\u001b[39m'\u001b[39m\u001b[39mphone_numbers\u001b[39m\u001b[39m'\u001b[39m))\u001b[39m.\u001b[39mdrop(\u001b[39m'\u001b[39m\u001b[39mphone_numbers\u001b[39m\u001b[39m'\u001b[39m)\u001b[39m.\u001b[39mshow()\n",
      "\u001b[1;31mNameError\u001b[0m: name 'user_df' is not defined"
     ]
    }
   ],
   "source": [
    "#using explode we will miss 1 records that doesn't have any phone number in our final data set.\n",
    "user_df.withColumn('phone_number', explode('phone_numbers')).drop('phone_numbers').show()"
   ]
  },
  {
   "cell_type": "code",
   "execution_count": 9,
   "metadata": {},
   "outputs": [
    {
     "ename": "NameError",
     "evalue": "name 'user_df' is not defined",
     "output_type": "error",
     "traceback": [
      "\u001b[1;31m---------------------------------------------------------------------------\u001b[0m",
      "\u001b[1;31mNameError\u001b[0m                                 Traceback (most recent call last)",
      "\u001b[1;32md:\\Dot Net Training\\Miscellaneous\\Azure Databricks\\4. Array type coluns in spark.ipynb Cell 9'\u001b[0m in \u001b[0;36m<cell line: 2>\u001b[1;34m()\u001b[0m\n\u001b[0;32m      <a href='vscode-notebook-cell:/d%3A/Dot%20Net%20Training/Miscellaneous/Azure%20Databricks/4.%20Array%20type%20coluns%20in%20spark.ipynb#ch0000008?line=0'>1</a>\u001b[0m \u001b[39m#using col to separater the two numbers.\u001b[39;00m\n\u001b[1;32m----> <a href='vscode-notebook-cell:/d%3A/Dot%20Net%20Training/Miscellaneous/Azure%20Databricks/4.%20Array%20type%20coluns%20in%20spark.ipynb#ch0000008?line=1'>2</a>\u001b[0m user_df\u001b[39m.\u001b[39mselect(\u001b[39m'\u001b[39m\u001b[39mid\u001b[39m\u001b[39m'\u001b[39m, col(\u001b[39m'\u001b[39m\u001b[39mphone_numbers\u001b[39m\u001b[39m'\u001b[39m)[\u001b[39m0\u001b[39m]\u001b[39m.\u001b[39malias(\u001b[39m'\u001b[39m\u001b[39mmobile\u001b[39m\u001b[39m'\u001b[39m), col(\u001b[39m'\u001b[39m\u001b[39mphone_numbers\u001b[39m\u001b[39m'\u001b[39m)[\u001b[39m1\u001b[39m]\u001b[39m.\u001b[39malias(\u001b[39m'\u001b[39m\u001b[39mhome\u001b[39m\u001b[39m'\u001b[39m))\u001b[39m.\u001b[39mshow()\n",
      "\u001b[1;31mNameError\u001b[0m: name 'user_df' is not defined"
     ]
    }
   ],
   "source": [
    "#using col to separater the two numbers.\n",
    "user_df.select('id', col('phone_numbers')[0].alias('mobile'), col('phone_numbers')[1].alias('home')).show()"
   ]
  },
  {
   "cell_type": "code",
   "execution_count": 10,
   "metadata": {},
   "outputs": [
    {
     "ename": "NameError",
     "evalue": "name 'user_df' is not defined",
     "output_type": "error",
     "traceback": [
      "\u001b[1;31m---------------------------------------------------------------------------\u001b[0m",
      "\u001b[1;31mNameError\u001b[0m                                 Traceback (most recent call last)",
      "\u001b[1;32md:\\Dot Net Training\\Miscellaneous\\Azure Databricks\\4. Array type coluns in spark.ipynb Cell 10'\u001b[0m in \u001b[0;36m<cell line: 1>\u001b[1;34m()\u001b[0m\n\u001b[1;32m----> <a href='vscode-notebook-cell:/d%3A/Dot%20Net%20Training/Miscellaneous/Azure%20Databricks/4.%20Array%20type%20coluns%20in%20spark.ipynb#ch0000009?line=0'>1</a>\u001b[0m user_df\u001b[39m.\u001b[39mwithColumn(\u001b[39m'\u001b[39m\u001b[39mphone_number\u001b[39m\u001b[39m'\u001b[39m, explode_outer(\u001b[39m'\u001b[39m\u001b[39mphone_numbers\u001b[39m\u001b[39m'\u001b[39m))\u001b[39m.\u001b[39mdrop(\u001b[39m'\u001b[39m\u001b[39mphone_numbers\u001b[39m\u001b[39m'\u001b[39m)\u001b[39m.\u001b[39mshow()\n",
      "\u001b[1;31mNameError\u001b[0m: name 'user_df' is not defined"
     ]
    }
   ],
   "source": [
    "user_df.withColumn('phone_number', explode_outer('phone_numbers')).drop('phone_numbers').show()"
   ]
  },
  {
   "cell_type": "code",
   "execution_count": null,
   "metadata": {},
   "outputs": [],
   "source": []
  }
 ],
 "metadata": {
  "interpreter": {
   "hash": "fdc983804108b630f6a4d8a2de07d5c0503f1994d98b4af092e862cbb9507d70"
  },
  "kernelspec": {
   "display_name": "Python 3.10.4 64-bit",
   "language": "python",
   "name": "python3"
  },
  "language_info": {
   "codemirror_mode": {
    "name": "ipython",
    "version": 3
   },
   "file_extension": ".py",
   "mimetype": "text/x-python",
   "name": "python",
   "nbconvert_exporter": "python",
   "pygments_lexer": "ipython3",
   "version": "3.10.4"
  },
  "orig_nbformat": 4
 },
 "nbformat": 4,
 "nbformat_minor": 2
}
